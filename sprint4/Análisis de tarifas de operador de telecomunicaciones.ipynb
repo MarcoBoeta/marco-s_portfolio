{
 "cells": [
  {
   "cell_type": "markdown",
   "metadata": {},
   "source": [
    "# Análisis de tarifas de operador de telecomunicaciones\n"
   ]
  },
  {
   "cell_type": "markdown",
   "metadata": {
    "id": "3rYiDeEH0q0f"
   },
   "source": [
    "## ¿Cuál es la mejor tarifa?\n",
    "\n",
    "El operador de telecomunicaciones Megaline ofrece a sus clientes dos tarifas de prepago, Surf y Ultimate. El departamento comercial requiere saber cuál de las tarifas genera más ingresos para poder ajustar el presupuesto de publicidad.\n",
    "\n",
    "Se realizará un análisis preliminar de las tarifas basado en una selección de clientes relativamente pequeña. Se tendrán los datos de 500 clientes de Megaline: quiénes son los clientes, de dónde son, qué tarifa usan, así como la cantidad de llamadas que hicieron y los mensajes de texto que enviaron en 2018. El objetivo es analizar el comportamiento de los clientes y determinar qué tarifa de prepago genera más ingresos."
   ]
  },
  {
   "cell_type": "markdown",
   "metadata": {
    "id": "VNddPNRQ0q0w"
   },
   "source": [
    "## Plan de Trabajo\n",
    "\n",
    "Primero comenzaremos cargando las librerías que creemos que necesitaremos: pandas, stats y numpy. Cargaremos y analizaremos la información que contiene cada archivo de datos para observar su formato, como se divide y como se conectan entre sí. Comenzaremos a revisar cada archivo primero por sus duplicados y después los valores ausentes, en base a lo que se observe decidir si corregir, eliminar o rellenar los datos. Después realizaremos filtrado de datos para obtener la información con la que trabajaremos para conseguir insights de lo que nos cuentan estos. Finalizaremos poniendo a prueba algunas hipótesis para poder sacar conclusiones de lo que nos transmiten los datos."
   ]
  },
  {
   "cell_type": "markdown",
   "metadata": {
    "id": "MQi4IPy70q0y"
   },
   "source": [
    "## Carga de datos y librerías"
   ]
  },
  {
   "cell_type": "code",
   "execution_count": 1,
   "metadata": {
    "id": "MtYIuBxu0q0z"
   },
   "outputs": [],
   "source": [
    "# Cargar todas las librerías\n",
    "from scipy import stats as st\n",
    "import numpy as np\n",
    "import pandas as pd\n",
    "from matplotlib import pyplot as plt\n",
    "import seaborn as sns\n",
    "from scipy.stats import levene"
   ]
  },
  {
   "cell_type": "code",
   "execution_count": 3,
   "metadata": {
    "id": "CCqPW7rS0q01"
   },
   "outputs": [],
   "source": [
    "# Cargar los archivos de datos en diferentes DataFrames\n",
    "calls= pd.read_csv(r\"C:\\Users\\marco\\Documents\\tripleten_projects\\final_projects\\sprint4\\megaline_calls.csv\")\n",
    "internet= pd.read_csv(r\"C:\\Users\\marco\\Documents\\tripleten_projects\\final_projects\\sprint4\\megaline_internet.csv\")\n",
    "messages= pd.read_csv(r\"C:\\Users\\marco\\Documents\\tripleten_projects\\final_projects\\sprint4\\megaline_messages.csv\")\n",
    "plans= pd.read_csv(r\"C:\\Users\\marco\\Documents\\tripleten_projects\\final_projects\\sprint4\\megaline_plans.csv\")\n",
    "users= pd.read_csv(r\"C:\\Users\\marco\\Documents\\tripleten_projects\\final_projects\\sprint4\\megaline_users.csv\")"
   ]
  },
  {
   "cell_type": "markdown",
   "metadata": {
    "id": "69qqoJ3r0q01"
   },
   "source": [
    "# Preparar los datos"
   ]
  },
  {
   "cell_type": "markdown",
   "metadata": {
    "id": "ohBhimvH0q01"
   },
   "source": [
    "## Tarifas"
   ]
  },
  {
   "cell_type": "code",
   "execution_count": 4,
   "metadata": {
    "id": "GptqP3Q40q02"
   },
   "outputs": [
    {
     "name": "stdout",
     "output_type": "stream",
     "text": [
      "<class 'pandas.core.frame.DataFrame'>\n",
      "RangeIndex: 2 entries, 0 to 1\n",
      "Data columns (total 8 columns):\n",
      " #   Column                 Non-Null Count  Dtype  \n",
      "---  ------                 --------------  -----  \n",
      " 0   messages_included      2 non-null      int64  \n",
      " 1   mb_per_month_included  2 non-null      int64  \n",
      " 2   minutes_included       2 non-null      int64  \n",
      " 3   usd_monthly_pay        2 non-null      int64  \n",
      " 4   usd_per_gb             2 non-null      int64  \n",
      " 5   usd_per_message        2 non-null      float64\n",
      " 6   usd_per_minute         2 non-null      float64\n",
      " 7   plan_name              2 non-null      object \n",
      "dtypes: float64(2), int64(5), object(1)\n",
      "memory usage: 260.0+ bytes\n"
     ]
    }
   ],
   "source": [
    "# Imprimir la información general sobre el DataFrame de las tarifas\n",
    "plans.info()\n"
   ]
  },
  {
   "cell_type": "code",
   "execution_count": 5,
   "metadata": {
    "id": "64xzjwL70q02"
   },
   "outputs": [
    {
     "data": {
      "text/html": [
       "<div>\n",
       "<style scoped>\n",
       "    .dataframe tbody tr th:only-of-type {\n",
       "        vertical-align: middle;\n",
       "    }\n",
       "\n",
       "    .dataframe tbody tr th {\n",
       "        vertical-align: top;\n",
       "    }\n",
       "\n",
       "    .dataframe thead th {\n",
       "        text-align: right;\n",
       "    }\n",
       "</style>\n",
       "<table border=\"1\" class=\"dataframe\">\n",
       "  <thead>\n",
       "    <tr style=\"text-align: right;\">\n",
       "      <th></th>\n",
       "      <th>messages_included</th>\n",
       "      <th>mb_per_month_included</th>\n",
       "      <th>minutes_included</th>\n",
       "      <th>usd_monthly_pay</th>\n",
       "      <th>usd_per_gb</th>\n",
       "      <th>usd_per_message</th>\n",
       "      <th>usd_per_minute</th>\n",
       "      <th>plan_name</th>\n",
       "    </tr>\n",
       "  </thead>\n",
       "  <tbody>\n",
       "    <tr>\n",
       "      <th>0</th>\n",
       "      <td>50</td>\n",
       "      <td>15360</td>\n",
       "      <td>500</td>\n",
       "      <td>20</td>\n",
       "      <td>10</td>\n",
       "      <td>0.03</td>\n",
       "      <td>0.03</td>\n",
       "      <td>surf</td>\n",
       "    </tr>\n",
       "    <tr>\n",
       "      <th>1</th>\n",
       "      <td>1000</td>\n",
       "      <td>30720</td>\n",
       "      <td>3000</td>\n",
       "      <td>70</td>\n",
       "      <td>7</td>\n",
       "      <td>0.01</td>\n",
       "      <td>0.01</td>\n",
       "      <td>ultimate</td>\n",
       "    </tr>\n",
       "  </tbody>\n",
       "</table>\n",
       "</div>"
      ],
      "text/plain": [
       "   messages_included  mb_per_month_included  minutes_included  \\\n",
       "0                 50                  15360               500   \n",
       "1               1000                  30720              3000   \n",
       "\n",
       "   usd_monthly_pay  usd_per_gb  usd_per_message  usd_per_minute plan_name  \n",
       "0               20          10             0.03            0.03      surf  \n",
       "1               70           7             0.01            0.01  ultimate  "
      ]
     },
     "execution_count": 5,
     "metadata": {},
     "output_type": "execute_result"
    }
   ],
   "source": [
    "# Imprimir los datos para las tarifas\n",
    "plans.head(10)\n"
   ]
  },
  {
   "cell_type": "markdown",
   "metadata": {
    "id": "mEc_3_hs0q02"
   },
   "source": [
    "Vemos que solo son dos filas de datos, describiendo los únicos dos planes que el servicio maneja, no se ven falta de datos o errores en los tipos de datos."
   ]
  },
  {
   "cell_type": "markdown",
   "metadata": {
    "id": "LJir7bml0q03"
   },
   "source": [
    "### Enriquecer los datos"
   ]
  },
  {
   "cell_type": "code",
   "execution_count": 6,
   "metadata": {
    "id": "eqADpCfg0q04"
   },
   "outputs": [
    {
     "data": {
      "text/html": [
       "<div>\n",
       "<style scoped>\n",
       "    .dataframe tbody tr th:only-of-type {\n",
       "        vertical-align: middle;\n",
       "    }\n",
       "\n",
       "    .dataframe tbody tr th {\n",
       "        vertical-align: top;\n",
       "    }\n",
       "\n",
       "    .dataframe thead th {\n",
       "        text-align: right;\n",
       "    }\n",
       "</style>\n",
       "<table border=\"1\" class=\"dataframe\">\n",
       "  <thead>\n",
       "    <tr style=\"text-align: right;\">\n",
       "      <th></th>\n",
       "      <th>messages_included</th>\n",
       "      <th>mb_per_month_included</th>\n",
       "      <th>minutes_included</th>\n",
       "      <th>usd_monthly_pay</th>\n",
       "      <th>usd_per_gb</th>\n",
       "      <th>usd_per_message</th>\n",
       "      <th>usd_per_minute</th>\n",
       "      <th>plan_name</th>\n",
       "    </tr>\n",
       "  </thead>\n",
       "  <tbody>\n",
       "    <tr>\n",
       "      <th>0</th>\n",
       "      <td>50</td>\n",
       "      <td>15.0</td>\n",
       "      <td>500</td>\n",
       "      <td>20</td>\n",
       "      <td>10</td>\n",
       "      <td>0.03</td>\n",
       "      <td>0.03</td>\n",
       "      <td>surf</td>\n",
       "    </tr>\n",
       "    <tr>\n",
       "      <th>1</th>\n",
       "      <td>1000</td>\n",
       "      <td>30.0</td>\n",
       "      <td>3000</td>\n",
       "      <td>70</td>\n",
       "      <td>7</td>\n",
       "      <td>0.01</td>\n",
       "      <td>0.01</td>\n",
       "      <td>ultimate</td>\n",
       "    </tr>\n",
       "  </tbody>\n",
       "</table>\n",
       "</div>"
      ],
      "text/plain": [
       "   messages_included  mb_per_month_included  minutes_included  \\\n",
       "0                 50                   15.0               500   \n",
       "1               1000                   30.0              3000   \n",
       "\n",
       "   usd_monthly_pay  usd_per_gb  usd_per_message  usd_per_minute plan_name  \n",
       "0               20          10             0.03            0.03      surf  \n",
       "1               70           7             0.01            0.01  ultimate  "
      ]
     },
     "execution_count": 6,
     "metadata": {},
     "output_type": "execute_result"
    }
   ],
   "source": [
    "plans['mb_per_month_included']=plans['mb_per_month_included']/1024\n",
    "\n",
    "plans.head(10)"
   ]
  },
  {
   "cell_type": "markdown",
   "metadata": {},
   "source": [
    "Se realiza cambio en las unidades de la columna `'mb_per_month_included'` para manejarlo en gb."
   ]
  },
  {
   "cell_type": "markdown",
   "metadata": {
    "id": "1n2X6WXf0q04"
   },
   "source": [
    "## Usuarios/as"
   ]
  },
  {
   "cell_type": "code",
   "execution_count": 7,
   "metadata": {
    "id": "2NgjWFqx0q05"
   },
   "outputs": [
    {
     "name": "stdout",
     "output_type": "stream",
     "text": [
      "<class 'pandas.core.frame.DataFrame'>\n",
      "RangeIndex: 500 entries, 0 to 499\n",
      "Data columns (total 8 columns):\n",
      " #   Column      Non-Null Count  Dtype \n",
      "---  ------      --------------  ----- \n",
      " 0   user_id     500 non-null    int64 \n",
      " 1   first_name  500 non-null    object\n",
      " 2   last_name   500 non-null    object\n",
      " 3   age         500 non-null    int64 \n",
      " 4   city        500 non-null    object\n",
      " 5   reg_date    500 non-null    object\n",
      " 6   plan        500 non-null    object\n",
      " 7   churn_date  34 non-null     object\n",
      "dtypes: int64(2), object(6)\n",
      "memory usage: 31.4+ KB\n"
     ]
    }
   ],
   "source": [
    "# Imprimir la información general/resumida sobre el DataFrame de usuarios\n",
    "users.info()\n"
   ]
  },
  {
   "cell_type": "code",
   "execution_count": 19,
   "metadata": {
    "id": "1IN1L9uh0q05"
   },
   "outputs": [
    {
     "name": "stdout",
     "output_type": "stream",
     "text": [
      "   user_id first_name  last_name  age                                    city  \\\n",
      "0     1000   Anamaria      Bauer   45   Atlanta-Sandy Springs-Roswell, GA MSA   \n",
      "1     1001     Mickey  Wilkerson   28         Seattle-Tacoma-Bellevue, WA MSA   \n",
      "2     1002     Carlee    Hoffman   36    Las Vegas-Henderson-Paradise, NV MSA   \n",
      "3     1003   Reynaldo    Jenkins   52                           Tulsa, OK MSA   \n",
      "4     1004    Leonila   Thompson   40         Seattle-Tacoma-Bellevue, WA MSA   \n",
      "5     1005      Livia    Shields   31     Dallas-Fort Worth-Arlington, TX MSA   \n",
      "6     1006     Jesusa   Bradford   73  San Francisco-Oakland-Berkeley, CA MSA   \n",
      "7     1007    Eusebio      Welch   42           Grand Rapids-Kentwood, MI MSA   \n",
      "8     1008      Emely    Hoffman   53       Orlando-Kissimmee-Sanford, FL MSA   \n",
      "9     1009      Gerry     Little   19  San Jose-Sunnyvale-Santa Clara, CA MSA   \n",
      "\n",
      "    reg_date      plan churn_date  \n",
      "0 2018-12-24  ultimate 2099-12-12  \n",
      "1 2018-08-13      surf 2099-12-12  \n",
      "2 2018-10-21      surf 2099-12-12  \n",
      "3 2018-01-28      surf 2099-12-12  \n",
      "4 2018-05-23      surf 2099-12-12  \n",
      "5 2018-11-29      surf 2099-12-12  \n",
      "6 2018-11-27  ultimate 2018-12-18  \n",
      "7 2018-07-11      surf 2099-12-12  \n",
      "8 2018-08-03  ultimate 2099-12-12  \n",
      "9 2018-04-22      surf 2099-12-12  \n"
     ]
    },
    {
     "data": {
      "text/html": [
       "<div>\n",
       "<style scoped>\n",
       "    .dataframe tbody tr th:only-of-type {\n",
       "        vertical-align: middle;\n",
       "    }\n",
       "\n",
       "    .dataframe tbody tr th {\n",
       "        vertical-align: top;\n",
       "    }\n",
       "\n",
       "    .dataframe thead th {\n",
       "        text-align: right;\n",
       "    }\n",
       "</style>\n",
       "<table border=\"1\" class=\"dataframe\">\n",
       "  <thead>\n",
       "    <tr style=\"text-align: right;\">\n",
       "      <th></th>\n",
       "      <th>user_id</th>\n",
       "      <th>age</th>\n",
       "      <th>reg_date</th>\n",
       "      <th>churn_date</th>\n",
       "    </tr>\n",
       "  </thead>\n",
       "  <tbody>\n",
       "    <tr>\n",
       "      <th>count</th>\n",
       "      <td>500.000000</td>\n",
       "      <td>500.000000</td>\n",
       "      <td>500</td>\n",
       "      <td>500</td>\n",
       "    </tr>\n",
       "    <tr>\n",
       "      <th>mean</th>\n",
       "      <td>1249.500000</td>\n",
       "      <td>45.486000</td>\n",
       "      <td>2018-06-24 16:30:43.200000</td>\n",
       "      <td>2094-06-07 02:35:31.199999488</td>\n",
       "    </tr>\n",
       "    <tr>\n",
       "      <th>min</th>\n",
       "      <td>1000.000000</td>\n",
       "      <td>18.000000</td>\n",
       "      <td>2018-01-01 00:00:00</td>\n",
       "      <td>2018-07-31 00:00:00</td>\n",
       "    </tr>\n",
       "    <tr>\n",
       "      <th>25%</th>\n",
       "      <td>1124.750000</td>\n",
       "      <td>30.000000</td>\n",
       "      <td>2018-03-25 18:00:00</td>\n",
       "      <td>2099-12-12 00:00:00</td>\n",
       "    </tr>\n",
       "    <tr>\n",
       "      <th>50%</th>\n",
       "      <td>1249.500000</td>\n",
       "      <td>46.000000</td>\n",
       "      <td>2018-06-20 00:00:00</td>\n",
       "      <td>2099-12-12 00:00:00</td>\n",
       "    </tr>\n",
       "    <tr>\n",
       "      <th>75%</th>\n",
       "      <td>1374.250000</td>\n",
       "      <td>61.000000</td>\n",
       "      <td>2018-09-20 06:00:00</td>\n",
       "      <td>2099-12-12 00:00:00</td>\n",
       "    </tr>\n",
       "    <tr>\n",
       "      <th>max</th>\n",
       "      <td>1499.000000</td>\n",
       "      <td>75.000000</td>\n",
       "      <td>2018-12-31 00:00:00</td>\n",
       "      <td>2099-12-12 00:00:00</td>\n",
       "    </tr>\n",
       "    <tr>\n",
       "      <th>std</th>\n",
       "      <td>144.481833</td>\n",
       "      <td>16.972269</td>\n",
       "      <td>NaN</td>\n",
       "      <td>NaN</td>\n",
       "    </tr>\n",
       "  </tbody>\n",
       "</table>\n",
       "</div>"
      ],
      "text/plain": [
       "           user_id         age                    reg_date  \\\n",
       "count   500.000000  500.000000                         500   \n",
       "mean   1249.500000   45.486000  2018-06-24 16:30:43.200000   \n",
       "min    1000.000000   18.000000         2018-01-01 00:00:00   \n",
       "25%    1124.750000   30.000000         2018-03-25 18:00:00   \n",
       "50%    1249.500000   46.000000         2018-06-20 00:00:00   \n",
       "75%    1374.250000   61.000000         2018-09-20 06:00:00   \n",
       "max    1499.000000   75.000000         2018-12-31 00:00:00   \n",
       "std     144.481833   16.972269                         NaN   \n",
       "\n",
       "                          churn_date  \n",
       "count                            500  \n",
       "mean   2094-06-07 02:35:31.199999488  \n",
       "min              2018-07-31 00:00:00  \n",
       "25%              2099-12-12 00:00:00  \n",
       "50%              2099-12-12 00:00:00  \n",
       "75%              2099-12-12 00:00:00  \n",
       "max              2099-12-12 00:00:00  \n",
       "std                              NaN  "
      ]
     },
     "execution_count": 19,
     "metadata": {},
     "output_type": "execute_result"
    }
   ],
   "source": [
    "# Imprimir una muestra de datos para usuarios\n",
    "print(users.head(10))\n",
    "users.describe()"
   ]
  },
  {
   "cell_type": "markdown",
   "metadata": {
    "id": "dCZoUq4f0q06"
   },
   "source": [
    "Observamos que muchos datos en `'churn_date'` están vacíos, tendremos que darles un valor para poder usarlos y no borrarlos. También podemos aprovechar y cambiar el tipo de dato a datetime. Observando los datos mediante `describe()` vemos que contamos con el grupo de usuarios del 1000 al 1499, en un rango de edad de 18 a 75 años, con una media aprox. de 45 años."
   ]
  },
  {
   "cell_type": "markdown",
   "metadata": {
    "id": "BX5FQh_I0q06"
   },
   "source": [
    "### Corregir los datos"
   ]
  },
  {
   "cell_type": "code",
   "execution_count": 20,
   "metadata": {
    "id": "yUqX-K0C0q07"
   },
   "outputs": [
    {
     "name": "stdout",
     "output_type": "stream",
     "text": [
      "0\n",
      "   user_id first_name  last_name  age                                    city  \\\n",
      "0     1000   Anamaria      Bauer   45   Atlanta-Sandy Springs-Roswell, GA MSA   \n",
      "1     1001     Mickey  Wilkerson   28         Seattle-Tacoma-Bellevue, WA MSA   \n",
      "2     1002     Carlee    Hoffman   36    Las Vegas-Henderson-Paradise, NV MSA   \n",
      "3     1003   Reynaldo    Jenkins   52                           Tulsa, OK MSA   \n",
      "4     1004    Leonila   Thompson   40         Seattle-Tacoma-Bellevue, WA MSA   \n",
      "5     1005      Livia    Shields   31     Dallas-Fort Worth-Arlington, TX MSA   \n",
      "6     1006     Jesusa   Bradford   73  San Francisco-Oakland-Berkeley, CA MSA   \n",
      "7     1007    Eusebio      Welch   42           Grand Rapids-Kentwood, MI MSA   \n",
      "8     1008      Emely    Hoffman   53       Orlando-Kissimmee-Sanford, FL MSA   \n",
      "9     1009      Gerry     Little   19  San Jose-Sunnyvale-Santa Clara, CA MSA   \n",
      "\n",
      "    reg_date      plan churn_date  \n",
      "0 2018-12-24  ultimate 2099-12-12  \n",
      "1 2018-08-13      surf 2099-12-12  \n",
      "2 2018-10-21      surf 2099-12-12  \n",
      "3 2018-01-28      surf 2099-12-12  \n",
      "4 2018-05-23      surf 2099-12-12  \n",
      "5 2018-11-29      surf 2099-12-12  \n",
      "6 2018-11-27  ultimate 2018-12-18  \n",
      "7 2018-07-11      surf 2099-12-12  \n",
      "8 2018-08-03  ultimate 2099-12-12  \n",
      "9 2018-04-22      surf 2099-12-12  \n"
     ]
    }
   ],
   "source": [
    "print(users['user_id'].duplicated().sum())\n",
    "\n",
    "# Se reemplazan los valores por un valor asignado para que no esten vacíos\n",
    "users['churn_date'].fillna('2099-12-12',inplace=True) \n",
    "print(users.head(10))"
   ]
  },
  {
   "cell_type": "code",
   "execution_count": 21,
   "metadata": {},
   "outputs": [
    {
     "name": "stdout",
     "output_type": "stream",
     "text": [
      "<class 'pandas.core.frame.DataFrame'>\n",
      "RangeIndex: 500 entries, 0 to 499\n",
      "Data columns (total 8 columns):\n",
      " #   Column      Non-Null Count  Dtype         \n",
      "---  ------      --------------  -----         \n",
      " 0   user_id     500 non-null    int64         \n",
      " 1   first_name  500 non-null    object        \n",
      " 2   last_name   500 non-null    object        \n",
      " 3   age         500 non-null    int64         \n",
      " 4   city        500 non-null    object        \n",
      " 5   reg_date    500 non-null    datetime64[ns]\n",
      " 6   plan        500 non-null    object        \n",
      " 7   churn_date  500 non-null    datetime64[ns]\n",
      "dtypes: datetime64[ns](2), int64(2), object(4)\n",
      "memory usage: 31.4+ KB\n"
     ]
    }
   ],
   "source": [
    "# Se transforman los formatos a datetime\n",
    "users['churn_date']=pd.to_datetime(users['churn_date'], format= '%Y-%m-%d') \n",
    "users['reg_date']=pd.to_datetime(users['reg_date'], format= '%Y-%m-%d')\n",
    "users.info()"
   ]
  },
  {
   "cell_type": "markdown",
   "metadata": {},
   "source": [
    "Ahora que ya realizamos los cambios en nuestros datos, tenemos las fechas en formato datetime, para un manejo más sencillo a la hora de filtrarlas u obtener información de estas, tenemos también los datos completos de la columna `'churn_date'` asignando un valor para los valores nulos, de manera que podamos excluirlo fácilmente si ocupamos usar la información de esta columna."
   ]
  },
  {
   "cell_type": "markdown",
   "metadata": {
    "id": "o7MeKCid0q08"
   },
   "source": [
    "## Llamadas"
   ]
  },
  {
   "cell_type": "code",
   "execution_count": 24,
   "metadata": {
    "id": "6dDlnoDm0q08"
   },
   "outputs": [
    {
     "name": "stdout",
     "output_type": "stream",
     "text": [
      "<class 'pandas.core.frame.DataFrame'>\n",
      "RangeIndex: 137735 entries, 0 to 137734\n",
      "Data columns (total 5 columns):\n",
      " #   Column     Non-Null Count   Dtype         \n",
      "---  ------     --------------   -----         \n",
      " 0   call_id    137735 non-null  int32         \n",
      " 1   user_id    137735 non-null  int64         \n",
      " 2   call_date  137735 non-null  datetime64[ns]\n",
      " 3   duration   137735 non-null  float64       \n",
      " 4   month      137735 non-null  int32         \n",
      "dtypes: datetime64[ns](1), float64(1), int32(2), int64(1)\n",
      "memory usage: 4.2 MB\n",
      "None\n"
     ]
    },
    {
     "data": {
      "text/html": [
       "<div>\n",
       "<style scoped>\n",
       "    .dataframe tbody tr th:only-of-type {\n",
       "        vertical-align: middle;\n",
       "    }\n",
       "\n",
       "    .dataframe tbody tr th {\n",
       "        vertical-align: top;\n",
       "    }\n",
       "\n",
       "    .dataframe thead th {\n",
       "        text-align: right;\n",
       "    }\n",
       "</style>\n",
       "<table border=\"1\" class=\"dataframe\">\n",
       "  <thead>\n",
       "    <tr style=\"text-align: right;\">\n",
       "      <th></th>\n",
       "      <th>call_id</th>\n",
       "      <th>user_id</th>\n",
       "      <th>call_date</th>\n",
       "      <th>duration</th>\n",
       "      <th>month</th>\n",
       "    </tr>\n",
       "  </thead>\n",
       "  <tbody>\n",
       "    <tr>\n",
       "      <th>count</th>\n",
       "      <td>1.377350e+05</td>\n",
       "      <td>137735.000000</td>\n",
       "      <td>137735</td>\n",
       "      <td>137735.000000</td>\n",
       "      <td>137735.000000</td>\n",
       "    </tr>\n",
       "    <tr>\n",
       "      <th>mean</th>\n",
       "      <td>1.165150e+06</td>\n",
       "      <td>1247.658046</td>\n",
       "      <td>2018-09-25 19:57:56.319018496</td>\n",
       "      <td>7.146673</td>\n",
       "      <td>9.320797</td>\n",
       "    </tr>\n",
       "    <tr>\n",
       "      <th>min</th>\n",
       "      <td>1.001000e+04</td>\n",
       "      <td>1000.000000</td>\n",
       "      <td>2018-01-15 00:00:00</td>\n",
       "      <td>0.000000</td>\n",
       "      <td>1.000000</td>\n",
       "    </tr>\n",
       "    <tr>\n",
       "      <th>25%</th>\n",
       "      <td>1.499465e+05</td>\n",
       "      <td>1128.000000</td>\n",
       "      <td>2018-08-08 00:00:00</td>\n",
       "      <td>2.000000</td>\n",
       "      <td>8.000000</td>\n",
       "    </tr>\n",
       "    <tr>\n",
       "      <th>50%</th>\n",
       "      <td>1.165104e+06</td>\n",
       "      <td>1247.000000</td>\n",
       "      <td>2018-10-12 00:00:00</td>\n",
       "      <td>6.000000</td>\n",
       "      <td>10.000000</td>\n",
       "    </tr>\n",
       "    <tr>\n",
       "      <th>75%</th>\n",
       "      <td>1.333308e+06</td>\n",
       "      <td>1365.000000</td>\n",
       "      <td>2018-11-26 00:00:00</td>\n",
       "      <td>11.000000</td>\n",
       "      <td>11.000000</td>\n",
       "    </tr>\n",
       "    <tr>\n",
       "      <th>max</th>\n",
       "      <td>1.465106e+07</td>\n",
       "      <td>1499.000000</td>\n",
       "      <td>2018-12-31 00:00:00</td>\n",
       "      <td>38.000000</td>\n",
       "      <td>12.000000</td>\n",
       "    </tr>\n",
       "    <tr>\n",
       "      <th>std</th>\n",
       "      <td>1.643471e+06</td>\n",
       "      <td>139.416268</td>\n",
       "      <td>NaN</td>\n",
       "      <td>5.953919</td>\n",
       "      <td>2.412550</td>\n",
       "    </tr>\n",
       "  </tbody>\n",
       "</table>\n",
       "</div>"
      ],
      "text/plain": [
       "            call_id        user_id                      call_date  \\\n",
       "count  1.377350e+05  137735.000000                         137735   \n",
       "mean   1.165150e+06    1247.658046  2018-09-25 19:57:56.319018496   \n",
       "min    1.001000e+04    1000.000000            2018-01-15 00:00:00   \n",
       "25%    1.499465e+05    1128.000000            2018-08-08 00:00:00   \n",
       "50%    1.165104e+06    1247.000000            2018-10-12 00:00:00   \n",
       "75%    1.333308e+06    1365.000000            2018-11-26 00:00:00   \n",
       "max    1.465106e+07    1499.000000            2018-12-31 00:00:00   \n",
       "std    1.643471e+06     139.416268                            NaN   \n",
       "\n",
       "            duration          month  \n",
       "count  137735.000000  137735.000000  \n",
       "mean        7.146673       9.320797  \n",
       "min         0.000000       1.000000  \n",
       "25%         2.000000       8.000000  \n",
       "50%         6.000000      10.000000  \n",
       "75%        11.000000      11.000000  \n",
       "max        38.000000      12.000000  \n",
       "std         5.953919       2.412550  "
      ]
     },
     "execution_count": 24,
     "metadata": {},
     "output_type": "execute_result"
    }
   ],
   "source": [
    "# Imprimir la información general/resumida sobre el DataFrame de las llamadas\n",
    "print(calls.info())\n",
    "calls.describe()"
   ]
  },
  {
   "cell_type": "code",
   "execution_count": 25,
   "metadata": {
    "id": "kuh1vlNB0q09"
   },
   "outputs": [
    {
     "name": "stdout",
     "output_type": "stream",
     "text": [
      "    call_id  user_id  call_date  duration  month\n",
      "0    100093     1000 2018-12-27       9.0     12\n",
      "1   1000145     1000 2018-12-27      14.0     12\n",
      "2   1000247     1000 2018-12-27      15.0     12\n",
      "3   1000309     1000 2018-12-28       6.0     12\n",
      "4   1000380     1000 2018-12-30       5.0     12\n",
      "5   1000388     1000 2018-12-31       3.0     12\n",
      "6   1000510     1000 2018-12-27       6.0     12\n",
      "7   1000521     1000 2018-12-28      15.0     12\n",
      "8   1000530     1000 2018-12-28       6.0     12\n",
      "9   1000544     1000 2018-12-26       5.0     12\n",
      "10  1000693     1000 2018-12-31       5.0     12\n",
      "11  1000705     1000 2018-12-31      13.0     12\n",
      "12  1000735     1000 2018-12-29       2.0     12\n",
      "13  1000778     1000 2018-12-28       4.0     12\n",
      "14  1000826     1000 2018-12-26      10.0     12\n",
      "15  1000842     1000 2018-12-27       6.0     12\n",
      "16    10010     1001 2018-09-06      11.0      9\n",
      "17    10011     1001 2018-10-12       1.0     10\n",
      "18    10012     1001 2018-10-17      16.0     10\n",
      "19    10014     1001 2018-12-05       0.0     12\n",
      "0\n"
     ]
    }
   ],
   "source": [
    "# Imprimir una muestra de datos para las llamadas\n",
    "print(calls.head(20))\n",
    "\n",
    "# Se revisa si hay duplicados\n",
    "print(calls['call_id'].duplicated().sum())"
   ]
  },
  {
   "cell_type": "markdown",
   "metadata": {
    "id": "DOAxYJSx0q09"
   },
   "source": [
    "Podemos cambiar el tipo de dato de `'call_date'` a datetime para facilitar su uso. No se encuentran duplicados. No se ve error en los datos, sin embargo el formato de la columna de id es algo inconvencional, se observa que cada llamada tiene un id para identificarla, pero además está agregado el `'user_id'` al incio del id de llamada, lo cual puede causar problemas a la hora de querer buscar una. Se cambiará el tipo de dato a 'int64' y se renombrará la columna `'call_id'`."
   ]
  },
  {
   "cell_type": "markdown",
   "metadata": {
    "id": "S7hzxmbX0q0-"
   },
   "source": [
    "### Corregir los datos"
   ]
  },
  {
   "cell_type": "code",
   "execution_count": 26,
   "metadata": {
    "id": "S2r8xA4f0q0-"
   },
   "outputs": [
    {
     "name": "stdout",
     "output_type": "stream",
     "text": [
      "<class 'pandas.core.frame.DataFrame'>\n",
      "RangeIndex: 137735 entries, 0 to 137734\n",
      "Data columns (total 5 columns):\n",
      " #   Column     Non-Null Count   Dtype         \n",
      "---  ------     --------------   -----         \n",
      " 0   call_id    137735 non-null  int32         \n",
      " 1   user_id    137735 non-null  int64         \n",
      " 2   call_date  137735 non-null  datetime64[ns]\n",
      " 3   duration   137735 non-null  float64       \n",
      " 4   month      137735 non-null  int32         \n",
      "dtypes: datetime64[ns](1), float64(1), int32(2), int64(1)\n",
      "memory usage: 4.2 MB\n"
     ]
    }
   ],
   "source": [
    "# Se hace el cambio a datetime\n",
    "calls['call_date']=pd.to_datetime(calls['call_date'], format= '%Y-%m-%d') \n",
    "calls.info()"
   ]
  },
  {
   "cell_type": "code",
   "execution_count": 27,
   "metadata": {
    "scrolled": false
   },
   "outputs": [
    {
     "name": "stdout",
     "output_type": "stream",
     "text": [
      "<class 'pandas.core.frame.DataFrame'>\n",
      "RangeIndex: 137735 entries, 0 to 137734\n",
      "Data columns (total 5 columns):\n",
      " #   Column     Non-Null Count   Dtype         \n",
      "---  ------     --------------   -----         \n",
      " 0   call_id    137735 non-null  int32         \n",
      " 1   user_id    137735 non-null  int64         \n",
      " 2   call_date  137735 non-null  datetime64[ns]\n",
      " 3   duration   137735 non-null  float64       \n",
      " 4   month      137735 non-null  int32         \n",
      "dtypes: datetime64[ns](1), float64(1), int32(2), int64(1)\n",
      "memory usage: 4.2 MB\n",
      "   call_id  user_id  call_date  duration  month\n",
      "0   100093     1000 2018-12-27       9.0     12\n",
      "1  1000145     1000 2018-12-27      14.0     12\n",
      "2  1000247     1000 2018-12-27      15.0     12\n",
      "3  1000309     1000 2018-12-28       6.0     12\n",
      "4  1000380     1000 2018-12-30       5.0     12\n",
      "5  1000388     1000 2018-12-31       3.0     12\n",
      "6  1000510     1000 2018-12-27       6.0     12\n",
      "7  1000521     1000 2018-12-28      15.0     12\n",
      "8  1000530     1000 2018-12-28       6.0     12\n",
      "9  1000544     1000 2018-12-26       5.0     12\n"
     ]
    }
   ],
   "source": [
    "calls.rename(columns={'id': 'call_id'}, inplace=True)\n",
    "calls['call_id']= calls['call_id'].astype('int')\n",
    "calls.info()\n",
    "print(calls.head(10))"
   ]
  },
  {
   "cell_type": "markdown",
   "metadata": {
    "id": "KrMgTrlG0q0_"
   },
   "source": [
    "### Enriquecer los datos"
   ]
  },
  {
   "cell_type": "code",
   "execution_count": 28,
   "metadata": {
    "id": "iZ1avpA_0q0_"
   },
   "outputs": [
    {
     "name": "stdout",
     "output_type": "stream",
     "text": [
      "        call_id  user_id  call_date  duration  month\n",
      "0        100093     1000 2018-12-27       9.0     12\n",
      "1       1000145     1000 2018-12-27      14.0     12\n",
      "2       1000247     1000 2018-12-27      15.0     12\n",
      "3       1000309     1000 2018-12-28       6.0     12\n",
      "4       1000380     1000 2018-12-30       5.0     12\n",
      "...         ...      ...        ...       ...    ...\n",
      "137730  1499199     1499 2018-11-21       9.0     11\n",
      "137731  1499200     1499 2018-10-20      11.0     10\n",
      "137732  1499201     1499 2018-09-21       9.0      9\n",
      "137733  1499202     1499 2018-10-10       1.0     10\n",
      "137734  1499203     1499 2018-12-29      14.0     12\n",
      "\n",
      "[137735 rows x 5 columns]\n"
     ]
    }
   ],
   "source": [
    "# Se crea columna con el mes, extrayendolo de la columna con formato datetime\n",
    "calls['month']=calls['call_date'].dt.month\n",
    "calls['duration']=np.ceil(calls['duration'])\n",
    "print(calls)"
   ]
  },
  {
   "cell_type": "markdown",
   "metadata": {},
   "source": [
    "Ahora ya tenemos nuestra columna de datos en formato de fecha para manejar los datos de manera más eficiente y también se agregó una columna con el mes usando la columna de la fecha para tener la información de manera más breve. Se redondearon las duraciones de llamadas para tener números enteros y tener una distrución más uniforme a la hora de graficar. También cambiamos la columna de `'id'` por `'call_id'` para poder identificarla mejor a la hora de juntar información y se transformó a 'int' para manejar mejor la información de esta columna."
   ]
  },
  {
   "cell_type": "markdown",
   "metadata": {
    "id": "mOUZSi180q0_"
   },
   "source": [
    "## Mensajes"
   ]
  },
  {
   "cell_type": "code",
   "execution_count": 29,
   "metadata": {
    "id": "R-bYJpdV0q1A"
   },
   "outputs": [
    {
     "name": "stdout",
     "output_type": "stream",
     "text": [
      "<class 'pandas.core.frame.DataFrame'>\n",
      "RangeIndex: 76051 entries, 0 to 76050\n",
      "Data columns (total 3 columns):\n",
      " #   Column        Non-Null Count  Dtype \n",
      "---  ------        --------------  ----- \n",
      " 0   id            76051 non-null  object\n",
      " 1   user_id       76051 non-null  int64 \n",
      " 2   message_date  76051 non-null  object\n",
      "dtypes: int64(1), object(2)\n",
      "memory usage: 1.7+ MB\n",
      "None\n"
     ]
    },
    {
     "data": {
      "text/html": [
       "<div>\n",
       "<style scoped>\n",
       "    .dataframe tbody tr th:only-of-type {\n",
       "        vertical-align: middle;\n",
       "    }\n",
       "\n",
       "    .dataframe tbody tr th {\n",
       "        vertical-align: top;\n",
       "    }\n",
       "\n",
       "    .dataframe thead th {\n",
       "        text-align: right;\n",
       "    }\n",
       "</style>\n",
       "<table border=\"1\" class=\"dataframe\">\n",
       "  <thead>\n",
       "    <tr style=\"text-align: right;\">\n",
       "      <th></th>\n",
       "      <th>user_id</th>\n",
       "    </tr>\n",
       "  </thead>\n",
       "  <tbody>\n",
       "    <tr>\n",
       "      <th>count</th>\n",
       "      <td>76051.000000</td>\n",
       "    </tr>\n",
       "    <tr>\n",
       "      <th>mean</th>\n",
       "      <td>1245.972768</td>\n",
       "    </tr>\n",
       "    <tr>\n",
       "      <th>std</th>\n",
       "      <td>139.843635</td>\n",
       "    </tr>\n",
       "    <tr>\n",
       "      <th>min</th>\n",
       "      <td>1000.000000</td>\n",
       "    </tr>\n",
       "    <tr>\n",
       "      <th>25%</th>\n",
       "      <td>1123.000000</td>\n",
       "    </tr>\n",
       "    <tr>\n",
       "      <th>50%</th>\n",
       "      <td>1251.000000</td>\n",
       "    </tr>\n",
       "    <tr>\n",
       "      <th>75%</th>\n",
       "      <td>1362.000000</td>\n",
       "    </tr>\n",
       "    <tr>\n",
       "      <th>max</th>\n",
       "      <td>1497.000000</td>\n",
       "    </tr>\n",
       "  </tbody>\n",
       "</table>\n",
       "</div>"
      ],
      "text/plain": [
       "            user_id\n",
       "count  76051.000000\n",
       "mean    1245.972768\n",
       "std      139.843635\n",
       "min     1000.000000\n",
       "25%     1123.000000\n",
       "50%     1251.000000\n",
       "75%     1362.000000\n",
       "max     1497.000000"
      ]
     },
     "execution_count": 29,
     "metadata": {},
     "output_type": "execute_result"
    }
   ],
   "source": [
    "# Imprimir la información general/resumida sobre el DataFrame de los mensajes\n",
    "print(messages.info())\n",
    "messages.describe()"
   ]
  },
  {
   "cell_type": "code",
   "execution_count": 30,
   "metadata": {
    "id": "mCEl2iGE0q1A"
   },
   "outputs": [
    {
     "name": "stdout",
     "output_type": "stream",
     "text": [
      "         id  user_id message_date\n",
      "0  1000_125     1000   2018-12-27\n",
      "1  1000_160     1000   2018-12-31\n",
      "2  1000_223     1000   2018-12-31\n",
      "3  1000_251     1000   2018-12-27\n",
      "4  1000_255     1000   2018-12-26\n",
      "5  1000_346     1000   2018-12-29\n",
      "6  1000_386     1000   2018-12-30\n",
      "7  1000_413     1000   2018-12-31\n",
      "8  1000_502     1000   2018-12-27\n",
      "9  1000_525     1000   2018-12-28\n",
      "0\n"
     ]
    }
   ],
   "source": [
    "# Imprimir una muestra de datos para los mensajes\n",
    "print(messages.head(10))\n",
    "print(messages['id'].duplicated().sum())"
   ]
  },
  {
   "cell_type": "markdown",
   "metadata": {
    "id": "04xDj7KH0q1A"
   },
   "source": [
    "Tenemos la misma situación que el df pasado, haremos los cambios necesarios para tener un mejor formato y cambiaremos el tipo de dato de la columna `'message_date'`."
   ]
  },
  {
   "cell_type": "markdown",
   "metadata": {
    "id": "Sprfak900q1B"
   },
   "source": [
    "### Corregir los datos"
   ]
  },
  {
   "cell_type": "code",
   "execution_count": 31,
   "metadata": {
    "id": "vsllvkoa0q1B"
   },
   "outputs": [
    {
     "name": "stdout",
     "output_type": "stream",
     "text": [
      "<class 'pandas.core.frame.DataFrame'>\n",
      "RangeIndex: 76051 entries, 0 to 76050\n",
      "Data columns (total 3 columns):\n",
      " #   Column        Non-Null Count  Dtype \n",
      "---  ------        --------------  ----- \n",
      " 0   message_id    76051 non-null  int32 \n",
      " 1   user_id       76051 non-null  int64 \n",
      " 2   message_date  76051 non-null  object\n",
      "dtypes: int32(1), int64(1), object(1)\n",
      "memory usage: 1.5+ MB\n",
      "   message_id  user_id message_date\n",
      "0     1000125     1000   2018-12-27\n",
      "1     1000160     1000   2018-12-31\n",
      "2     1000223     1000   2018-12-31\n",
      "3     1000251     1000   2018-12-27\n",
      "4     1000255     1000   2018-12-26\n",
      "5     1000346     1000   2018-12-29\n",
      "6     1000386     1000   2018-12-30\n",
      "7     1000413     1000   2018-12-31\n",
      "8     1000502     1000   2018-12-27\n",
      "9     1000525     1000   2018-12-28\n"
     ]
    }
   ],
   "source": [
    "messages['id']= messages['id'].astype('int')\n",
    "messages.rename(columns={'id':'message_id'},inplace= True)\n",
    "messages.info()\n",
    "print(messages.head(10))"
   ]
  },
  {
   "cell_type": "markdown",
   "metadata": {
    "id": "HvLid7iD0q1B"
   },
   "source": [
    "### Enriquecer los datos"
   ]
  },
  {
   "cell_type": "code",
   "execution_count": 32,
   "metadata": {
    "id": "zYEXZac10q1C"
   },
   "outputs": [
    {
     "name": "stdout",
     "output_type": "stream",
     "text": [
      "       message_id  user_id message_date  month\n",
      "0         1000125     1000   2018-12-27     12\n",
      "1         1000160     1000   2018-12-31     12\n",
      "2         1000223     1000   2018-12-31     12\n",
      "3         1000251     1000   2018-12-27     12\n",
      "4         1000255     1000   2018-12-26     12\n",
      "...           ...      ...          ...    ...\n",
      "76046     1497526     1497   2018-12-24     12\n",
      "76047     1497536     1497   2018-12-24     12\n",
      "76048     1497547     1497   2018-12-31     12\n",
      "76049     1497558     1497   2018-12-24     12\n",
      "76050     1497613     1497   2018-12-23     12\n",
      "\n",
      "[76051 rows x 4 columns]\n"
     ]
    }
   ],
   "source": [
    "messages['message_date']=pd.to_datetime(messages['message_date'], format= '%Y-%m-%d')\n",
    "messages['month']=messages['message_date'].dt.month\n",
    "print(messages)\n"
   ]
  },
  {
   "cell_type": "markdown",
   "metadata": {},
   "source": [
    "Ahora ya cambiamos de `'id'` a `'message_id'` para un mejor entendimiento a la hora de juntar los datos, y transformamos las fechas a formato datetime, extrayendo el mes en una nueva columna `'month'`."
   ]
  },
  {
   "cell_type": "markdown",
   "metadata": {
    "id": "bStkaxn40q1C"
   },
   "source": [
    "## Internet"
   ]
  },
  {
   "cell_type": "code",
   "execution_count": 33,
   "metadata": {
    "id": "e-Uz5qyn0q1C"
   },
   "outputs": [
    {
     "name": "stdout",
     "output_type": "stream",
     "text": [
      "<class 'pandas.core.frame.DataFrame'>\n",
      "RangeIndex: 104825 entries, 0 to 104824\n",
      "Data columns (total 4 columns):\n",
      " #   Column        Non-Null Count   Dtype  \n",
      "---  ------        --------------   -----  \n",
      " 0   id            104825 non-null  object \n",
      " 1   user_id       104825 non-null  int64  \n",
      " 2   session_date  104825 non-null  object \n",
      " 3   mb_used       104825 non-null  float64\n",
      "dtypes: float64(1), int64(1), object(2)\n",
      "memory usage: 3.2+ MB\n",
      "None\n"
     ]
    },
    {
     "data": {
      "text/html": [
       "<div>\n",
       "<style scoped>\n",
       "    .dataframe tbody tr th:only-of-type {\n",
       "        vertical-align: middle;\n",
       "    }\n",
       "\n",
       "    .dataframe tbody tr th {\n",
       "        vertical-align: top;\n",
       "    }\n",
       "\n",
       "    .dataframe thead th {\n",
       "        text-align: right;\n",
       "    }\n",
       "</style>\n",
       "<table border=\"1\" class=\"dataframe\">\n",
       "  <thead>\n",
       "    <tr style=\"text-align: right;\">\n",
       "      <th></th>\n",
       "      <th>user_id</th>\n",
       "      <th>mb_used</th>\n",
       "    </tr>\n",
       "  </thead>\n",
       "  <tbody>\n",
       "    <tr>\n",
       "      <th>count</th>\n",
       "      <td>104825.000000</td>\n",
       "      <td>104825.000000</td>\n",
       "    </tr>\n",
       "    <tr>\n",
       "      <th>mean</th>\n",
       "      <td>1242.496361</td>\n",
       "      <td>366.713701</td>\n",
       "    </tr>\n",
       "    <tr>\n",
       "      <th>std</th>\n",
       "      <td>142.053913</td>\n",
       "      <td>277.170542</td>\n",
       "    </tr>\n",
       "    <tr>\n",
       "      <th>min</th>\n",
       "      <td>1000.000000</td>\n",
       "      <td>0.000000</td>\n",
       "    </tr>\n",
       "    <tr>\n",
       "      <th>25%</th>\n",
       "      <td>1122.000000</td>\n",
       "      <td>136.080000</td>\n",
       "    </tr>\n",
       "    <tr>\n",
       "      <th>50%</th>\n",
       "      <td>1236.000000</td>\n",
       "      <td>343.980000</td>\n",
       "    </tr>\n",
       "    <tr>\n",
       "      <th>75%</th>\n",
       "      <td>1367.000000</td>\n",
       "      <td>554.610000</td>\n",
       "    </tr>\n",
       "    <tr>\n",
       "      <th>max</th>\n",
       "      <td>1499.000000</td>\n",
       "      <td>1693.470000</td>\n",
       "    </tr>\n",
       "  </tbody>\n",
       "</table>\n",
       "</div>"
      ],
      "text/plain": [
       "             user_id        mb_used\n",
       "count  104825.000000  104825.000000\n",
       "mean     1242.496361     366.713701\n",
       "std       142.053913     277.170542\n",
       "min      1000.000000       0.000000\n",
       "25%      1122.000000     136.080000\n",
       "50%      1236.000000     343.980000\n",
       "75%      1367.000000     554.610000\n",
       "max      1499.000000    1693.470000"
      ]
     },
     "execution_count": 33,
     "metadata": {},
     "output_type": "execute_result"
    }
   ],
   "source": [
    "# Imprimir la información general/resumida sobre el DataFrame de internet\n",
    "print(internet.info())\n",
    "internet.describe()"
   ]
  },
  {
   "cell_type": "code",
   "execution_count": 34,
   "metadata": {
    "id": "9r3x_XLw0q1C"
   },
   "outputs": [
    {
     "name": "stdout",
     "output_type": "stream",
     "text": [
      "         id  user_id session_date  mb_used\n",
      "0   1000_13     1000   2018-12-29    89.86\n",
      "1  1000_204     1000   2018-12-31     0.00\n",
      "2  1000_379     1000   2018-12-28   660.40\n",
      "3  1000_413     1000   2018-12-26   270.99\n",
      "4  1000_442     1000   2018-12-27   880.22\n",
      "5    1001_0     1001   2018-08-24   284.68\n",
      "6    1001_3     1001   2018-12-09   656.04\n",
      "7    1001_4     1001   2018-11-04    16.97\n",
      "8   1001_10     1001   2018-11-27   135.18\n",
      "9   1001_15     1001   2018-12-13   761.92\n",
      "\n",
      "0\n"
     ]
    }
   ],
   "source": [
    "# Imprimir una muestra de datos para el tráfico de internet\n",
    "print(internet.head(10))\n",
    "print()\n",
    "print(internet['id'].duplicated().sum())"
   ]
  },
  {
   "cell_type": "markdown",
   "metadata": {
    "id": "EzOG5ik30q1D"
   },
   "source": [
    "Mismo caso de los df pasados, repetiremos el proceso para optimizar los datos."
   ]
  },
  {
   "cell_type": "markdown",
   "metadata": {
    "id": "yA0tkPFg0q1D"
   },
   "source": [
    "### Corregir los datos"
   ]
  },
  {
   "cell_type": "code",
   "execution_count": 35,
   "metadata": {
    "id": "zVeanzdd0q1E"
   },
   "outputs": [
    {
     "name": "stdout",
     "output_type": "stream",
     "text": [
      "<class 'pandas.core.frame.DataFrame'>\n",
      "RangeIndex: 104825 entries, 0 to 104824\n",
      "Data columns (total 4 columns):\n",
      " #   Column        Non-Null Count   Dtype         \n",
      "---  ------        --------------   -----         \n",
      " 0   internet_id   104825 non-null  int32         \n",
      " 1   user_id       104825 non-null  int64         \n",
      " 2   session_date  104825 non-null  datetime64[ns]\n",
      " 3   mb_used       104825 non-null  float64       \n",
      "dtypes: datetime64[ns](1), float64(1), int32(1), int64(1)\n",
      "memory usage: 2.8 MB\n",
      "   internet_id  user_id session_date  mb_used\n",
      "0       100013     1000   2018-12-29    89.86\n",
      "1      1000204     1000   2018-12-31     0.00\n",
      "2      1000379     1000   2018-12-28   660.40\n",
      "3      1000413     1000   2018-12-26   270.99\n",
      "4      1000442     1000   2018-12-27   880.22\n",
      "5        10010     1001   2018-08-24   284.68\n",
      "6        10013     1001   2018-12-09   656.04\n",
      "7        10014     1001   2018-11-04    16.97\n",
      "8       100110     1001   2018-11-27   135.18\n",
      "9       100115     1001   2018-12-13   761.92\n"
     ]
    }
   ],
   "source": [
    "internet['session_date']=pd.to_datetime(internet['session_date'], format= '%Y-%m-%d')\n",
    "internet['id']= internet['id'].astype('int')\n",
    "internet.rename(columns={'id':'internet_id'},inplace= True)\n",
    "internet.info()\n",
    "print(internet.head(10))"
   ]
  },
  {
   "cell_type": "markdown",
   "metadata": {
    "id": "e8_mLF4a0q1E"
   },
   "source": [
    "### Enriquecer los datos"
   ]
  },
  {
   "cell_type": "code",
   "execution_count": 36,
   "metadata": {
    "id": "ESiYPIEK0q1E"
   },
   "outputs": [
    {
     "name": "stdout",
     "output_type": "stream",
     "text": [
      "        internet_id  user_id session_date  mb_used  month\n",
      "0            100013     1000   2018-12-29    89.86     12\n",
      "1           1000204     1000   2018-12-31     0.00     12\n",
      "2           1000379     1000   2018-12-28   660.40     12\n",
      "3           1000413     1000   2018-12-26   270.99     12\n",
      "4           1000442     1000   2018-12-27   880.22     12\n",
      "...             ...      ...          ...      ...    ...\n",
      "104820      1499215     1499   2018-10-20   218.06     10\n",
      "104821      1499216     1499   2018-12-30   304.72     12\n",
      "104822      1499217     1499   2018-09-22   292.75      9\n",
      "104823      1499218     1499   2018-12-07     0.00     12\n",
      "104824      1499219     1499   2018-12-24   758.31     12\n",
      "\n",
      "[104825 rows x 5 columns]\n"
     ]
    }
   ],
   "source": [
    "internet['month']= internet['session_date'].dt.month\n",
    "print(internet)"
   ]
  },
  {
   "cell_type": "markdown",
   "metadata": {},
   "source": [
    "Al igual que con los df pasados, transformamos la columna con las fechas a formato datetime, y extraemos el mes en una nueva columna `'month'`, y renombramos la columna `'id'` como `'internet_id'` para mejor entendimiento. "
   ]
  },
  {
   "cell_type": "markdown",
   "metadata": {
    "id": "3UA2cqIW0q1E"
   },
   "source": [
    "## Estudiar las condiciones de las tarifas"
   ]
  },
  {
   "cell_type": "code",
   "execution_count": 38,
   "metadata": {
    "id": "i409op8p0q1F"
   },
   "outputs": [
    {
     "data": {
      "text/html": [
       "<div>\n",
       "<style scoped>\n",
       "    .dataframe tbody tr th:only-of-type {\n",
       "        vertical-align: middle;\n",
       "    }\n",
       "\n",
       "    .dataframe tbody tr th {\n",
       "        vertical-align: top;\n",
       "    }\n",
       "\n",
       "    .dataframe thead th {\n",
       "        text-align: right;\n",
       "    }\n",
       "</style>\n",
       "<table border=\"1\" class=\"dataframe\">\n",
       "  <thead>\n",
       "    <tr style=\"text-align: right;\">\n",
       "      <th></th>\n",
       "      <th>messages_included</th>\n",
       "      <th>mb_per_month_included</th>\n",
       "      <th>minutes_included</th>\n",
       "      <th>usd_monthly_pay</th>\n",
       "      <th>usd_per_gb</th>\n",
       "      <th>usd_per_message</th>\n",
       "      <th>usd_per_minute</th>\n",
       "      <th>plan_name</th>\n",
       "    </tr>\n",
       "  </thead>\n",
       "  <tbody>\n",
       "    <tr>\n",
       "      <th>0</th>\n",
       "      <td>50</td>\n",
       "      <td>15.0</td>\n",
       "      <td>500</td>\n",
       "      <td>20</td>\n",
       "      <td>10</td>\n",
       "      <td>0.03</td>\n",
       "      <td>0.03</td>\n",
       "      <td>surf</td>\n",
       "    </tr>\n",
       "    <tr>\n",
       "      <th>1</th>\n",
       "      <td>1000</td>\n",
       "      <td>30.0</td>\n",
       "      <td>3000</td>\n",
       "      <td>70</td>\n",
       "      <td>7</td>\n",
       "      <td>0.01</td>\n",
       "      <td>0.01</td>\n",
       "      <td>ultimate</td>\n",
       "    </tr>\n",
       "  </tbody>\n",
       "</table>\n",
       "</div>"
      ],
      "text/plain": [
       "   messages_included  mb_per_month_included  minutes_included  \\\n",
       "0                 50                   15.0               500   \n",
       "1               1000                   30.0              3000   \n",
       "\n",
       "   usd_monthly_pay  usd_per_gb  usd_per_message  usd_per_minute plan_name  \n",
       "0               20          10             0.03            0.03      surf  \n",
       "1               70           7             0.01            0.01  ultimate  "
      ]
     },
     "execution_count": 38,
     "metadata": {},
     "output_type": "execute_result"
    }
   ],
   "source": [
    "# Imprime las condiciones de la tarifa denuevo para recordarlas\n",
    "plans\n"
   ]
  },
  {
   "cell_type": "markdown",
   "metadata": {
    "id": "hMR1tP5d0q1F"
   },
   "source": [
    "## Agregar datos por usuario\n"
   ]
  },
  {
   "cell_type": "code",
   "execution_count": 39,
   "metadata": {
    "id": "A332cedB0q1G"
   },
   "outputs": [
    {
     "name": "stdout",
     "output_type": "stream",
     "text": [
      "   user_id  month  call_id\n",
      "0     1000     12       16\n",
      "1     1001      8       27\n",
      "2     1001      9       49\n",
      "3     1001     10       65\n",
      "4     1001     11       64\n"
     ]
    }
   ],
   "source": [
    "# Calcular el número de llamadas hechas por cada usuario al mes. \n",
    "\n",
    "# Se ordenan los datos por usuario y mes, y se extrae la cantidad de llamadas en la columna de id de llamadas\n",
    "calls_by_user=calls.groupby(['user_id','month'])['call_id'].count().reset_index() \n",
    "print(calls_by_user.head()) \n"
   ]
  },
  {
   "cell_type": "code",
   "execution_count": 40,
   "metadata": {
    "id": "aw2cmuql0q1G"
   },
   "outputs": [
    {
     "name": "stdout",
     "output_type": "stream",
     "text": [
      "      user_id  month  duration\n",
      "0        1000     12     124.0\n",
      "1        1001      8     182.0\n",
      "2        1001      9     315.0\n",
      "3        1001     10     393.0\n",
      "4        1001     11     426.0\n",
      "...       ...    ...       ...\n",
      "2253     1498     12     339.0\n",
      "2254     1499      9     346.0\n",
      "2255     1499     10     385.0\n",
      "2256     1499     11     308.0\n",
      "2257     1499     12     496.0\n",
      "\n",
      "[2258 rows x 3 columns]\n"
     ]
    }
   ],
   "source": [
    "# Calcular la cantidad de minutos usados por cada usuario al mes. \n",
    "\n",
    "# Se hace lo mismo, solo que en este caso se suman la cantidad de minutos en llamada\n",
    "minutes_by_user=calls.groupby(['user_id','month'])['duration'].sum().reset_index() \n",
    "print(minutes_by_user)\n"
   ]
  },
  {
   "cell_type": "code",
   "execution_count": 41,
   "metadata": {
    "id": "CcQvNHn60q1G"
   },
   "outputs": [
    {
     "name": "stdout",
     "output_type": "stream",
     "text": [
      "      user_id  month  message_id\n",
      "0        1000     12          11\n",
      "1        1001      8          30\n",
      "2        1001      9          44\n",
      "3        1001     10          53\n",
      "4        1001     11          36\n",
      "...       ...    ...         ...\n",
      "1801     1496      9          21\n",
      "1802     1496     10          18\n",
      "1803     1496     11          13\n",
      "1804     1496     12          11\n",
      "1805     1497     12          50\n",
      "\n",
      "[1806 rows x 3 columns]\n"
     ]
    }
   ],
   "source": [
    "# Calcula el número de mensajes enviados por cada usuario al mes. Guarda el resultado.\n",
    "\n",
    "# Se hace lo mismo, pero contando la cantidad de mensajes\n",
    "msg_by_user= messages.groupby(['user_id','month'])['message_id'].count().reset_index() \n",
    "print(msg_by_user)"
   ]
  },
  {
   "cell_type": "code",
   "execution_count": 42,
   "metadata": {
    "id": "H1AqN2eG0q1H"
   },
   "outputs": [
    {
     "name": "stdout",
     "output_type": "stream",
     "text": [
      "      user_id  month  gb_used\n",
      "0        1000     12      2.0\n",
      "1        1001      8      7.0\n",
      "2        1001      9     14.0\n",
      "3        1001     10     22.0\n",
      "4        1001     11     19.0\n",
      "...       ...    ...      ...\n",
      "2272     1498     12     23.0\n",
      "2273     1499      9     13.0\n",
      "2274     1499     10     20.0\n",
      "2275     1499     11     17.0\n",
      "2276     1499     12     22.0\n",
      "\n",
      "[2277 rows x 3 columns]\n"
     ]
    }
   ],
   "source": [
    "# Calcular el volumen del tráfico de Internet usado por cada usuario al mes. \n",
    "\n",
    "# Se hace lo mismo pero sumando la cantidad de mb usados\n",
    "gb_used_by_user=internet.groupby(['user_id','month'])['mb_used'].sum().reset_index()\n",
    "gb_used_by_user['mb_used']=np.ceil(gb_used_by_user['mb_used'])\n",
    "gb_used_by_user['mb_used']=np.ceil(gb_used_by_user['mb_used']/1024)\n",
    "gb_used_by_user.rename(columns={'mb_used':'gb_used'}, inplace= True)\n",
    "print(gb_used_by_user)\n"
   ]
  },
  {
   "cell_type": "code",
   "execution_count": 43,
   "metadata": {
    "id": "FW99ykyf0q1H"
   },
   "outputs": [
    {
     "data": {
      "text/html": [
       "<div>\n",
       "<style scoped>\n",
       "    .dataframe tbody tr th:only-of-type {\n",
       "        vertical-align: middle;\n",
       "    }\n",
       "\n",
       "    .dataframe tbody tr th {\n",
       "        vertical-align: top;\n",
       "    }\n",
       "\n",
       "    .dataframe thead th {\n",
       "        text-align: right;\n",
       "    }\n",
       "</style>\n",
       "<table border=\"1\" class=\"dataframe\">\n",
       "  <thead>\n",
       "    <tr style=\"text-align: right;\">\n",
       "      <th></th>\n",
       "      <th>user_id</th>\n",
       "      <th>month</th>\n",
       "      <th>call_id</th>\n",
       "      <th>call_time</th>\n",
       "      <th>message_id</th>\n",
       "      <th>gb_used</th>\n",
       "    </tr>\n",
       "  </thead>\n",
       "  <tbody>\n",
       "    <tr>\n",
       "      <th>0</th>\n",
       "      <td>1000</td>\n",
       "      <td>12</td>\n",
       "      <td>16.0</td>\n",
       "      <td>124.0</td>\n",
       "      <td>11.0</td>\n",
       "      <td>2.0</td>\n",
       "    </tr>\n",
       "    <tr>\n",
       "      <th>1</th>\n",
       "      <td>1001</td>\n",
       "      <td>8</td>\n",
       "      <td>27.0</td>\n",
       "      <td>182.0</td>\n",
       "      <td>30.0</td>\n",
       "      <td>7.0</td>\n",
       "    </tr>\n",
       "    <tr>\n",
       "      <th>2</th>\n",
       "      <td>1001</td>\n",
       "      <td>9</td>\n",
       "      <td>49.0</td>\n",
       "      <td>315.0</td>\n",
       "      <td>44.0</td>\n",
       "      <td>14.0</td>\n",
       "    </tr>\n",
       "    <tr>\n",
       "      <th>3</th>\n",
       "      <td>1001</td>\n",
       "      <td>10</td>\n",
       "      <td>65.0</td>\n",
       "      <td>393.0</td>\n",
       "      <td>53.0</td>\n",
       "      <td>22.0</td>\n",
       "    </tr>\n",
       "    <tr>\n",
       "      <th>4</th>\n",
       "      <td>1001</td>\n",
       "      <td>11</td>\n",
       "      <td>64.0</td>\n",
       "      <td>426.0</td>\n",
       "      <td>36.0</td>\n",
       "      <td>19.0</td>\n",
       "    </tr>\n",
       "    <tr>\n",
       "      <th>...</th>\n",
       "      <td>...</td>\n",
       "      <td>...</td>\n",
       "      <td>...</td>\n",
       "      <td>...</td>\n",
       "      <td>...</td>\n",
       "      <td>...</td>\n",
       "    </tr>\n",
       "    <tr>\n",
       "      <th>2288</th>\n",
       "      <td>1349</td>\n",
       "      <td>12</td>\n",
       "      <td>0.0</td>\n",
       "      <td>0.0</td>\n",
       "      <td>61.0</td>\n",
       "      <td>13.0</td>\n",
       "    </tr>\n",
       "    <tr>\n",
       "      <th>2289</th>\n",
       "      <td>1361</td>\n",
       "      <td>5</td>\n",
       "      <td>0.0</td>\n",
       "      <td>0.0</td>\n",
       "      <td>2.0</td>\n",
       "      <td>2.0</td>\n",
       "    </tr>\n",
       "    <tr>\n",
       "      <th>2290</th>\n",
       "      <td>1482</td>\n",
       "      <td>10</td>\n",
       "      <td>0.0</td>\n",
       "      <td>0.0</td>\n",
       "      <td>2.0</td>\n",
       "      <td>0.0</td>\n",
       "    </tr>\n",
       "    <tr>\n",
       "      <th>2291</th>\n",
       "      <td>1108</td>\n",
       "      <td>12</td>\n",
       "      <td>0.0</td>\n",
       "      <td>0.0</td>\n",
       "      <td>0.0</td>\n",
       "      <td>1.0</td>\n",
       "    </tr>\n",
       "    <tr>\n",
       "      <th>2292</th>\n",
       "      <td>1311</td>\n",
       "      <td>6</td>\n",
       "      <td>0.0</td>\n",
       "      <td>0.0</td>\n",
       "      <td>0.0</td>\n",
       "      <td>2.0</td>\n",
       "    </tr>\n",
       "  </tbody>\n",
       "</table>\n",
       "<p>2293 rows × 6 columns</p>\n",
       "</div>"
      ],
      "text/plain": [
       "      user_id  month  call_id  call_time  message_id  gb_used\n",
       "0        1000     12     16.0      124.0        11.0      2.0\n",
       "1        1001      8     27.0      182.0        30.0      7.0\n",
       "2        1001      9     49.0      315.0        44.0     14.0\n",
       "3        1001     10     65.0      393.0        53.0     22.0\n",
       "4        1001     11     64.0      426.0        36.0     19.0\n",
       "...       ...    ...      ...        ...         ...      ...\n",
       "2288     1349     12      0.0        0.0        61.0     13.0\n",
       "2289     1361      5      0.0        0.0         2.0      2.0\n",
       "2290     1482     10      0.0        0.0         2.0      0.0\n",
       "2291     1108     12      0.0        0.0         0.0      1.0\n",
       "2292     1311      6      0.0        0.0         0.0      2.0\n",
       "\n",
       "[2293 rows x 6 columns]"
      ]
     },
     "execution_count": 43,
     "metadata": {},
     "output_type": "execute_result"
    }
   ],
   "source": [
    "# Fusionar los datos de llamadas, minutos, mensajes e Internet con base en user_id y month\n",
    "\n",
    "# Se crea un df con toda la información, uniendo todo mediante el mes y user_id\n",
    "user_data_monthly=calls_by_user.merge(minutes_by_user,on=['user_id','month'],how='outer')\n",
    "user_data_monthly=user_data_monthly.merge(msg_by_user,on=['user_id','month'],how='outer')\n",
    "user_data_monthly=user_data_monthly.merge(gb_used_by_user,on=['user_id','month'],how='outer')\n",
    "\n",
    "# Se hace un cambio en el nombre de la columna duration par a un mejor entendimiento de la información\n",
    "user_data_monthly.rename(columns={'duration':'call_time'}, inplace=True)\n",
    "\n",
    "#Se deja un 0 en las partes donde falten datos para que no irrumpa con nuestro trabajo\n",
    "user_data_monthly.fillna(0, inplace= True)\n",
    "\n",
    "user_data_monthly"
   ]
  },
  {
   "cell_type": "code",
   "execution_count": 44,
   "metadata": {
    "id": "0dNOXHag0q1H"
   },
   "outputs": [
    {
     "name": "stdout",
     "output_type": "stream",
     "text": [
      "      user_id  month  call_id  call_time  message_id  gb_used plan_name\n",
      "0        1000     12     16.0      124.0        11.0      2.0  ultimate\n",
      "1        1001      8     27.0      182.0        30.0      7.0      surf\n",
      "2        1001      9     49.0      315.0        44.0     14.0      surf\n",
      "3        1001     10     65.0      393.0        53.0     22.0      surf\n",
      "4        1001     11     64.0      426.0        36.0     19.0      surf\n",
      "...       ...    ...      ...        ...         ...      ...       ...\n",
      "2288     1349     12      0.0        0.0        61.0     13.0      surf\n",
      "2289     1361      5      0.0        0.0         2.0      2.0      surf\n",
      "2290     1482     10      0.0        0.0         2.0      0.0  ultimate\n",
      "2291     1108     12      0.0        0.0         0.0      1.0  ultimate\n",
      "2292     1311      6      0.0        0.0         0.0      2.0  ultimate\n",
      "\n",
      "[2293 rows x 7 columns]\n"
     ]
    }
   ],
   "source": [
    "# Añadir la información de la tarifa\n",
    "\n",
    "# Se extrae los usuarios y su plan correspondiente del df users\n",
    "user_plans= users[['user_id','plan']]\n",
    "\n",
    "# Se une la información \n",
    "user_data_monthly= user_data_monthly.merge(user_plans, on='user_id', how='left')\n",
    "user_data_monthly.rename(columns={'plan':'plan_name'},inplace=True)\n",
    "print(user_data_monthly)\n"
   ]
  },
  {
   "cell_type": "code",
   "execution_count": 45,
   "metadata": {
    "id": "5FGCf_c60q1I"
   },
   "outputs": [
    {
     "name": "stdout",
     "output_type": "stream",
     "text": [
      "      user_id  month  call_id  call_time  message_id  gb_used plan_name  \\\n",
      "0        1000     12     16.0      124.0        11.0      2.0  ultimate   \n",
      "1        1001      8     27.0      182.0        30.0      7.0      surf   \n",
      "2        1001      9     49.0      315.0        44.0     14.0      surf   \n",
      "3        1001     10     65.0      393.0        53.0     22.0      surf   \n",
      "4        1001     11     64.0      426.0        36.0     19.0      surf   \n",
      "...       ...    ...      ...        ...         ...      ...       ...   \n",
      "2288     1349     12      0.0        0.0        61.0     13.0      surf   \n",
      "2289     1361      5      0.0        0.0         2.0      2.0      surf   \n",
      "2290     1482     10      0.0        0.0         2.0      0.0  ultimate   \n",
      "2291     1108     12      0.0        0.0         0.0      1.0  ultimate   \n",
      "2292     1311      6      0.0        0.0         0.0      2.0  ultimate   \n",
      "\n",
      "      mins_exc  exc_call_income  \n",
      "0          0.0              0.0  \n",
      "1          0.0              0.0  \n",
      "2          0.0              0.0  \n",
      "3          0.0              0.0  \n",
      "4          0.0              0.0  \n",
      "...        ...              ...  \n",
      "2288       0.0              0.0  \n",
      "2289       0.0              0.0  \n",
      "2290       0.0              0.0  \n",
      "2291       0.0              0.0  \n",
      "2292       0.0              0.0  \n",
      "\n",
      "[2293 rows x 9 columns]\n"
     ]
    }
   ],
   "source": [
    "# Calcular el ingreso mensual para cada usuario\n",
    "\n",
    "# Primero revisamos si los usuarios excedieron sus minutos de llamada mensuales\n",
    "def callexc(row):\n",
    "    minutes_used= row['call_time']\n",
    "    plan= row['plan_name'] # Se extraen los valores de las respectivas filas\n",
    "    if plan == 'surf': # Se revisa que plan tiene\n",
    "        if minutes_used > 500: # Se revisa si supero la cantidad de su plan\n",
    "            return minutes_used - 500 # Se muestra la cantidad excedida\n",
    "        else:\n",
    "            return 0\n",
    "    elif plan == 'ultimate':\n",
    "        if minutes_used > 3000:\n",
    "            return minutes_used - 3000\n",
    "        else: \n",
    "            return 0\n",
    "#se aplica nuestra función al df y se guarda el resultado en una nueva columna con los minutos excedidos\n",
    "user_data_monthly['mins_exc']= user_data_monthly.apply(callexc, axis=1) \n",
    "\n",
    "# Realizamos el cálculo de cuanto será el ingreso por minutos excedidas\n",
    "def callfee(row):\n",
    "    minutes_exc=row['mins_exc']\n",
    "    plan= row['plan_name']\n",
    "    if plan == 'surf':\n",
    "        return minutes_exc * .03\n",
    "    else:\n",
    "        return minutes_exc * .01\n",
    "    \n",
    "# Se aplica la función en el df y se guarda en una columna con el ingreso    \n",
    "user_data_monthly['exc_call_income']= user_data_monthly.apply(callfee, axis=1).round(2) \n",
    "print(user_data_monthly)\n"
   ]
  },
  {
   "cell_type": "code",
   "execution_count": 46,
   "metadata": {},
   "outputs": [
    {
     "name": "stdout",
     "output_type": "stream",
     "text": [
      "      user_id  month  call_id  call_time  message_id  gb_used plan_name  \\\n",
      "0        1000     12     16.0      124.0        11.0      2.0  ultimate   \n",
      "1        1001      8     27.0      182.0        30.0      7.0      surf   \n",
      "2        1001      9     49.0      315.0        44.0     14.0      surf   \n",
      "3        1001     10     65.0      393.0        53.0     22.0      surf   \n",
      "4        1001     11     64.0      426.0        36.0     19.0      surf   \n",
      "...       ...    ...      ...        ...         ...      ...       ...   \n",
      "2288     1349     12      0.0        0.0        61.0     13.0      surf   \n",
      "2289     1361      5      0.0        0.0         2.0      2.0      surf   \n",
      "2290     1482     10      0.0        0.0         2.0      0.0  ultimate   \n",
      "2291     1108     12      0.0        0.0         0.0      1.0  ultimate   \n",
      "2292     1311      6      0.0        0.0         0.0      2.0  ultimate   \n",
      "\n",
      "      mins_exc  exc_call_income  msg_exc  exc_msg_income  \n",
      "0          0.0              0.0      0.0            0.00  \n",
      "1          0.0              0.0      0.0            0.00  \n",
      "2          0.0              0.0      0.0            0.00  \n",
      "3          0.0              0.0      3.0            0.09  \n",
      "4          0.0              0.0      0.0            0.00  \n",
      "...        ...              ...      ...             ...  \n",
      "2288       0.0              0.0     11.0            0.33  \n",
      "2289       0.0              0.0      0.0            0.00  \n",
      "2290       0.0              0.0      0.0            0.00  \n",
      "2291       0.0              0.0      0.0            0.00  \n",
      "2292       0.0              0.0      0.0            0.00  \n",
      "\n",
      "[2293 rows x 11 columns]\n"
     ]
    }
   ],
   "source": [
    "def msgexc(row):\n",
    "    msg_used= row['message_id']\n",
    "    plan= row['plan_name']\n",
    "    if plan == 'surf':\n",
    "        if msg_used > 50:\n",
    "            return msg_used - 50\n",
    "        else:\n",
    "            return 0\n",
    "    elif plan == 'ultimate':\n",
    "        if msg_used > 1000:\n",
    "            return msg_used - 1000\n",
    "        else: \n",
    "            return 0\n",
    "\n",
    "user_data_monthly['msg_exc']= user_data_monthly.apply(msgexc, axis=1)\n",
    "def msgfee(row):\n",
    "    msg_exc=row['msg_exc']\n",
    "    plan= row['plan_name']\n",
    "    if plan == 'surf':\n",
    "        return msg_exc * .03\n",
    "    else:\n",
    "        return msg_exc * .01\n",
    "user_data_monthly['exc_msg_income']= user_data_monthly.apply(msgfee, axis=1).round(2)\n",
    "print(user_data_monthly)"
   ]
  },
  {
   "cell_type": "code",
   "execution_count": 47,
   "metadata": {},
   "outputs": [
    {
     "name": "stdout",
     "output_type": "stream",
     "text": [
      "      user_id  month  call_id  call_time  message_id  gb_used plan_name  \\\n",
      "0        1000     12     16.0      124.0        11.0      2.0  ultimate   \n",
      "1        1001      8     27.0      182.0        30.0      7.0      surf   \n",
      "2        1001      9     49.0      315.0        44.0     14.0      surf   \n",
      "3        1001     10     65.0      393.0        53.0     22.0      surf   \n",
      "4        1001     11     64.0      426.0        36.0     19.0      surf   \n",
      "...       ...    ...      ...        ...         ...      ...       ...   \n",
      "2288     1349     12      0.0        0.0        61.0     13.0      surf   \n",
      "2289     1361      5      0.0        0.0         2.0      2.0      surf   \n",
      "2290     1482     10      0.0        0.0         2.0      0.0  ultimate   \n",
      "2291     1108     12      0.0        0.0         0.0      1.0  ultimate   \n",
      "2292     1311      6      0.0        0.0         0.0      2.0  ultimate   \n",
      "\n",
      "      mins_exc  exc_call_income  msg_exc  exc_msg_income  gb_exc  \\\n",
      "0          0.0              0.0      0.0            0.00     0.0   \n",
      "1          0.0              0.0      0.0            0.00     0.0   \n",
      "2          0.0              0.0      0.0            0.00     0.0   \n",
      "3          0.0              0.0      3.0            0.09     7.0   \n",
      "4          0.0              0.0      0.0            0.00     4.0   \n",
      "...        ...              ...      ...             ...     ...   \n",
      "2288       0.0              0.0     11.0            0.33     0.0   \n",
      "2289       0.0              0.0      0.0            0.00     0.0   \n",
      "2290       0.0              0.0      0.0            0.00     0.0   \n",
      "2291       0.0              0.0      0.0            0.00     0.0   \n",
      "2292       0.0              0.0      0.0            0.00     0.0   \n",
      "\n",
      "      exc_gb_income  \n",
      "0               0.0  \n",
      "1               0.0  \n",
      "2               0.0  \n",
      "3              70.0  \n",
      "4              40.0  \n",
      "...             ...  \n",
      "2288            0.0  \n",
      "2289            0.0  \n",
      "2290            0.0  \n",
      "2291            0.0  \n",
      "2292            0.0  \n",
      "\n",
      "[2293 rows x 13 columns]\n"
     ]
    }
   ],
   "source": [
    "def gbexc(row):\n",
    "    gb_used= row['gb_used']\n",
    "    plan= row['plan_name']\n",
    "    if plan == 'surf':\n",
    "        if gb_used > 15:\n",
    "            return gb_used - 15\n",
    "        else:\n",
    "            return 0\n",
    "    elif plan == 'ultimate':\n",
    "        if gb_used > 30:\n",
    "            return gb_used - 30\n",
    "        else: \n",
    "            return 0\n",
    "\n",
    "user_data_monthly['gb_exc']= user_data_monthly.apply(gbexc, axis=1)\n",
    "def gbfee(row):\n",
    "    gb_exc=row['gb_exc']\n",
    "    plan= row['plan_name']\n",
    "    if plan == 'surf':\n",
    "        return gb_exc * 10\n",
    "    else:\n",
    "        return gb_exc * 7\n",
    "user_data_monthly['exc_gb_income']= user_data_monthly.apply(gbfee, axis=1).round(2)\n",
    "print(user_data_monthly)"
   ]
  },
  {
   "cell_type": "code",
   "execution_count": 48,
   "metadata": {},
   "outputs": [
    {
     "name": "stdout",
     "output_type": "stream",
     "text": [
      "      user_id  month  call_id  call_time  message_id  gb_used plan_name  \\\n",
      "0        1000     12     16.0      124.0        11.0      2.0  ultimate   \n",
      "1        1006     11      2.0       10.0        15.0      3.0  ultimate   \n",
      "2        1006     12      9.0       59.0       139.0     32.0  ultimate   \n",
      "3        1008     10     71.0      476.0        21.0     17.0  ultimate   \n",
      "4        1008     11     63.0      446.0        37.0     24.0  ultimate   \n",
      "...       ...    ...      ...        ...         ...      ...       ...   \n",
      "2288     1194     12      0.0        0.0        56.0     31.0      surf   \n",
      "2289     1349     10      0.0        0.0        76.0     13.0      surf   \n",
      "2290     1349     11      0.0        0.0        72.0     17.0      surf   \n",
      "2291     1349     12      0.0        0.0        61.0     13.0      surf   \n",
      "2292     1361      5      0.0        0.0         2.0      2.0      surf   \n",
      "\n",
      "      mins_exc  exc_call_income  msg_exc  exc_msg_income  gb_exc  \\\n",
      "0          0.0              0.0      0.0            0.00     0.0   \n",
      "1          0.0              0.0      0.0            0.00     0.0   \n",
      "2          0.0              0.0      0.0            0.00     2.0   \n",
      "3          0.0              0.0      0.0            0.00     0.0   \n",
      "4          0.0              0.0      0.0            0.00     0.0   \n",
      "...        ...              ...      ...             ...     ...   \n",
      "2288       0.0              0.0      6.0            0.18    16.0   \n",
      "2289       0.0              0.0     26.0            0.78     0.0   \n",
      "2290       0.0              0.0     22.0            0.66     2.0   \n",
      "2291       0.0              0.0     11.0            0.33     0.0   \n",
      "2292       0.0              0.0      0.0            0.00     0.0   \n",
      "\n",
      "      exc_gb_income  plan_cost  total_income  \n",
      "0               0.0         70         70.00  \n",
      "1               0.0         70         70.00  \n",
      "2              14.0         70         84.00  \n",
      "3               0.0         70         70.00  \n",
      "4               0.0         70         70.00  \n",
      "...             ...        ...           ...  \n",
      "2288          160.0         20        180.18  \n",
      "2289            0.0         20         20.78  \n",
      "2290           20.0         20         40.66  \n",
      "2291            0.0         20         20.33  \n",
      "2292            0.0         20         20.00  \n",
      "\n",
      "[2293 rows x 15 columns]\n"
     ]
    }
   ],
   "source": [
    "# Se extrae el costo de los planes\n",
    "plan_cost= plans[['plan_name','usd_monthly_pay']] \n",
    "\n",
    "# Se agrega el costo del plan a nuestro df de todos los datos\n",
    "user_data_monthly= user_data_monthly.merge(plan_cost, on='plan_name') \n",
    "\n",
    "# Se cambia el nombre de la columna para mejor entendimiento\n",
    "user_data_monthly.rename(columns={'usd_monthly_pay':'plan_cost'}, inplace= True) \n",
    "\n",
    "# Se hace una columna del total de todos los costos mensuales, sumando los valores de otras columnas\n",
    "user_data_monthly['total_income']= user_data_monthly['exc_call_income']+ user_data_monthly['exc_msg_income']+ user_data_monthly['exc_gb_income']+ user_data_monthly['plan_cost']\n",
    "print(user_data_monthly)"
   ]
  },
  {
   "cell_type": "markdown",
   "metadata": {},
   "source": [
    "Ahora en nuestra tabla general de datos mensuales por usuario agregamos información respectiva de sus consumos mensuales,\n",
    "en dado caso de que hayan rebasado las llamadas, mensajes o datos de su plan, se mostrará su excedente y cuanto les \n",
    "costará. Creamos una nueva columna llamada `'gb_used'` en la que hacemos la conversión del consumo de internet de mb a gb para tener una conversión del plan tarifario más sencilla. Se agrega una columna con el costo del plan de cada usuario y se\n",
    "agrega una última columna con el pago mensual que se realizo una vez sumados todos los parámetros."
   ]
  },
  {
   "cell_type": "markdown",
   "metadata": {
    "id": "-jtyHzJb0q1I"
   },
   "source": [
    "## Estudia el comportamiento de usuario"
   ]
  },
  {
   "cell_type": "markdown",
   "metadata": {
    "id": "vtW4CJEe0q1J"
   },
   "source": [
    "### Llamadas"
   ]
  },
  {
   "cell_type": "code",
   "execution_count": 49,
   "metadata": {
    "id": "Jf5v5--k0q1J"
   },
   "outputs": [
    {
     "name": "stdout",
     "output_type": "stream",
     "text": [
      "    month  call_time_surf  call_time_ultimate\n",
      "0       1      203.000000          193.500000\n",
      "1       2      297.000000          403.142857\n",
      "2       3      330.000000          304.250000\n",
      "3       4      351.540000          336.857143\n",
      "4       5      399.584416          406.241379\n",
      "5       6      431.298969          370.957447\n",
      "6       7      449.983471          427.067797\n",
      "7       8      410.111111          421.436620\n",
      "8       9      414.226804          437.511628\n",
      "9      10      429.729958          450.735849\n",
      "10     11      423.325088          445.196850\n",
      "11     12      473.836478          459.099338\n"
     ]
    },
    {
     "data": {
      "image/png": "[encoded data removed]",
      "text/plain": [
       "<Figure size 640x480 with 1 Axes>"
      ]
     },
     "metadata": {},
     "output_type": "display_data"
    }
   ],
   "source": [
    "# Comparar la duración promedio de llamadas por cada plan y por cada mes. \n",
    "\n",
    "# Se saca el promedio de llamadas del plan Surf\n",
    "mean_call_time_surf=user_data_monthly.groupby(by=['plan_name','month']).mean().reset_index()\n",
    "mean_call_time_surf= mean_call_time_surf.query('plan_name == \"surf\"')\n",
    "mean_call_time_surf= mean_call_time_surf[['month','call_time']]\n",
    "\n",
    "# Se saca el promedio de llamdas del plan Ultimate\n",
    "mean_call_time_ultimate=user_data_monthly.groupby(by=['plan_name','month']).mean().reset_index()\n",
    "mean_call_time_ultimate= mean_call_time_ultimate.query('plan_name == \"ultimate\"')\n",
    "mean_call_time_ultimate= mean_call_time_ultimate[['month','call_time']]\n",
    "\n",
    "# Se juntan los valores en base al mes\n",
    "mean_call_time= mean_call_time_surf.merge(mean_call_time_ultimate, on='month')\n",
    "mean_call_time.columns=['month','call_time_surf','call_time_ultimate']\n",
    "print(mean_call_time)\n",
    "\n",
    "# Se crea la gráfica de barras\n",
    "mean_call_time.plot(\n",
    "    x='month',\n",
    "    kind='bar',\n",
    "    xlabel='Month',\n",
    "    ylabel='Mean call duration',\n",
    "    title='Monthly Mean Call Duration by Plan',\n",
    "    rot=0\n",
    "    \n",
    ")\n",
    "plt.legend(['Surf','Ultimate'])\n",
    "plt.show()"
   ]
  },
  {
   "cell_type": "code",
   "execution_count": 50,
   "metadata": {
    "id": "QoLqW1S_0q1J"
   },
   "outputs": [
    {
     "name": "stdout",
     "output_type": "stream",
     "text": [
      "  plan_name  call_time\n",
      "0  ultimate      124.0\n",
      "1  ultimate       10.0\n",
      "2  ultimate       59.0\n",
      "3  ultimate      476.0\n",
      "4  ultimate      446.0\n",
      "5  ultimate      634.0\n",
      "6  ultimate      118.0\n",
      "7  ultimate      499.0\n",
      "8  ultimate      486.0\n",
      "9  ultimate      484.0\n"
     ]
    },
    {
     "data": {
      "image/png": "[encoded data removed]",
      "text/plain": [
       "<Figure size 640x480 with 1 Axes>"
      ]
     },
     "metadata": {},
     "output_type": "display_data"
    }
   ],
   "source": [
    "# Comparar el número de minutos mensuales que necesitan los usuarios de cada plan.\n",
    "\n",
    "# Se sacan los minutos registrados de llamadas al mes\n",
    "monthly_minutes= user_data_monthly[['plan_name','call_time']]\n",
    "print(monthly_minutes.head(10))\n",
    "\n",
    "# Se crea primer histograma con los minutos del plan Surf\n",
    "monthly_minutes[monthly_minutes['plan_name']=='surf']['call_time'].plot(kind='hist', bins=40)\n",
    "\n",
    "# Se crea segundo histograma con los minutos del plan Ultimate\n",
    "monthly_minutes[monthly_minutes['plan_name']=='ultimate']['call_time'].plot(kind='hist', bins=40, alpha=0.7)\n",
    "\n",
    "# Se cambia nombre a las leyendas\n",
    "plt.legend(['Surf','Ultimate'])\n",
    "plt.show()\n"
   ]
  },
  {
   "cell_type": "code",
   "execution_count": 51,
   "metadata": {
    "id": "oSndbAnt0q1K"
   },
   "outputs": [
    {
     "name": "stdout",
     "output_type": "stream",
     "text": [
      "La media del plan Surf es: 428.7495232040687 y su varianza es: 54933.33459131747\n",
      "La media del plan Ultimate es: 430.45 y su varianza es: 57764.12527777776\n",
      "\n",
      "Datos de la duración de llamadas de el plan Surf\n",
      "count    1573.000000\n",
      "mean      428.749523\n",
      "std       234.453150\n",
      "min         0.000000\n",
      "25%       272.000000\n",
      "50%       425.000000\n",
      "75%       576.000000\n",
      "max      1510.000000\n",
      "Name: call_time, dtype: float64\n",
      "\n",
      "Datos de la duración de llamadas de el plan Ultimate\n",
      "count     720.000000\n",
      "mean      430.450000\n",
      "std       240.508762\n",
      "min         0.000000\n",
      "25%       260.000000\n",
      "50%       424.000000\n",
      "75%       565.250000\n",
      "max      1369.000000\n",
      "Name: call_time, dtype: float64\n"
     ]
    }
   ],
   "source": [
    "# Calcular la media y la varianza de la duración mensual de llamadas.\n",
    "\n",
    "# Se extraen las duraciones de llamadas por plan\n",
    "call_time_surf=monthly_minutes[monthly_minutes['plan_name']=='surf']['call_time']\n",
    "call_time_ultimate=monthly_minutes[monthly_minutes['plan_name']=='ultimate']['call_time']\n",
    "\n",
    "# Se saca la varianza de cada plan\n",
    "var_call_time_surf=np.var(monthly_minutes[monthly_minutes['plan_name']=='surf']['call_time'])\n",
    "var_call_time_ultimate=np.var(monthly_minutes[monthly_minutes['plan_name']=='ultimate']['call_time'])\n",
    "\n",
    "# Se muestra la media y la varianza de los planes\n",
    "print('La media del plan Surf es:', call_time_surf.mean(), 'y su varianza es:',var_call_time_surf)\n",
    "print('La media del plan Ultimate es:', call_time_ultimate.mean(),'y su varianza es:',var_call_time_ultimate)\n",
    "print()\n",
    "\n",
    "# Se muestran los datos estadísticos del plan Surf\n",
    "print('Datos de la duración de llamadas de el plan Surf')\n",
    "print(call_time_surf.describe())\n",
    "print()\n",
    "\n",
    "# Se muestran los datos estadísticos del plan Ultimate\n",
    "print('Datos de la duración de llamadas de el plan Ultimate')\n",
    "print(call_time_ultimate.describe())"
   ]
  },
  {
   "cell_type": "code",
   "execution_count": 52,
   "metadata": {
    "id": "nZzoRUKc0q1K"
   },
   "outputs": [
    {
     "data": {
      "image/png": "[encoded data removed]",
      "text/plain": [
       "<Figure size 640x480 with 1 Axes>"
      ]
     },
     "metadata": {},
     "output_type": "display_data"
    }
   ],
   "source": [
    "# Se traza un diagrama de caja para visualizar la distribución de la duración mensual de llamadas\n",
    "sns.boxplot(data=monthly_minutes['call_time'])\n",
    "plt.show()"
   ]
  },
  {
   "cell_type": "markdown",
   "metadata": {
    "id": "r627zBO50q1K"
   },
   "source": [
    "Podemos observar que los comportamientos entre los dos planes son muy similares, la diferencia que se pudiera ver es solamente en la frecuencia o cantidades acumuladas por la diferencia que se tienen de usuarios, pero el comportamiento tanto en la gráfica de distribución de minutos como la gráifca de barras de llamadas mensuales se puede ver que llevan la misma tendencia y no varía entre plan. A pesar de que la diferencia de minutos mensuales de cada plan es significativa podemos ver que la media de los dos planes es similar, cercano al límite de los minutos mensuales del plan Surf."
   ]
  },
  {
   "cell_type": "markdown",
   "metadata": {
    "id": "8idKy8Wh0q1L"
   },
   "source": [
    "### Mensajes"
   ]
  },
  {
   "cell_type": "code",
   "execution_count": 53,
   "metadata": {
    "id": "NXLxiTit0q1L"
   },
   "outputs": [
    {
     "data": {
      "image/png": "[encoded data removed]",
      "text/plain": [
       "<Figure size 640x480 with 1 Axes>"
      ]
     },
     "metadata": {},
     "output_type": "display_data"
    }
   ],
   "source": [
    "# Comprarar el número de mensajes que tienden a enviar cada mes los usuarios de cada plan\n",
    "\n",
    "# Se extraen la cantidad de mensajes mensuales del plan Surf\n",
    "msg_surf=user_data_monthly.groupby(by=['plan_name','month']).count().reset_index()\n",
    "msg_surf= msg_surf.query('plan_name == \"surf\"')\n",
    "msg_surf= msg_surf[['month','message_id']]\n",
    "\n",
    "# Se extraen la cantidad de mensajes mensuales del plan Ultimate\n",
    "msg_ultimate=user_data_monthly.groupby(by=['plan_name','month']).count().reset_index()\n",
    "msg_ultimate= msg_ultimate.query('plan_name == \"ultimate\"')\n",
    "msg_ultimate= msg_ultimate[['month','message_id']]\n",
    "\n",
    "# Se juntan los datos en base a los meses para realizar una gráfica de barras comparativa por mes\n",
    "msg_total= msg_surf.merge(msg_ultimate, on='month')\n",
    "msg_total.columns=['month','msg_surf','msg_ultimate']\n",
    "\n",
    "#Se crea la gráfica\n",
    "msg_total.plot(\n",
    "    x='month',\n",
    "    kind='bar',\n",
    "    xlabel='Month',\n",
    "    ylabel='Messages per month',\n",
    "    title='Monthly Messages by Plan',\n",
    "    rot=0\n",
    "    \n",
    ")\n",
    "plt.legend(['Surf','Ultimate'])\n",
    "plt.show()"
   ]
  },
  {
   "cell_type": "code",
   "execution_count": 54,
   "metadata": {
    "id": "GRI_R7xF0q1L"
   },
   "outputs": [
    {
     "data": {
      "image/png": "[encoded data removed]",
      "text/plain": [
       "<Figure size 640x480 with 1 Axes>"
      ]
     },
     "metadata": {},
     "output_type": "display_data"
    }
   ],
   "source": [
    "# Se extra la cantidad de mensajes de los usuarios por plan\n",
    "monthly_messages=user_data_monthly[['plan_name','message_id']]\n",
    "\n",
    "# Se hace primer histograma de el plan Surf\n",
    "monthly_messages[monthly_messages['plan_name']=='surf']['message_id'].plot(kind='hist', bins=40)\n",
    "\n",
    "# Se hace segundo histograma de el plan Ultimate\n",
    "monthly_messages[monthly_messages['plan_name']=='ultimate']['message_id'].plot(kind='hist', bins=40, alpha=0.7)\n",
    "\n",
    "plt.show()"
   ]
  },
  {
   "cell_type": "code",
   "execution_count": 55,
   "metadata": {
    "id": "dtFwCGAp0q1M"
   },
   "outputs": [
    {
     "name": "stdout",
     "output_type": "stream",
     "text": [
      "La media del plan Surf es: 31.15956770502225 y su varianza es: 1126.0082317266633\n",
      "La media del plan Ultimate es: 37.55138888888889 y su varianza es: 1207.0779147376504\n",
      "\n",
      "Datos de los mensajes de el plan Surf\n",
      "count    1573.000000\n",
      "mean       31.159568\n",
      "std        33.566717\n",
      "min         0.000000\n",
      "25%         3.000000\n",
      "50%        24.000000\n",
      "75%        47.000000\n",
      "max       266.000000\n",
      "Name: message_id, dtype: float64\n",
      "\n",
      "Datos de los mensajes de el plan Ultimate\n",
      "count    720.000000\n",
      "mean      37.551389\n",
      "std       34.767179\n",
      "min        0.000000\n",
      "25%        7.000000\n",
      "50%       30.000000\n",
      "75%       61.000000\n",
      "max      166.000000\n",
      "Name: message_id, dtype: float64\n"
     ]
    }
   ],
   "source": [
    "# Calcular la media y la varianza de los mensajes mensuales.\n",
    "\n",
    "# Se extraen las cantidades mensajes por plan\n",
    "msg_surf=monthly_messages[monthly_messages['plan_name']=='surf']['message_id']\n",
    "msg_ultimate=monthly_messages[monthly_messages['plan_name']=='ultimate']['message_id']\n",
    "\n",
    "# Se sacan las varianzas\n",
    "var_msg_surf=np.var(monthly_messages[monthly_messages['plan_name']=='surf']['message_id'])\n",
    "var_msg_ultimate=np.var(monthly_messages[monthly_messages['plan_name']=='ultimate']['message_id'])\n",
    "\n",
    "# Se imprimen los resultados de media y varianza\n",
    "print('La media del plan Surf es:', msg_surf.mean(), 'y su varianza es:',var_msg_surf)\n",
    "print('La media del plan Ultimate es:', msg_ultimate.mean(),'y su varianza es:',var_msg_ultimate)\n",
    "print()\n",
    "\n",
    "# Se imprimen datos estadísticos de cada plan\n",
    "print('Datos de los mensajes de el plan Surf')\n",
    "print(msg_surf.describe())\n",
    "print()\n",
    "print('Datos de los mensajes de el plan Ultimate')\n",
    "print(msg_ultimate.describe())"
   ]
  },
  {
   "cell_type": "code",
   "execution_count": 56,
   "metadata": {},
   "outputs": [
    {
     "data": {
      "image/png": "[encoded data removed]",
      "text/plain": [
       "<Figure size 640x480 with 1 Axes>"
      ]
     },
     "metadata": {},
     "output_type": "display_data"
    }
   ],
   "source": [
    "# Se traza un diagrama de caja para visualizar la distribución de la cantidad de mensajes mensuales\n",
    "sns.boxplot(data=monthly_messages['message_id'])\n",
    "plt.show()"
   ]
  },
  {
   "cell_type": "markdown",
   "metadata": {
    "id": "390SSL480q1M"
   },
   "source": [
    "Al igual que en las llamadas, la tendencia es la misma en ambos planes, en este caso podemos ver que la mayoría de los usuarios no usan tanto el servicio de mensajes de texto. Observamos que las medias y medianas son similares con una diferencia aprox de 6, pero a pesar de que el servicio Surf tiene menos mensajes en el plan, es normalmente el que más mensajes envía de los dos. "
   ]
  },
  {
   "cell_type": "markdown",
   "metadata": {
    "id": "42YSypXz0q1M"
   },
   "source": [
    "### Internet"
   ]
  },
  {
   "cell_type": "code",
   "execution_count": 57,
   "metadata": {
    "id": "lSuKPtjh0q1M"
   },
   "outputs": [
    {
     "data": {
      "image/png": "[encoded data removed]",
      "text/plain": [
       "<Figure size 640x480 with 1 Axes>"
      ]
     },
     "metadata": {},
     "output_type": "display_data"
    }
   ],
   "source": [
    "# Comparar la cantidad de tráfico de Internet consumido por usuarios por plan\n",
    "\n",
    "# Se extraen la cantidad de gb consumidos mensuales del plan Surf\n",
    "gb_surf=user_data_monthly.groupby(by=['plan_name','month']).sum().reset_index()\n",
    "gb_surf= gb_surf.query('plan_name == \"surf\"')\n",
    "gb_surf= gb_surf[['month','gb_used']]\n",
    "\n",
    "# Se extraen la cantidad de gb consumidos mensuales del plan Ultimate\n",
    "gb_ultimate=user_data_monthly.groupby(by=['plan_name','month']).sum().reset_index()\n",
    "gb_ultimate= gb_ultimate.query('plan_name == \"ultimate\"')\n",
    "gb_ultimate= gb_ultimate[['month','gb_used']]\n",
    "\n",
    "# Se juntan los datos en base a los meses para realizar una gráfica de barras comparativa por mes\n",
    "gb_total= gb_surf.merge(gb_ultimate, on='month')\n",
    "gb_total.columns=['month','gb_used_surf','gb_used_ultimate']\n",
    "\n",
    "# Se crea la gráfica\n",
    "gb_total.plot(\n",
    "    x='month',\n",
    "    kind='bar',\n",
    "    xlabel='Month',\n",
    "    ylabel='Gb used per month',\n",
    "    title='Monthly Gb Usage by Plan',\n",
    "    rot=0\n",
    "    \n",
    ")\n",
    "plt.legend(['Surf','Ultimate'])\n",
    "plt.show()"
   ]
  },
  {
   "cell_type": "code",
   "execution_count": 58,
   "metadata": {
    "id": "wnh8jYXi0q1N"
   },
   "outputs": [
    {
     "data": {
      "image/png": "[encoded data removed]",
      "text/plain": [
       "<Figure size 640x480 with 1 Axes>"
      ]
     },
     "metadata": {},
     "output_type": "display_data"
    }
   ],
   "source": [
    "# Se saca la cantidad de gb usados mensuales por plan\n",
    "monthly_gb_used=user_data_monthly[['plan_name','gb_used']]\n",
    "\n",
    "# Se crea primer histograma para el plan Surf\n",
    "monthly_gb_used[monthly_gb_used['plan_name']=='surf']['gb_used'].plot(kind='hist', bins=40)\n",
    "\n",
    "# Se crea segundo histograma para el plan Ultimate\n",
    "monthly_gb_used[monthly_gb_used['plan_name']=='ultimate']['gb_used'].plot(kind='hist', bins=40, alpha=0.7)\n",
    "\n",
    "plt.show()"
   ]
  },
  {
   "cell_type": "code",
   "execution_count": 59,
   "metadata": {},
   "outputs": [
    {
     "name": "stdout",
     "output_type": "stream",
     "text": [
      "La media del plan Surf es: 16.670692943420217 y su varianza es: 61.544449424470294\n",
      "La media del plan Ultimate es: 17.306944444444444 y su varianza es: 58.748840663580175\n",
      "\n",
      "Datos del internet consumido de el plan Surf\n",
      "count    1573.000000\n",
      "mean       16.670693\n",
      "std         7.847522\n",
      "min         0.000000\n",
      "25%        12.000000\n",
      "50%        17.000000\n",
      "75%        21.000000\n",
      "max        70.000000\n",
      "Name: gb_used, dtype: float64\n",
      "\n",
      "Datos del internet consumido de el plan Ultimate\n",
      "count    720.000000\n",
      "mean      17.306944\n",
      "std        7.670108\n",
      "min        0.000000\n",
      "25%       13.000000\n",
      "50%       17.000000\n",
      "75%       21.000000\n",
      "max       46.000000\n",
      "Name: gb_used, dtype: float64\n"
     ]
    }
   ],
   "source": [
    "# Calcular la media y la varianza de los gb usados mensuales.\n",
    "\n",
    "# Se extraen las cantidades gb usados por plan\n",
    "gb_surf=monthly_gb_used[monthly_gb_used['plan_name']=='surf']['gb_used']\n",
    "gb_ultimate=monthly_gb_used[monthly_gb_used['plan_name']=='ultimate']['gb_used']\n",
    "\n",
    "# Se sacan las varianzas\n",
    "var_gb_surf=np.var(monthly_gb_used[monthly_gb_used['plan_name']=='surf']['gb_used'])\n",
    "var_gb_ultimate=np.var(monthly_gb_used[monthly_gb_used['plan_name']=='ultimate']['gb_used'])\n",
    "\n",
    "# Se muestran las medias y las varianzas\n",
    "print('La media del plan Surf es:', gb_surf.mean(), 'y su varianza es:',var_gb_surf)\n",
    "print('La media del plan Ultimate es:', gb_ultimate.mean(),'y su varianza es:',var_gb_ultimate)\n",
    "print()\n",
    "\n",
    "# Se imprimen datos estadísticos de cada plan \n",
    "print('Datos del internet consumido de el plan Surf')\n",
    "print(gb_surf.describe())\n",
    "print()\n",
    "print('Datos del internet consumido de el plan Ultimate')\n",
    "print(gb_ultimate.describe())"
   ]
  },
  {
   "cell_type": "code",
   "execution_count": 60,
   "metadata": {
    "id": "5VlyJ9ry0q1N",
    "scrolled": true
   },
   "outputs": [
    {
     "data": {
      "image/png": "[encoded data removed]",
      "text/plain": [
       "<Figure size 640x480 with 1 Axes>"
      ]
     },
     "metadata": {},
     "output_type": "display_data"
    }
   ],
   "source": [
    "# Se traza un diagrama de caja para visualizar la distribución de la cantidad de gb usados mensuales\n",
    "sns.boxplot(data=monthly_gb_used['gb_used'])\n",
    "plt.show()"
   ]
  },
  {
   "cell_type": "markdown",
   "metadata": {
    "id": "UN9zwuMP0q1N"
   },
   "source": [
    "Vemos el mismo comportamiento, las tendencias son las mismas entre planes. Las medias son casi iguales, siendo de 40.14 y 41.08, la mediana es la misma siendo 42, pero observamos que en el plan Surf los usuarios suelen tener valores en el extremo superior más altos que los del plan Ultimate, a pesar de tener una menor cantidad de gb disponibles."
   ]
  },
  {
   "cell_type": "markdown",
   "metadata": {
    "id": "tCijq3260q1N"
   },
   "source": [
    "## Ingreso"
   ]
  },
  {
   "cell_type": "code",
   "execution_count": 62,
   "metadata": {
    "id": "tz-dq_V00q1O"
   },
   "outputs": [
    {
     "data": {
      "image/png": "[encoded data removed]",
      "text/plain": [
       "<Figure size 640x480 with 1 Axes>"
      ]
     },
     "metadata": {},
     "output_type": "display_data"
    }
   ],
   "source": [
    "# Comparar la cantidad de ingreso por usuarios por plan\n",
    "\n",
    "# Se extraen la cantidad media de ingresos mensuales del plan Surf\n",
    "mean_income_surf=user_data_monthly.groupby(by=['plan_name','month']).mean().reset_index()\n",
    "mean_income_surf= mean_income_surf.query('plan_name == \"surf\"')\n",
    "mean_income_surf= mean_income_surf[['month','total_income']]\n",
    "\n",
    "# Se extraen la cantidad media de ingresos mensuales del plan Ultimate\n",
    "mean_income_ultimate=user_data_monthly.groupby(by=['plan_name','month']).mean().reset_index()\n",
    "mean_income_ultimate= mean_income_ultimate.query('plan_name == \"ultimate\"')\n",
    "mean_income_ultimate= mean_income_ultimate[['month','total_income']]\n",
    "\n",
    "# Se juntan los datos en base a los meses para realizar una gráfica de barras comparativa por mes\n",
    "mean_income_total= mean_income_surf.merge(mean_income_ultimate, on='month')\n",
    "mean_income_total.columns=['month','mean_income_surf','mean_income_ultimate']\n",
    "\n",
    "# Se crea la gráfica\n",
    "mean_income_total.plot(\n",
    "    x='month',\n",
    "    kind='bar',\n",
    "    xlabel='Month',\n",
    "    ylabel='Mean income per month',\n",
    "    title='Monthly Mean Income by Plan',\n",
    "    rot=0\n",
    "    \n",
    ")\n",
    "plt.legend(['Surf','Ultimate'])\n",
    "plt.show()"
   ]
  },
  {
   "cell_type": "code",
   "execution_count": 64,
   "metadata": {
    "id": "0Y1v8ZUz0q1P"
   },
   "outputs": [
    {
     "data": {
      "image/png": "[encoded data removed]",
      "text/plain": [
       "<Figure size 640x480 with 1 Axes>"
      ]
     },
     "metadata": {},
     "output_type": "display_data"
    }
   ],
   "source": [
    "# Se sacan los ingresos por plan\n",
    "monthly_income=user_data_monthly[['plan_name','total_income']]\n",
    "\n",
    "# Se crea primer histograma para los ingresos del plan Surf\n",
    "monthly_income[monthly_income['plan_name']=='surf']['total_income'].plot(kind='hist', bins=40)\n",
    "\n",
    "# Se crea segundo histograma para los ingresos del plan Ultimate\n",
    "monthly_income[monthly_income['plan_name']=='ultimate']['total_income'].plot(kind='hist', bins=40, alpha=0.7)\n",
    "\n",
    "plt.show()"
   ]
  },
  {
   "cell_type": "code",
   "execution_count": 66,
   "metadata": {},
   "outputs": [
    {
     "name": "stdout",
     "output_type": "stream",
     "text": [
      "La media del plan Surf es: 60.706408137317226 y su varianza es: 3065.8848438690225\n",
      "La media del plan Ultimate es: 72.31388888888888 y su varianza es: 129.66814043209837\n",
      "\n",
      "Datos del internet consumido de el plan Surf\n",
      "count    1573.000000\n",
      "mean       60.706408\n",
      "std        55.388042\n",
      "min        20.000000\n",
      "25%        20.000000\n",
      "50%        40.360000\n",
      "75%        80.360000\n",
      "max       590.370000\n",
      "Name: total_income, dtype: float64\n",
      "\n",
      "Datos del internet consumido de el plan Ultimate\n",
      "count    720.000000\n",
      "mean      72.313889\n",
      "std       11.395108\n",
      "min       70.000000\n",
      "25%       70.000000\n",
      "50%       70.000000\n",
      "75%       70.000000\n",
      "max      182.000000\n",
      "Name: total_income, dtype: float64\n"
     ]
    }
   ],
   "source": [
    "# Calcular la media y la varianza de los ingresos mensuales.\n",
    "\n",
    "# Se extraen los ingresos por plan\n",
    "income_surf=monthly_income[monthly_income['plan_name']=='surf']['total_income']\n",
    "income_ultimate=monthly_income[monthly_income['plan_name']=='ultimate']['total_income']\n",
    "\n",
    "# Se sacan las varianzas\n",
    "var_income_surf=np.var(monthly_income[monthly_income['plan_name']=='surf']['total_income'])\n",
    "var_income_ultimate=np.var(monthly_income[monthly_income['plan_name']=='ultimate']['total_income'])\n",
    "\n",
    "# Se muestran las medias y las varianzas\n",
    "\n",
    "print('La media del plan Surf es:', income_surf.mean(), 'y su varianza es:',var_income_surf)\n",
    "print('La media del plan Ultimate es:', income_ultimate.mean(),'y su varianza es:',var_income_ultimate)\n",
    "print()\n",
    "\n",
    "# Se imprimen datos estadísticos de cada plan \n",
    "print('Datos del internet consumido de el plan Surf')\n",
    "print(income_surf.describe())\n",
    "print()\n",
    "print('Datos del internet consumido de el plan Ultimate')\n",
    "print(income_ultimate.describe())"
   ]
  },
  {
   "cell_type": "code",
   "execution_count": 67,
   "metadata": {
    "id": "bYmwxyVh0q1P"
   },
   "outputs": [
    {
     "data": {
      "image/png": "[encoded data removed]",
      "text/plain": [
       "<Figure size 640x480 with 1 Axes>"
      ]
     },
     "metadata": {},
     "output_type": "display_data"
    }
   ],
   "source": [
    "# Se traza un diagrama de caja para visualizar la distribución de los ingresos mensuales\n",
    "sns.boxplot(data=monthly_income['total_income'])\n",
    "plt.show()"
   ]
  },
  {
   "cell_type": "markdown",
   "metadata": {
    "id": "KAFidcXZ0q1P"
   },
   "source": [
    "Aquí podemos hacer una observación interesante, los usuarios del plan surf tienden más a excederse en las tarifas de sus planes, a veces llegando a pagar más de lo que los usuarios ultimate pagan mensualmente. En el caso del plan ultimate, son pocos los que tienden a rebasar las tarifas y suelen pagar el costo del plan únicamente. Podemos observar por primera vez una gran diferencia en la media, los usuarios del plan Surf pagando 282 en promedio y los usuarios del plan Ultimate 166. Esto se correlaciona con el hecho de que tanto en llamadas, mensajes e internet estuvieran similares en uso, teniendo en cuenta que los límites son diferentes y el costo por superarlos."
   ]
  },
  {
   "cell_type": "markdown",
   "metadata": {
    "id": "ajJ7VKeI0q1Q"
   },
   "source": [
    "## Prueba las hipótesis estadísticas"
   ]
  },
  {
   "cell_type": "markdown",
   "metadata": {},
   "source": [
    "### Primera hipótesis\n",
    "\n",
    "Probaremos la hipótesis de que el ingreso promedio de los planes son diferentes.\n",
    "\n",
    "* Hipótesis nula: Los ingresos promedio de los planes de llamada son iguales.\n",
    "\n",
    "* Hipótesis alternativa: Los ingresos promedio de los planes de llamada son diferentes."
   ]
  },
  {
   "cell_type": "code",
   "execution_count": 68,
   "metadata": {
    "id": "nFoPNlPq0q1R",
    "scrolled": true
   },
   "outputs": [
    {
     "name": "stdout",
     "output_type": "stream",
     "text": [
      "Se rechaza la igualdad de varianzas\n"
     ]
    }
   ],
   "source": [
    "# Se sacan los ingresos de cada plan \n",
    "surf_income= monthly_income[monthly_income['plan_name']=='surf']['total_income']\n",
    "ultimate_income= monthly_income[monthly_income['plan_name']=='ultimate']['total_income']\n",
    "\n",
    "# Se realiza prueba para homogeneidad de varianzas\n",
    "statistic, levene_plan_income= levene(surf_income, ultimate_income)\n",
    "\n",
    "# Se compara el resultado con un nivel de significancia\n",
    "alpha=0.5\n",
    "if levene_plan_income > alpha:\n",
    "    print('No hay evidencia para rechazar una igualdad de varianzas')\n",
    "    equal_var= True\n",
    "else:\n",
    "    print('Se rechaza la igualdad de varianzas')\n",
    "    equal_var= False"
   ]
  },
  {
   "cell_type": "code",
   "execution_count": 69,
   "metadata": {},
   "outputs": [
    {
     "name": "stdout",
     "output_type": "stream",
     "text": [
      "El valor p es igual a: 3.1703905481135734e-15\n",
      "Rechazamos la hipótesis nula\n"
     ]
    }
   ],
   "source": [
    "# Se realiza la prueba para calcular la igualdad de dos poblaciones\n",
    "income_results_by_plan=st.ttest_ind(surf_income, ultimate_income, equal_var= equal_var)\n",
    "\n",
    "print('El valor p es igual a:', income_results_by_plan.pvalue)\n",
    "\n",
    "if income_results_by_plan.pvalue < alpha:\n",
    "    print('Rechazamos la hipótesis nula')\n",
    "else:\n",
    "    print('No podemos rechazar la hipótesis nula')\n"
   ]
  },
  {
   "cell_type": "markdown",
   "metadata": {
    "id": "tCcAruM60q1R"
   },
   "source": [
    "### Segunda hipótesis\n",
    "\n",
    "Probaremos la hipótesis de que el ingreso promedio de los usuarios del área NY-NJ es diferente al de los usuarios de otras regiones\n",
    "\n",
    "* Hipótesis nula: Los ingresos promedio de los usuarios del área NY-NJ es igual al de los usuarios de otras regiones.\n",
    "\n",
    "* Hipótesis alternativa: Los ingresos promedio de los usuarios del área NY-NJ es diferente al de los usuarios de otras regiones."
   ]
  },
  {
   "cell_type": "code",
   "execution_count": 70,
   "metadata": {
    "id": "Cqcj7wrZ0q1S",
    "scrolled": true
   },
   "outputs": [
    {
     "name": "stdout",
     "output_type": "stream",
     "text": [
      "La media de ingreso en NY-NJ es: 59.92135278514589 y su varianza: 1890.5177172681151\n",
      "La media de ingreso en el resto de las ciudades es: 65.2227713987474 y su varianza: 2223.886695816218\n"
     ]
    }
   ],
   "source": [
    "# Se saca la información que se trabajará, el usuario y su ingreso\n",
    "income_by_city= user_data_monthly[['user_id','total_income']]\n",
    "\n",
    "# Se saca la ciudad de los usuarios del df users\n",
    "users_city= users[['user_id','city']]\n",
    "\n",
    "# Se crea df con la información de ingreso de los usuarios y su ciudad\n",
    "income_by_city= income_by_city.merge(users_city, on='user_id', how='left')\n",
    "\n",
    "# Se sacan los ingresos de la población de NY-NJ\n",
    "income_NY_NJ= income_by_city[income_by_city['city'] ==  'New York-Newark-Jersey City, NY-NJ-PA MSA']['total_income']\n",
    "\n",
    "# Se sacan los ingresos del resto de la población\n",
    "income_rest= income_by_city[income_by_city['city'] != 'New York-Newark-Jersey City, NY-NJ-PA MSA']['total_income']\n",
    "\n",
    "print('La media de ingreso en NY-NJ es:',income_by_city[income_by_city['city'] ==  'New York-Newark-Jersey City, NY-NJ-PA MSA']['total_income'].mean(),'y su varianza:', np.var(income_by_city[income_by_city['city'] ==  'New York-Newark-Jersey City, NY-NJ-PA MSA']['total_income']))\n",
    "print('La media de ingreso en el resto de las ciudades es:',income_by_city[income_by_city['city'] != 'New York-Newark-Jersey City, NY-NJ-PA MSA']['total_income'].mean(),'y su varianza:', np.var(income_by_city[income_by_city['city'] != 'New York-Newark-Jersey City, NY-NJ-PA MSA']['total_income']))\n",
    "\n"
   ]
  },
  {
   "cell_type": "code",
   "execution_count": 71,
   "metadata": {},
   "outputs": [
    {
     "name": "stdout",
     "output_type": "stream",
     "text": [
      "Se rechaza la igualdad de varianzas\n",
      "El valor p es igual a: 0.033525615885300314\n",
      "Rechazamos la hipótesis nula\n"
     ]
    }
   ],
   "source": [
    "# Se realiza prueba para homogeneidad de varianzas\n",
    "statistic, levene_city_income= levene(income_NY_NJ, income_rest)\n",
    "# Se compara el resultado con un nivel de significancia\n",
    "alpha=0.5\n",
    "if levene_city_income > alpha:\n",
    "    print('No hay evidencia para rechazar una igualdad de varianzas')\n",
    "    equal_var= True\n",
    "else:\n",
    "    print('Se rechaza la igualdad de varianzas')\n",
    "    equal_var= False\n",
    "    \n",
    "# Se realiza la prueba para calcular la igualdad de dos poblaciones\n",
    "income_results_by_city=st.ttest_ind(income_NY_NJ, income_rest, equal_var= equal_var)\n",
    "\n",
    "print('El valor p es igual a:', income_results_by_city.pvalue)\n",
    "if income_results_by_city.pvalue < alpha:\n",
    "    print('Rechazamos la hipótesis nula')\n",
    "else:\n",
    "    print('No podemos rechazar la hipótesis nula')\n"
   ]
  },
  {
   "cell_type": "markdown",
   "metadata": {},
   "source": [
    "La primera hipótesis que pusimos a prueba en cuanto a la diferencia de ingresos de ambos planes, nos dió un resultado que \n",
    "nos indica el que realmente hay una diferencia entre los dos ingresos ya que la probabilidad de que nos de una diferencia\n",
    "de ese valor es muy mínima. Para el segundo caso, en el que nuestra prueba fue revisar que el promedio de ingreso de la \n",
    "región NY-NJ es diferente al resto de las ciudades, nos dió como resultado el rechazar la hipótesis nula, ya que la \n",
    "probabilidad de resultado es muy poca, con un 0.4%, así que sería correcto decir que el ingreso de esa región es diferente\n",
    "al del resto de ciudades."
   ]
  },
  {
   "cell_type": "markdown",
   "metadata": {
    "id": "bbTR8UQO0q1T"
   },
   "source": [
    "## Conclusión general\n",
    "\n"
   ]
  },
  {
   "cell_type": "markdown",
   "metadata": {},
   "source": [
    "1.\tSe cargaron todas las librerías que se consideraron importantes a utilizar en el proyecto realizado, sabiendo que se iba a realizar limpieza y arreglo de datos, operaciones para creación de columnas, gráficas y pruebas estadísticas. \n",
    "\n",
    "2.\tSe revisó cada dataframe y su contenido para ver de que manera se podía optimizar su uso, como lo fue con la transformación de fechas a datetime, el renombrar columnas para un mejor manejo o la transformación de unidades en el consumo de internet para tener una unidad estándar.\n",
    "\n",
    "3.\tSe realizó un dataframe en el que pudiéramos manejar todos los consumos de los usuarios, primero extrayendo los consumibles por usuario y mes de cada dataframe para unirlos en uno solo, en base al usuario y el mes.\n",
    "\n",
    "4.\tSe asignó a cada uno el plan tarifario correspondiente y se añadieron su exceso de consumo en llamadas, mensajes e internet y su cuota total.\n",
    "\n",
    "5.\tSe realizaron para cada apartado del plan, gráficas de barras para comparar el consumo mensual por plan, histogramas para observar la distribución en el consumo de los clientes, se obtuvieron datos estadísticos para observar las diferencias y se realizaron boxplots para observar los cuartiles y los datos en los extremos.\n",
    "\n",
    "6.\tSe realizaron dos pruebas de hipótesis en las que primero se realizó una prueba para checar la igualdad de las varianzas entre poblaciones, para después hacer una prueba de igualdad de media de poblaciones y tomar una postura respecto a las hipótesis que realizamos.\n",
    "\n",
    "7.\tHay un área de oportunidad para la telefónica para ofrecer a sus usuarios de el plan Surf que rebasan mensualmente la tarifa llegando a estar cerca o incluso rebasar el costo de la tarifa ultimate, ofrecerles subir de plan para que pueden tener un mejor manejo de su plan y evitar recargos grandes.\n",
    "\n",
    "8.\tEl plan Ultimate es la que deja más ingresos a la compañía y los usuarios quedan dentro de los parámetros que este ofrece, por lo tanto hay que hacer más publicidad de que la gente comience con este plan.\n",
    "\n",
    "9.\tLas diferencias entre un plan y otro en cuanto uso de llamadas, mensajes e internet es muy poco, las tendencias entre los usuarios son las mismas.\n"
   ]
  }
 ],
 "metadata": {
  "ExecuteTimeLog": [
   {
    "duration": 828,
    "start_time": "2021-11-16T09:21:11.304Z"
   },
   {
    "duration": 893,
    "start_time": "2021-11-16T09:21:17.728Z"
   },
   {
    "duration": 1150,
    "start_time": "2021-11-16T09:21:29.568Z"
   },
   {
    "duration": 3,
    "start_time": "2021-11-16T09:24:14.495Z"
   },
   {
    "duration": 120,
    "start_time": "2021-11-16T09:24:46.630Z"
   },
   {
    "duration": 3,
    "start_time": "2021-11-16T09:28:27.882Z"
   },
   {
    "duration": 4,
    "start_time": "2021-11-16T09:29:54.281Z"
   },
   {
    "duration": 3,
    "start_time": "2021-11-16T09:30:45.936Z"
   },
   {
    "duration": 4,
    "start_time": "2021-11-16T09:31:06.300Z"
   },
   {
    "duration": 113,
    "start_time": "2021-11-16T09:31:37.208Z"
   },
   {
    "duration": 143,
    "start_time": "2021-11-16T09:31:48.656Z"
   },
   {
    "duration": 98,
    "start_time": "2021-11-16T09:31:55.678Z"
   },
   {
    "duration": 3,
    "start_time": "2021-11-16T09:32:08.535Z"
   },
   {
    "duration": 111,
    "start_time": "2021-11-16T09:32:10.120Z"
   },
   {
    "duration": 3,
    "start_time": "2021-11-16T09:32:15.732Z"
   },
   {
    "duration": 4,
    "start_time": "2021-11-16T09:32:29.423Z"
   },
   {
    "duration": 3,
    "start_time": "2021-11-16T10:03:03.074Z"
   },
   {
    "duration": 3,
    "start_time": "2021-11-16T10:10:01.288Z"
   },
   {
    "duration": 3,
    "start_time": "2021-11-16T10:10:46.923Z"
   },
   {
    "duration": 121,
    "start_time": "2021-11-16T10:37:46.494Z"
   },
   {
    "duration": 125,
    "start_time": "2021-11-16T10:38:20.632Z"
   },
   {
    "duration": 112,
    "start_time": "2021-11-16T10:46:53.001Z"
   },
   {
    "duration": 110,
    "start_time": "2021-11-16T10:48:25.775Z"
   },
   {
    "duration": 3,
    "start_time": "2021-11-16T10:50:18.720Z"
   },
   {
    "duration": 4,
    "start_time": "2021-11-16T10:50:37.649Z"
   },
   {
    "duration": 2,
    "start_time": "2021-11-16T10:50:51.884Z"
   },
   {
    "duration": 3,
    "start_time": "2021-11-16T10:51:56.237Z"
   },
   {
    "duration": 101,
    "start_time": "2021-11-16T10:53:13.791Z"
   },
   {
    "duration": 3,
    "start_time": "2021-11-16T10:55:59.186Z"
   },
   {
    "duration": 3,
    "start_time": "2021-11-16T10:56:10.751Z"
   },
   {
    "duration": 3,
    "start_time": "2021-11-16T10:56:49.038Z"
   },
   {
    "duration": 3,
    "start_time": "2021-11-16T10:56:49.174Z"
   },
   {
    "duration": 4,
    "start_time": "2021-11-16T10:56:49.414Z"
   },
   {
    "duration": 3,
    "start_time": "2021-11-16T10:56:49.680Z"
   },
   {
    "duration": 3,
    "start_time": "2021-11-16T10:56:50.370Z"
   },
   {
    "duration": 114,
    "start_time": "2021-11-16T10:59:34.518Z"
   },
   {
    "duration": 3,
    "start_time": "2021-11-16T11:01:41.201Z"
   },
   {
    "duration": 116,
    "start_time": "2021-11-16T11:01:48.754Z"
   },
   {
    "duration": 3,
    "start_time": "2021-11-16T11:02:16.685Z"
   },
   {
    "duration": 3,
    "start_time": "2021-11-16T11:02:19.479Z"
   },
   {
    "duration": 3,
    "start_time": "2021-11-16T11:02:47.067Z"
   },
   {
    "duration": 3,
    "start_time": "2021-11-16T11:02:49.353Z"
   },
   {
    "duration": 3,
    "start_time": "2021-11-16T11:03:07.835Z"
   },
   {
    "duration": 3,
    "start_time": "2021-11-16T11:03:07.953Z"
   },
   {
    "duration": 112,
    "start_time": "2021-11-16T11:07:52.072Z"
   },
   {
    "duration": 187,
    "start_time": "2021-11-16T11:09:23.468Z"
   },
   {
    "duration": 4,
    "start_time": "2021-11-16T11:10:01.455Z"
   },
   {
    "duration": 3,
    "start_time": "2021-11-16T11:10:05.069Z"
   },
   {
    "duration": 4,
    "start_time": "2021-11-16T11:10:13.376Z"
   },
   {
    "duration": 3,
    "start_time": "2021-11-16T11:10:14.434Z"
   },
   {
    "duration": 3,
    "start_time": "2021-11-16T11:10:22.853Z"
   },
   {
    "duration": 4,
    "start_time": "2021-11-16T11:27:29.279Z"
   },
   {
    "duration": 4,
    "start_time": "2021-11-16T11:29:08.919Z"
   },
   {
    "duration": 118,
    "start_time": "2021-11-16T11:29:46.703Z"
   },
   {
    "duration": 437,
    "start_time": "2021-11-16T11:36:02.181Z"
   },
   {
    "duration": 157,
    "start_time": "2021-11-16T11:36:14.388Z"
   },
   {
    "duration": 207,
    "start_time": "2021-11-16T11:47:15.898Z"
   },
   {
    "duration": 3,
    "start_time": "2021-11-16T11:53:52.092Z"
   },
   {
    "duration": 3,
    "start_time": "2021-11-16T11:53:52.236Z"
   },
   {
    "duration": 3,
    "start_time": "2021-11-16T11:59:12.005Z"
   },
   {
    "duration": 112,
    "start_time": "2021-11-16T12:00:33.446Z"
   },
   {
    "duration": 3,
    "start_time": "2021-11-16T12:02:14.453Z"
   },
   {
    "duration": 3,
    "start_time": "2021-11-16T12:02:39.512Z"
   },
   {
    "duration": 106,
    "start_time": "2021-11-16T12:03:03.460Z"
   },
   {
    "duration": 3,
    "start_time": "2021-11-17T20:37:21.139Z"
   },
   {
    "duration": 3,
    "start_time": "2021-11-17T20:37:22.229Z"
   },
   {
    "duration": 3,
    "start_time": "2021-11-17T20:38:38.806Z"
   },
   {
    "duration": 3,
    "start_time": "2021-11-17T20:38:41.958Z"
   },
   {
    "duration": 3,
    "start_time": "2021-11-17T20:43:46.551Z"
   },
   {
    "duration": 4,
    "start_time": "2021-11-17T20:58:21.835Z"
   },
   {
    "duration": 3,
    "start_time": "2021-11-17T20:59:21.872Z"
   },
   {
    "duration": 4,
    "start_time": "2021-11-17T20:59:45.352Z"
   },
   {
    "duration": 4,
    "start_time": "2021-11-17T20:59:49.646Z"
   },
   {
    "duration": 159,
    "start_time": "2021-11-17T21:02:26.949Z"
   },
   {
    "duration": 3,
    "start_time": "2021-11-17T21:03:53.461Z"
   },
   {
    "duration": 3,
    "start_time": "2021-11-17T21:03:53.694Z"
   },
   {
    "duration": 3,
    "start_time": "2021-11-17T21:05:28.145Z"
   },
   {
    "duration": 116,
    "start_time": "2021-11-17T21:05:57.787Z"
   },
   {
    "duration": 3,
    "start_time": "2021-11-17T21:06:37.993Z"
   },
   {
    "duration": 3,
    "start_time": "2021-11-17T21:06:38.261Z"
   },
   {
    "duration": 3,
    "start_time": "2021-11-17T21:11:54.358Z"
   },
   {
    "duration": 3,
    "start_time": "2021-11-17T21:12:43.846Z"
   },
   {
    "duration": 4,
    "start_time": "2021-11-17T21:13:08.773Z"
   },
   {
    "duration": 3,
    "start_time": "2021-11-17T21:14:44.441Z"
   },
   {
    "duration": 3,
    "start_time": "2021-11-17T21:15:42.059Z"
   },
   {
    "duration": 4,
    "start_time": "2021-11-17T21:15:51.995Z"
   },
   {
    "duration": 3,
    "start_time": "2021-11-17T21:15:53.923Z"
   },
   {
    "duration": 3,
    "start_time": "2021-11-17T21:15:55.282Z"
   },
   {
    "duration": 3,
    "start_time": "2021-11-17T21:16:28.492Z"
   },
   {
    "duration": 3,
    "start_time": "2021-11-17T21:16:32.603Z"
   },
   {
    "duration": 3,
    "start_time": "2021-11-17T21:17:06.941Z"
   },
   {
    "duration": 98,
    "start_time": "2021-11-17T21:18:05.733Z"
   },
   {
    "duration": 4,
    "start_time": "2021-11-17T21:21:35.255Z"
   },
   {
    "duration": 3,
    "start_time": "2021-11-17T21:21:37.804Z"
   },
   {
    "duration": 4,
    "start_time": "2021-11-17T21:23:06.071Z"
   },
   {
    "duration": 3,
    "start_time": "2021-11-17T21:23:24.799Z"
   },
   {
    "duration": 3,
    "start_time": "2021-11-17T21:23:32.591Z"
   },
   {
    "duration": 98,
    "start_time": "2021-11-17T21:28:31.559Z"
   },
   {
    "duration": 3,
    "start_time": "2021-11-17T21:28:45.448Z"
   },
   {
    "duration": 3,
    "start_time": "2021-11-17T21:29:17.303Z"
   },
   {
    "duration": 3,
    "start_time": "2021-11-17T21:29:29.617Z"
   },
   {
    "duration": 3,
    "start_time": "2021-11-17T21:29:32.681Z"
   },
   {
    "duration": 3,
    "start_time": "2021-11-17T21:36:11.474Z"
   },
   {
    "duration": 3,
    "start_time": "2021-11-17T21:36:14.791Z"
   },
   {
    "duration": 3,
    "start_time": "2021-11-17T21:36:53.943Z"
   },
   {
    "duration": 3,
    "start_time": "2021-11-17T21:36:56.165Z"
   },
   {
    "duration": 4,
    "start_time": "2021-11-17T21:37:16.590Z"
   },
   {
    "duration": 3,
    "start_time": "2021-11-17T21:37:22.702Z"
   },
   {
    "duration": 4,
    "start_time": "2021-11-17T21:38:03.479Z"
   },
   {
    "duration": 3,
    "start_time": "2021-11-17T21:38:08.601Z"
   },
   {
    "duration": 3,
    "start_time": "2021-11-17T21:38:12.928Z"
   },
   {
    "duration": 3,
    "start_time": "2021-11-17T21:38:48.896Z"
   },
   {
    "duration": 2,
    "start_time": "2021-11-17T21:38:49.171Z"
   },
   {
    "duration": 4,
    "start_time": "2021-11-17T21:39:57.889Z"
   },
   {
    "duration": 3,
    "start_time": "2021-11-17T21:39:58.057Z"
   },
   {
    "duration": 3,
    "start_time": "2021-11-17T21:41:20.108Z"
   },
   {
    "duration": 3,
    "start_time": "2021-11-17T21:41:20.629Z"
   },
   {
    "duration": 3,
    "start_time": "2021-11-17T21:42:49.136Z"
   },
   {
    "duration": 3,
    "start_time": "2021-11-17T21:43:15.137Z"
   },
   {
    "duration": 4,
    "start_time": "2021-11-17T21:43:16.766Z"
   },
   {
    "duration": 4,
    "start_time": "2021-11-17T21:43:31.711Z"
   },
   {
    "duration": 3,
    "start_time": "2021-11-17T21:43:36.312Z"
   },
   {
    "duration": 4,
    "start_time": "2021-11-17T21:45:08.825Z"
   },
   {
    "duration": 4,
    "start_time": "2021-11-17T21:45:10.119Z"
   },
   {
    "duration": 4,
    "start_time": "2021-11-17T21:45:13.748Z"
   },
   {
    "duration": 3,
    "start_time": "2021-11-17T21:45:22.219Z"
   },
   {
    "duration": 3,
    "start_time": "2021-11-17T21:45:33.412Z"
   },
   {
    "duration": 2,
    "start_time": "2021-11-17T21:46:01.885Z"
   },
   {
    "duration": 3,
    "start_time": "2021-11-17T21:46:03.628Z"
   },
   {
    "duration": 107,
    "start_time": "2021-11-17T21:47:32.512Z"
   },
   {
    "duration": 103,
    "start_time": "2021-11-17T21:50:36.243Z"
   },
   {
    "duration": 3,
    "start_time": "2021-11-18T06:28:31.440Z"
   },
   {
    "duration": 3,
    "start_time": "2021-11-18T06:29:00.168Z"
   },
   {
    "duration": 3,
    "start_time": "2021-11-18T06:31:27.008Z"
   },
   {
    "duration": 2,
    "start_time": "2021-11-18T06:35:34.288Z"
   },
   {
    "duration": 2,
    "start_time": "2021-11-18T06:38:04.527Z"
   }
  ],
  "colab": {
   "provenance": []
  },
  "kernelspec": {
   "display_name": "Python 3 (ipykernel)",
   "language": "python",
   "name": "python3"
  },
  "language_info": {
   "codemirror_mode": {
    "name": "ipython",
    "version": 3
   },
   "file_extension": ".py",
   "mimetype": "text/x-python",
   "name": "python",
   "nbconvert_exporter": "python",
   "pygments_lexer": "ipython3",
   "version": "3.11.7"
  },
  "toc": {
   "base_numbering": 1,
   "nav_menu": {},
   "number_sections": true,
   "sideBar": true,
   "skip_h1_title": false,
   "title_cell": "Table of Contents",
   "title_sidebar": "Contents",
   "toc_cell": false,
   "toc_position": {
    "height": "calc(100% - 180px)",
    "left": "10px",
    "top": "150px",
    "width": "165px"
   },
   "toc_section_display": true,
   "toc_window_display": false
  }
 },
 "nbformat": 4,
 "nbformat_minor": 1
}
