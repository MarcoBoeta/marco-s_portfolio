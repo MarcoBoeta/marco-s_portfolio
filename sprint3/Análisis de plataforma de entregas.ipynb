{
 "cells": [
  {
   "cell_type": "markdown",
   "id": "3Xg_RQfnafXz",
   "metadata": {
    "id": "3Xg_RQfnafXz"
   },
   "source": [
    "# Análisis de plataforma de entregas"
   ]
  },
  {
   "cell_type": "markdown",
   "id": "mhIvmmkW414q",
   "metadata": {
    "id": "mhIvmmkW414q"
   },
   "source": [
    "## Introducción\n",
    "\n",
    "Instacart es una plataforma de entregas de comestibles donde la clientela puede registrar un pedido y hacer que se lo entreguen, similar a Uber Eats y Door Dash.\n",
    "El conjunto de datos que hemos usado tiene modificaciones del original. Está reducido el tamaño del conjunto para realizar los cálculos más rápido y se introdujo valores ausentes y duplicados. Se tuvo cuidado de conservar las distribuciones de los datos originales cuando se realizaron los cambios."
   ]
  },
  {
   "cell_type": "markdown",
   "id": "3MbyzpOQZ5Or",
   "metadata": {
    "id": "3MbyzpOQZ5Or"
   },
   "source": [
    "###  Diccionario de datos\n",
    "\n",
    "Hay cinco tablas en el conjunto de datos. A continuación se muestra un diccionario de datos que enumera las columnas de cada tabla y describe los datos que contienen.\n",
    "\n",
    "- `instacart_orders.csv`: cada fila corresponde a un pedido en la aplicación Instacart.\n",
    "    - `'order_id'`: número de ID que identifica de manera única cada pedido.\n",
    "    - `'user_id'`: número de ID que identifica de manera única la cuenta de cada cliente.\n",
    "    - `'order_number'`: el número de veces que este cliente ha hecho un pedido.\n",
    "    - `'order_dow'`: día de la semana en que se hizo el pedido (0 si es domingo).\n",
    "    - `'order_hour_of_day'`: hora del día en que se hizo el pedido.\n",
    "    - `'days_since_prior_order'`: número de días transcurridos desde que este cliente hizo su pedido anterior.\n",
    "- `products.csv`: cada fila corresponde a un producto único que pueden comprar los clientes.\n",
    "    - `'product_id'`: número ID que identifica de manera única cada producto.\n",
    "    - `'product_name'`: nombre del producto.\n",
    "    - `'aisle_id'`: número ID que identifica de manera única cada categoría de pasillo de víveres.\n",
    "    - `'department_id'`: número ID que identifica de manera única cada departamento de víveres.\n",
    "- `order_products.csv`: cada fila corresponde a un artículo pedido en un pedido.\n",
    "    - `'order_id'`: número de ID que identifica de manera única cada pedido.\n",
    "    - `'product_id'`: número ID que identifica de manera única cada producto.\n",
    "    - `'add_to_cart_order'`: el orden secuencial en el que se añadió cada artículo en el carrito.\n",
    "    - `'reordered'`: 0 si el cliente nunca ha pedido este producto antes, 1 si lo ha pedido.\n",
    "- `aisles.csv`\n",
    "    - `'aisle_id'`: número ID que identifica de manera única cada categoría de pasillo de víveres.\n",
    "    - `'aisle'`: nombre del pasillo.\n",
    "- `departments.csv`\n",
    "    - `'department_id'`: número ID que identifica de manera única cada departamento de víveres.\n",
    "    - `'department'`: nombre del departamento."
   ]
  },
  {
   "cell_type": "markdown",
   "id": "OmlQPLlyaAfR",
   "metadata": {
    "id": "OmlQPLlyaAfR"
   },
   "source": [
    "## Plan de solución\n",
    "\n",
    "1. Importar las librerías que necesitemos\n",
    "2. Leer los archivos y ver la información de estos para ver como se conforman\n",
    "3. Trabajar en los valores duplicados que pueda haber\n",
    "4. Trabajar en los valores ausentes que pueda haber\n",
    "5. Realizar conclusiones a partir de lo que podemos observar de los datos"
   ]
  },
  {
   "cell_type": "markdown",
   "id": "n3Ha_cNSZ8lK",
   "metadata": {
    "id": "n3Ha_cNSZ8lK"
   },
   "source": [
    "##  Descripción de los datos\n",
    "\n",
    "\n"
   ]
  },
  {
   "cell_type": "code",
   "execution_count": 1,
   "id": "fbf1adab",
   "metadata": {
    "id": "fbf1adab"
   },
   "outputs": [],
   "source": [
    "# Importar librerías\n",
    "import pandas as pd\n",
    "import numpy as np\n",
    "from matplotlib import pyplot as plt"
   ]
  },
  {
   "cell_type": "code",
   "execution_count": 2,
   "id": "ad36396d",
   "metadata": {
    "id": "ad36396d"
   },
   "outputs": [],
   "source": [
    "# Leer los conjuntos de datos \n",
    "instacart_orders= pd.read_csv(r\"C:\\Users\\marco\\Documents\\tripleten_projects\\final_projects\\sprint3\\instacart_orders.csv\", sep=';')\n",
    "products= pd.read_csv(r\"C:\\Users\\marco\\Documents\\tripleten_projects\\final_projects\\sprint3\\products.csv\", sep=';')\n",
    "aisles=pd.read_csv(r\"C:\\Users\\marco\\Documents\\tripleten_projects\\final_projects\\sprint3\\aisles.csv\", sep=';')\n",
    "departments= pd.read_csv(r\"C:\\Users\\marco\\Documents\\tripleten_projects\\final_projects\\sprint3\\departments.csv\", sep=';')\n",
    "order_products= pd.read_csv(r\"C:\\Users\\marco\\Documents\\tripleten_projects\\final_projects\\sprint3\\order_products.csv\", sep=';') "
   ]
  },
  {
   "cell_type": "code",
   "execution_count": 3,
   "id": "ad6a1efa",
   "metadata": {
    "id": "ad6a1efa"
   },
   "outputs": [
    {
     "name": "stdout",
     "output_type": "stream",
     "text": [
      "<class 'pandas.core.frame.DataFrame'>\n",
      "RangeIndex: 478967 entries, 0 to 478966\n",
      "Data columns (total 6 columns):\n",
      " #   Column                  Non-Null Count   Dtype  \n",
      "---  ------                  --------------   -----  \n",
      " 0   order_id                478967 non-null  int64  \n",
      " 1   user_id                 478967 non-null  int64  \n",
      " 2   order_number            478967 non-null  int64  \n",
      " 3   order_dow               478967 non-null  int64  \n",
      " 4   order_hour_of_day       478967 non-null  int64  \n",
      " 5   days_since_prior_order  450148 non-null  float64\n",
      "dtypes: float64(1), int64(5)\n",
      "memory usage: 21.9 MB\n"
     ]
    }
   ],
   "source": [
    "# Mostrar información de Instacart Orders\n",
    "instacart_orders.info()"
   ]
  },
  {
   "cell_type": "code",
   "execution_count": 4,
   "id": "5130e05e",
   "metadata": {
    "id": "5130e05e"
   },
   "outputs": [
    {
     "name": "stdout",
     "output_type": "stream",
     "text": [
      "<class 'pandas.core.frame.DataFrame'>\n",
      "RangeIndex: 49694 entries, 0 to 49693\n",
      "Data columns (total 4 columns):\n",
      " #   Column         Non-Null Count  Dtype \n",
      "---  ------         --------------  ----- \n",
      " 0   product_id     49694 non-null  int64 \n",
      " 1   product_name   48436 non-null  object\n",
      " 2   aisle_id       49694 non-null  int64 \n",
      " 3   department_id  49694 non-null  int64 \n",
      "dtypes: int64(3), object(1)\n",
      "memory usage: 1.5+ MB\n"
     ]
    }
   ],
   "source": [
    "# Mostrar información de Products\n",
    "products.info()"
   ]
  },
  {
   "cell_type": "code",
   "execution_count": 5,
   "id": "d8370c05",
   "metadata": {
    "id": "d8370c05"
   },
   "outputs": [
    {
     "name": "stdout",
     "output_type": "stream",
     "text": [
      "<class 'pandas.core.frame.DataFrame'>\n",
      "RangeIndex: 134 entries, 0 to 133\n",
      "Data columns (total 2 columns):\n",
      " #   Column    Non-Null Count  Dtype \n",
      "---  ------    --------------  ----- \n",
      " 0   aisle_id  134 non-null    int64 \n",
      " 1   aisle     134 non-null    object\n",
      "dtypes: int64(1), object(1)\n",
      "memory usage: 2.2+ KB\n"
     ]
    }
   ],
   "source": [
    "# Mostrar información de Aisles\n",
    "aisles.info()"
   ]
  },
  {
   "cell_type": "code",
   "execution_count": 6,
   "id": "59e2090f",
   "metadata": {
    "id": "59e2090f"
   },
   "outputs": [
    {
     "name": "stdout",
     "output_type": "stream",
     "text": [
      "<class 'pandas.core.frame.DataFrame'>\n",
      "RangeIndex: 21 entries, 0 to 20\n",
      "Data columns (total 2 columns):\n",
      " #   Column         Non-Null Count  Dtype \n",
      "---  ------         --------------  ----- \n",
      " 0   department_id  21 non-null     int64 \n",
      " 1   department     21 non-null     object\n",
      "dtypes: int64(1), object(1)\n",
      "memory usage: 468.0+ bytes\n"
     ]
    }
   ],
   "source": [
    "# Mostrar información de Departments\n",
    "departments.info()"
   ]
  },
  {
   "cell_type": "code",
   "execution_count": 7,
   "id": "6fc81694",
   "metadata": {
    "id": "6fc81694"
   },
   "outputs": [
    {
     "name": "stdout",
     "output_type": "stream",
     "text": [
      "<class 'pandas.core.frame.DataFrame'>\n",
      "RangeIndex: 4545007 entries, 0 to 4545006\n",
      "Data columns (total 4 columns):\n",
      " #   Column             Dtype  \n",
      "---  ------             -----  \n",
      " 0   order_id           int64  \n",
      " 1   product_id         int64  \n",
      " 2   add_to_cart_order  float64\n",
      " 3   reordered          int64  \n",
      "dtypes: float64(1), int64(3)\n",
      "memory usage: 138.7 MB\n",
      "\n",
      "   order_id  product_id  add_to_cart_order  reordered\n",
      "0   2141543       11440               17.0          0\n",
      "1    567889        1560                1.0          1\n",
      "2   2261212       26683                1.0          1\n",
      "3    491251        8670               35.0          1\n",
      "4   2571142        1940                5.0          1\n",
      "\n",
      "order_id               0\n",
      "product_id             0\n",
      "add_to_cart_order    836\n",
      "reordered              0\n",
      "dtype: int64\n"
     ]
    }
   ],
   "source": [
    "# Mostrar información de Order Products\n",
    "order_products.info()\n",
    "print()\n",
    "print(order_products.head()) #se usa head() ya que se observa que falta no muestra la columna non-null count, por lo que se piensa que el df está vacío, pero se comprueba que si tiene información                             \n",
    "print()\n",
    "print(order_products.isna().sum())"
   ]
  },
  {
   "cell_type": "markdown",
   "id": "t75BD19oaR5f",
   "metadata": {
    "id": "t75BD19oaR5f"
   },
   "source": [
    "### Conclusiones\n",
    "\n",
    "\n",
    "Al intentar por primera vez leer los datos, observamos que el documento esta separado por `';'`, por lo que se tuvo que agregar a la función de `read_csv()` como `'sep=';'`. \n",
    "\n",
    "1. `'instacart_orders'`: podemos observar que la columna `'days_since_prior_order'` tiene información faltante, esto se debe a que si son días desde la última compra, puede variar mucho entre cada cliente, y que si es la primera vez que compran, puede que este vacía la información. La columna de `'order_hour_of_day'` está en tipo int64, habrá que revisar si nos conviene cambiar el tipo datetime y la columna `'days_since_prior_order'` está en float64, habrá que revisar si toman en cuenta decimales o no.\n",
    "2. `'products'`: observamos que en la columna product_name hace falta información, habrá que ver porque.\n",
    "3. `'asiles'`: la información a primera vista con `info()` se ve completa, y en un tipo de dato correspondiente.\n",
    "4. `'departments'`: al igual que el df pasado se ve completa y correcta la información proporcionada por info().\n",
    "5. `'order_products'`: al imprimir la columna no aparece la información de non-null count, se usa `head()` y el método `isnull()` para revisar el contenido del df.\n",
    "\n",
    "Se observa que las columnas de `\"id\"` son las que tienen relación entre los dataframes, estas nos ayudarán a juntar información de ser necesario con el método de `merge()`."
   ]
  },
  {
   "cell_type": "markdown",
   "id": "8RJHqxVmaVsF",
   "metadata": {
    "id": "8RJHqxVmaVsF"
   },
   "source": [
    "## Preprocesamiento de los datos"
   ]
  },
  {
   "cell_type": "markdown",
   "id": "p6poABZQaZYb",
   "metadata": {
    "id": "p6poABZQaZYb"
   },
   "source": [
    "### Plan de trabajo\n",
    "\n",
    "Revisaremos cada dataframe, comenzando por checar los tipos de datos y su formato en el df, ver si coincide con el tipo de dato en el que se guardo. Después los valores duplicados, determinar el porque está duplicado y tomar la decisión si conservar o eliminar los datos. Al final revisaremos los valores ausentes, y se analizará si se pueden completar con el resto o si habrá que eliminarlos dependiendo su importancia en el conjunto. "
   ]
  },
  {
   "cell_type": "markdown",
   "id": "07357848-dc64-4156-9cc3-01ff4365226d",
   "metadata": {
    "id": "07357848-dc64-4156-9cc3-01ff4365226d"
   },
   "source": [
    "### Encontrar y eliminar los valores duplicados "
   ]
  },
  {
   "cell_type": "markdown",
   "id": "f179f0a9",
   "metadata": {
    "id": "f179f0a9"
   },
   "source": [
    "#### `orders` data frame"
   ]
  },
  {
   "cell_type": "code",
   "execution_count": 8,
   "id": "b99297a5-405a-463d-8535-9adc3da4ad74",
   "metadata": {
    "id": "b99297a5-405a-463d-8535-9adc3da4ad74"
   },
   "outputs": [
    {
     "name": "stdout",
     "output_type": "stream",
     "text": [
      "15\n",
      "\n",
      "        order_id  user_id  order_number  order_dow  order_hour_of_day  \\\n",
      "145574    794638    50898            24          3                  2   \n",
      "223105   2160484   107525            16          3                  2   \n",
      "230807   1918001   188546            14          3                  2   \n",
      "266232   1782114   106752             1          3                  2   \n",
      "273805   1112182   202304            84          3                  2   \n",
      "284038   2845099    31189            11          3                  2   \n",
      "311713   1021560    53767             3          3                  2   \n",
      "321100    408114    68324             4          3                  2   \n",
      "323900   1919531   191501            32          3                  2   \n",
      "345917   2232988    82565             1          3                  2   \n",
      "371905    391768    57671            19          3                  2   \n",
      "394347    467134    63189            21          3                  2   \n",
      "411408   1286742   183220            48          3                  2   \n",
      "415163   2282673    86751            49          3                  2   \n",
      "441599   2125197    14050            48          3                  2   \n",
      "\n",
      "        days_since_prior_order  \n",
      "145574                     2.0  \n",
      "223105                    30.0  \n",
      "230807                    16.0  \n",
      "266232                     NaN  \n",
      "273805                     6.0  \n",
      "284038                     7.0  \n",
      "311713                     9.0  \n",
      "321100                    18.0  \n",
      "323900                     7.0  \n",
      "345917                     NaN  \n",
      "371905                    10.0  \n",
      "394347                     2.0  \n",
      "411408                     4.0  \n",
      "415163                     2.0  \n",
      "441599                     3.0  \n"
     ]
    }
   ],
   "source": [
    "# Revisar si hay pedidos duplicados\n",
    "\n",
    "# Se imprime el número de filas duplicadas\n",
    "print(instacart_orders['order_id'].duplicated().sum()) \n",
    "print()\n",
    "\n",
    "# Se hace un df filtrado con las filas duplicadas\n",
    "dup_instacart_orders=instacart_orders[instacart_orders.duplicated()] \n",
    "\n",
    "# Se observan las filas duplicadas\n",
    "print(dup_instacart_orders) "
   ]
  },
  {
   "cell_type": "markdown",
   "id": "PEkwUX_gvt5A",
   "metadata": {
    "id": "PEkwUX_gvt5A"
   },
   "source": [
    "Se observa que todas las filas duplicados tienen registro de el Miércoles a las 2 de la mañana."
   ]
  },
  {
   "cell_type": "code",
   "execution_count": 9,
   "id": "0d44de5d",
   "metadata": {
    "id": "0d44de5d"
   },
   "outputs": [
    {
     "data": {
      "text/html": [
       "<div>\n",
       "<style scoped>\n",
       "    .dataframe tbody tr th:only-of-type {\n",
       "        vertical-align: middle;\n",
       "    }\n",
       "\n",
       "    .dataframe tbody tr th {\n",
       "        vertical-align: top;\n",
       "    }\n",
       "\n",
       "    .dataframe thead th {\n",
       "        text-align: right;\n",
       "    }\n",
       "</style>\n",
       "<table border=\"1\" class=\"dataframe\">\n",
       "  <thead>\n",
       "    <tr style=\"text-align: right;\">\n",
       "      <th></th>\n",
       "      <th>order_id</th>\n",
       "      <th>user_id</th>\n",
       "      <th>order_number</th>\n",
       "      <th>order_dow</th>\n",
       "      <th>order_hour_of_day</th>\n",
       "      <th>days_since_prior_order</th>\n",
       "    </tr>\n",
       "  </thead>\n",
       "  <tbody>\n",
       "    <tr>\n",
       "      <th>452265</th>\n",
       "      <td>191</td>\n",
       "      <td>176417</td>\n",
       "      <td>44</td>\n",
       "      <td>3</td>\n",
       "      <td>2</td>\n",
       "      <td>6.0</td>\n",
       "    </tr>\n",
       "    <tr>\n",
       "      <th>468324</th>\n",
       "      <td>222962</td>\n",
       "      <td>54979</td>\n",
       "      <td>59</td>\n",
       "      <td>3</td>\n",
       "      <td>2</td>\n",
       "      <td>3.0</td>\n",
       "    </tr>\n",
       "    <tr>\n",
       "      <th>247867</th>\n",
       "      <td>238782</td>\n",
       "      <td>196224</td>\n",
       "      <td>6</td>\n",
       "      <td>3</td>\n",
       "      <td>2</td>\n",
       "      <td>3.0</td>\n",
       "    </tr>\n",
       "    <tr>\n",
       "      <th>417106</th>\n",
       "      <td>248760</td>\n",
       "      <td>204961</td>\n",
       "      <td>25</td>\n",
       "      <td>3</td>\n",
       "      <td>2</td>\n",
       "      <td>15.0</td>\n",
       "    </tr>\n",
       "    <tr>\n",
       "      <th>328565</th>\n",
       "      <td>264348</td>\n",
       "      <td>34806</td>\n",
       "      <td>6</td>\n",
       "      <td>3</td>\n",
       "      <td>2</td>\n",
       "      <td>5.0</td>\n",
       "    </tr>\n",
       "    <tr>\n",
       "      <th>316583</th>\n",
       "      <td>272079</td>\n",
       "      <td>121263</td>\n",
       "      <td>7</td>\n",
       "      <td>3</td>\n",
       "      <td>2</td>\n",
       "      <td>3.0</td>\n",
       "    </tr>\n",
       "    <tr>\n",
       "      <th>210068</th>\n",
       "      <td>284770</td>\n",
       "      <td>137352</td>\n",
       "      <td>7</td>\n",
       "      <td>3</td>\n",
       "      <td>2</td>\n",
       "      <td>8.0</td>\n",
       "    </tr>\n",
       "    <tr>\n",
       "      <th>359625</th>\n",
       "      <td>332561</td>\n",
       "      <td>201301</td>\n",
       "      <td>1</td>\n",
       "      <td>3</td>\n",
       "      <td>2</td>\n",
       "      <td>NaN</td>\n",
       "    </tr>\n",
       "    <tr>\n",
       "      <th>195093</th>\n",
       "      <td>350018</td>\n",
       "      <td>142887</td>\n",
       "      <td>6</td>\n",
       "      <td>3</td>\n",
       "      <td>2</td>\n",
       "      <td>1.0</td>\n",
       "    </tr>\n",
       "    <tr>\n",
       "      <th>29129</th>\n",
       "      <td>353088</td>\n",
       "      <td>46038</td>\n",
       "      <td>4</td>\n",
       "      <td>3</td>\n",
       "      <td>2</td>\n",
       "      <td>11.0</td>\n",
       "    </tr>\n",
       "    <tr>\n",
       "      <th>18420</th>\n",
       "      <td>382357</td>\n",
       "      <td>120200</td>\n",
       "      <td>19</td>\n",
       "      <td>3</td>\n",
       "      <td>2</td>\n",
       "      <td>11.0</td>\n",
       "    </tr>\n",
       "    <tr>\n",
       "      <th>354993</th>\n",
       "      <td>391768</td>\n",
       "      <td>57671</td>\n",
       "      <td>19</td>\n",
       "      <td>3</td>\n",
       "      <td>2</td>\n",
       "      <td>10.0</td>\n",
       "    </tr>\n",
       "    <tr>\n",
       "      <th>371905</th>\n",
       "      <td>391768</td>\n",
       "      <td>57671</td>\n",
       "      <td>19</td>\n",
       "      <td>3</td>\n",
       "      <td>2</td>\n",
       "      <td>10.0</td>\n",
       "    </tr>\n",
       "    <tr>\n",
       "      <th>275163</th>\n",
       "      <td>401662</td>\n",
       "      <td>15693</td>\n",
       "      <td>2</td>\n",
       "      <td>3</td>\n",
       "      <td>2</td>\n",
       "      <td>29.0</td>\n",
       "    </tr>\n",
       "    <tr>\n",
       "      <th>188541</th>\n",
       "      <td>404972</td>\n",
       "      <td>144464</td>\n",
       "      <td>2</td>\n",
       "      <td>3</td>\n",
       "      <td>2</td>\n",
       "      <td>19.0</td>\n",
       "    </tr>\n",
       "    <tr>\n",
       "      <th>321100</th>\n",
       "      <td>408114</td>\n",
       "      <td>68324</td>\n",
       "      <td>4</td>\n",
       "      <td>3</td>\n",
       "      <td>2</td>\n",
       "      <td>18.0</td>\n",
       "    </tr>\n",
       "    <tr>\n",
       "      <th>119251</th>\n",
       "      <td>408114</td>\n",
       "      <td>68324</td>\n",
       "      <td>4</td>\n",
       "      <td>3</td>\n",
       "      <td>2</td>\n",
       "      <td>18.0</td>\n",
       "    </tr>\n",
       "    <tr>\n",
       "      <th>155154</th>\n",
       "      <td>449909</td>\n",
       "      <td>198005</td>\n",
       "      <td>19</td>\n",
       "      <td>3</td>\n",
       "      <td>2</td>\n",
       "      <td>30.0</td>\n",
       "    </tr>\n",
       "    <tr>\n",
       "      <th>394347</th>\n",
       "      <td>467134</td>\n",
       "      <td>63189</td>\n",
       "      <td>21</td>\n",
       "      <td>3</td>\n",
       "      <td>2</td>\n",
       "      <td>2.0</td>\n",
       "    </tr>\n",
       "    <tr>\n",
       "      <th>250626</th>\n",
       "      <td>467134</td>\n",
       "      <td>63189</td>\n",
       "      <td>21</td>\n",
       "      <td>3</td>\n",
       "      <td>2</td>\n",
       "      <td>2.0</td>\n",
       "    </tr>\n",
       "  </tbody>\n",
       "</table>\n",
       "</div>"
      ],
      "text/plain": [
       "        order_id  user_id  order_number  order_dow  order_hour_of_day  \\\n",
       "452265       191   176417            44          3                  2   \n",
       "468324    222962    54979            59          3                  2   \n",
       "247867    238782   196224             6          3                  2   \n",
       "417106    248760   204961            25          3                  2   \n",
       "328565    264348    34806             6          3                  2   \n",
       "316583    272079   121263             7          3                  2   \n",
       "210068    284770   137352             7          3                  2   \n",
       "359625    332561   201301             1          3                  2   \n",
       "195093    350018   142887             6          3                  2   \n",
       "29129     353088    46038             4          3                  2   \n",
       "18420     382357   120200            19          3                  2   \n",
       "354993    391768    57671            19          3                  2   \n",
       "371905    391768    57671            19          3                  2   \n",
       "275163    401662    15693             2          3                  2   \n",
       "188541    404972   144464             2          3                  2   \n",
       "321100    408114    68324             4          3                  2   \n",
       "119251    408114    68324             4          3                  2   \n",
       "155154    449909   198005            19          3                  2   \n",
       "394347    467134    63189            21          3                  2   \n",
       "250626    467134    63189            21          3                  2   \n",
       "\n",
       "        days_since_prior_order  \n",
       "452265                     6.0  \n",
       "468324                     3.0  \n",
       "247867                     3.0  \n",
       "417106                    15.0  \n",
       "328565                     5.0  \n",
       "316583                     3.0  \n",
       "210068                     8.0  \n",
       "359625                     NaN  \n",
       "195093                     1.0  \n",
       "29129                     11.0  \n",
       "18420                     11.0  \n",
       "354993                    10.0  \n",
       "371905                    10.0  \n",
       "275163                    29.0  \n",
       "188541                    19.0  \n",
       "321100                    18.0  \n",
       "119251                    18.0  \n",
       "155154                    30.0  \n",
       "394347                     2.0  \n",
       "250626                     2.0  "
      ]
     },
     "execution_count": 9,
     "metadata": {},
     "output_type": "execute_result"
    }
   ],
   "source": [
    "# Se imprime una consulta del df donde el día es el miercoles y la hora a las 2, ordenando los valores por user_id para ver los duplicados juntos, e imprimimos los primeros 20 valores para observar como son los duplicados.\n",
    "instacart_orders.query(\"order_dow == 3 and order_hour_of_day == 2\").sort_values(by='order_id').head(20)\n"
   ]
  },
  {
   "cell_type": "markdown",
   "id": "vu2OWyoqwOx5",
   "metadata": {
    "id": "vu2OWyoqwOx5"
   },
   "source": [
    "Se puede observar en las ordenes de order id 2125197 y 2845099, están duplicadas las filas completamente, por lo que es mejor borrar las filas completas que están duplicadas."
   ]
  },
  {
   "cell_type": "code",
   "execution_count": 10,
   "id": "480563c7",
   "metadata": {
    "id": "480563c7"
   },
   "outputs": [],
   "source": [
    "# Se eliminan los pedidos duplicados\n",
    "instacart_orders = instacart_orders.drop_duplicates().reset_index()"
   ]
  },
  {
   "cell_type": "code",
   "execution_count": 11,
   "id": "0b2396a2",
   "metadata": {
    "id": "0b2396a2"
   },
   "outputs": [
    {
     "data": {
      "text/plain": [
       "0"
      ]
     },
     "execution_count": 11,
     "metadata": {},
     "output_type": "execute_result"
    }
   ],
   "source": [
    "# Verificamos si hay filas duplicadas\n",
    "instacart_orders.duplicated().sum()"
   ]
  },
  {
   "cell_type": "code",
   "execution_count": 12,
   "id": "f6113ef1",
   "metadata": {
    "id": "f6113ef1"
   },
   "outputs": [
    {
     "data": {
      "text/plain": [
       "0"
      ]
     },
     "execution_count": 12,
     "metadata": {},
     "output_type": "execute_result"
    }
   ],
   "source": [
    "# Volvemos a verificar únicamente si hay IDs duplicados de pedidos\n",
    "instacart_orders['order_id'].duplicated().sum()"
   ]
  },
  {
   "cell_type": "markdown",
   "id": "5e8905ae",
   "metadata": {
    "id": "5e8905ae"
   },
   "source": [
    "Conclusiones\n",
    "\n",
    "Se observa que las filas duplicadas eran ordenes repetidas, por lo que se podía elimar el duplicado."
   ]
  },
  {
   "cell_type": "markdown",
   "id": "45e6bc46",
   "metadata": {
    "id": "45e6bc46"
   },
   "source": [
    "#### `products` data frame"
   ]
  },
  {
   "cell_type": "code",
   "execution_count": 13,
   "id": "5f526b5b-8175-46fa-a0fd-441767d50e64",
   "metadata": {
    "id": "5f526b5b-8175-46fa-a0fd-441767d50e64"
   },
   "outputs": [
    {
     "name": "stdout",
     "output_type": "stream",
     "text": [
      "0\n",
      "\n"
     ]
    },
    {
     "data": {
      "text/html": [
       "<div>\n",
       "<style scoped>\n",
       "    .dataframe tbody tr th:only-of-type {\n",
       "        vertical-align: middle;\n",
       "    }\n",
       "\n",
       "    .dataframe tbody tr th {\n",
       "        vertical-align: top;\n",
       "    }\n",
       "\n",
       "    .dataframe thead th {\n",
       "        text-align: right;\n",
       "    }\n",
       "</style>\n",
       "<table border=\"1\" class=\"dataframe\">\n",
       "  <thead>\n",
       "    <tr style=\"text-align: right;\">\n",
       "      <th></th>\n",
       "      <th>product_id</th>\n",
       "      <th>product_name</th>\n",
       "      <th>aisle_id</th>\n",
       "      <th>department_id</th>\n",
       "    </tr>\n",
       "  </thead>\n",
       "  <tbody>\n",
       "    <tr>\n",
       "      <th>0</th>\n",
       "      <td>1</td>\n",
       "      <td>Chocolate Sandwich Cookies</td>\n",
       "      <td>61</td>\n",
       "      <td>19</td>\n",
       "    </tr>\n",
       "    <tr>\n",
       "      <th>1</th>\n",
       "      <td>2</td>\n",
       "      <td>All-Seasons Salt</td>\n",
       "      <td>104</td>\n",
       "      <td>13</td>\n",
       "    </tr>\n",
       "    <tr>\n",
       "      <th>2</th>\n",
       "      <td>3</td>\n",
       "      <td>Robust Golden Unsweetened Oolong Tea</td>\n",
       "      <td>94</td>\n",
       "      <td>7</td>\n",
       "    </tr>\n",
       "    <tr>\n",
       "      <th>3</th>\n",
       "      <td>4</td>\n",
       "      <td>Smart Ones Classic Favorites Mini Rigatoni Wit...</td>\n",
       "      <td>38</td>\n",
       "      <td>1</td>\n",
       "    </tr>\n",
       "    <tr>\n",
       "      <th>4</th>\n",
       "      <td>5</td>\n",
       "      <td>Green Chile Anytime Sauce</td>\n",
       "      <td>5</td>\n",
       "      <td>13</td>\n",
       "    </tr>\n",
       "  </tbody>\n",
       "</table>\n",
       "</div>"
      ],
      "text/plain": [
       "   product_id                                       product_name  aisle_id  \\\n",
       "0           1                         Chocolate Sandwich Cookies        61   \n",
       "1           2                                   All-Seasons Salt       104   \n",
       "2           3               Robust Golden Unsweetened Oolong Tea        94   \n",
       "3           4  Smart Ones Classic Favorites Mini Rigatoni Wit...        38   \n",
       "4           5                          Green Chile Anytime Sauce         5   \n",
       "\n",
       "   department_id  \n",
       "0             19  \n",
       "1             13  \n",
       "2              7  \n",
       "3              1  \n",
       "4             13  "
      ]
     },
     "execution_count": 13,
     "metadata": {},
     "output_type": "execute_result"
    }
   ],
   "source": [
    "# Se revisa si hay filas totalmente duplicadas\n",
    "print(products.duplicated().sum()) \n",
    "print()\n",
    "products.head()"
   ]
  },
  {
   "cell_type": "code",
   "execution_count": 14,
   "id": "88daa4f4",
   "metadata": {
    "id": "88daa4f4"
   },
   "outputs": [
    {
     "data": {
      "text/plain": [
       "49673"
      ]
     },
     "execution_count": 14,
     "metadata": {},
     "output_type": "execute_result"
    }
   ],
   "source": [
    "# Revisar si hay ID's de departamentos duplicados\n",
    "products['department_id'].duplicated().sum()"
   ]
  },
  {
   "cell_type": "code",
   "execution_count": 15,
   "id": "c773f0bf",
   "metadata": {
    "id": "c773f0bf"
   },
   "outputs": [
    {
     "name": "stdout",
     "output_type": "stream",
     "text": [
      "   product_id                                       product_name  aisle_id  \\\n",
      "0           1                         CHOCOLATE SANDWICH COOKIES        61   \n",
      "1           2                                   ALL-SEASONS SALT       104   \n",
      "2           3               ROBUST GOLDEN UNSWEETENED OOLONG TEA        94   \n",
      "3           4  SMART ONES CLASSIC FAVORITES MINI RIGATONI WIT...        38   \n",
      "4           5                          GREEN CHILE ANYTIME SAUCE         5   \n",
      "\n",
      "   department_id  \n",
      "0             19  \n",
      "1             13  \n",
      "2              7  \n",
      "3              1  \n",
      "4             13  \n",
      "\n",
      "1361\n",
      "\n",
      "       product_id                                     product_name  aisle_id  \\\n",
      "71             72                                              NaN       100   \n",
      "109           110                                              NaN       100   \n",
      "296           297                                              NaN       100   \n",
      "416           417                                              NaN       100   \n",
      "436           437                                              NaN       100   \n",
      "...           ...                                              ...       ...   \n",
      "49689       49690                    HIGH PERFORMANCE ENERGY DRINK        64   \n",
      "49690       49691                    ORIGINAL PANCAKE & WAFFLE MIX       130   \n",
      "49691       49692  ORGANIC INSTANT OATMEAL LIGHT MAPLE BROWN SUGAR       130   \n",
      "49692       49693                           SPRING WATER BODY WASH       127   \n",
      "49693       49694                          BURRITO- STEAK & CHEESE        38   \n",
      "\n",
      "       department_id  \n",
      "71                21  \n",
      "109               21  \n",
      "296               21  \n",
      "416               21  \n",
      "436               21  \n",
      "...              ...  \n",
      "49689              7  \n",
      "49690             14  \n",
      "49691             14  \n",
      "49692             11  \n",
      "49693              1  \n",
      "\n",
      "[1361 rows x 4 columns]\n",
      "\n",
      "1258\n",
      "\n",
      "       product_id product_name  aisle_id  department_id\n",
      "37             38          NaN       100             21\n",
      "71             72          NaN       100             21\n",
      "109           110          NaN       100             21\n",
      "296           297          NaN       100             21\n",
      "416           417          NaN       100             21\n",
      "...           ...          ...       ...            ...\n",
      "49552       49553          NaN       100             21\n",
      "49574       49575          NaN       100             21\n",
      "49640       49641          NaN       100             21\n",
      "49663       49664          NaN       100             21\n",
      "49668       49669          NaN       100             21\n",
      "\n",
      "[1258 rows x 4 columns]\n"
     ]
    }
   ],
   "source": [
    "# Revisar únicamente si hay nombres duplicados de productos \n",
    "\n",
    "# Se cambian los nombres a mayúsculas\n",
    "products['product_name'] = products['product_name'].str.upper() \n",
    "\n",
    "# Se revisan los primeros 5 nombres para confirmar el cambio\n",
    "print(products.head()) \n",
    "print()\n",
    "# Se revisa la cantidad de nombres de productos duplicados\n",
    "print(products['product_name'].duplicated().sum()) \n",
    "print()\n",
    "# Se obtienen los productos duplicados del df\n",
    "print(products[products['product_name'].duplicated()]) \n",
    "print()\n",
    "# Se suman la cantidad de productos sin nombre\n",
    "print(products['product_name'].isna().sum()) \n",
    "print()\n",
    "# Se saca la lista de productos sin nombre\n",
    "print(products[products['product_name'].isna()]) "
   ]
  },
  {
   "cell_type": "code",
   "execution_count": 16,
   "id": "01efd02e",
   "metadata": {
    "id": "01efd02e"
   },
   "outputs": [
    {
     "name": "stdout",
     "output_type": "stream",
     "text": [
      "       product_id                               product_name  aisle_id  \\\n",
      "23339       23340  18-IN-1 HEMP PEPPERMINT PURE-CASTILE SOAP        25   \n",
      "31844       31845  18-IN-1 HEMP PEPPERMINT PURE-CASTILE SOAP        25   \n",
      "19941       19942            AGED BALSAMIC VINEGAR OF MODENA        19   \n",
      "13152       13153            AGED BALSAMIC VINEGAR OF MODENA        19   \n",
      "24830       24831         ALBACORE SOLID WHITE TUNA IN WATER        95   \n",
      "22582       22583         ALBACORE SOLID WHITE TUNA IN WATER        95   \n",
      "9037         9038                     AMERICAN CHEESE SLICES        21   \n",
      "515           516                     AMERICAN CHEESE SLICES        21   \n",
      "49530       49531               ANCHOVY FILLETS IN OLIVE OIL        95   \n",
      "12325       12326               ANCHOVY FILLETS IN OLIVE OIL        95   \n",
      "27802       27803                         APRICOT ENERGY BAR         3   \n",
      "41221       41222                         APRICOT ENERGY BAR         3   \n",
      "45230       45231                             BAG OF ORANGES        24   \n",
      "4376         4377                             BAG OF ORANGES        24   \n",
      "34449       34450                      BAG OF ORGANIC LEMONS        24   \n",
      "48824       48825                      BAG OF ORGANIC LEMONS        24   \n",
      "15609       15610                 BALSAMIC VINEGAR OF MODENA        19   \n",
      "18760       18761                 BALSAMIC VINEGAR OF MODENA        19   \n",
      "2690         2691                                  BBQ SAUCE         5   \n",
      "43287       43288                                  BBQ SAUCE         5   \n",
      "\n",
      "       department_id  \n",
      "23339             11  \n",
      "31844             11  \n",
      "19941             13  \n",
      "13152             13  \n",
      "24830             15  \n",
      "22582             15  \n",
      "9037              16  \n",
      "515               16  \n",
      "49530             15  \n",
      "12325             15  \n",
      "27802             19  \n",
      "41221             19  \n",
      "45230              4  \n",
      "4376               4  \n",
      "34449              4  \n",
      "48824              4  \n",
      "15609             13  \n",
      "18760             13  \n",
      "2690              13  \n",
      "43287             13  \n",
      "\n",
      "product_name\n",
      "GREEN TEA WITH GINSENG AND HONEY                                        3\n",
      "BIOTIN 1000 MCG                                                         2\n",
      "PROACTIVE HEALTH INDOOR WEIGHT & HAIRBALL CARE WITH CHICKEN CAT FOOD    2\n",
      "ORIGINAL CHILI CON CARNE WITH BEANS                                     2\n",
      "CHILI WITH BEANS                                                        2\n",
      "                                                                       ..\n",
      "CHUNK LIGHT TUNA IN VEGETABLE OIL                                       2\n",
      "ORGANIC BALSAMIC VINEGAR OF MODENA                                      2\n",
      "MOUNTAIN BERRY BLAST SPORTS DRINK                                       2\n",
      "CRUSHED TOMATOES WITH BASIL                                             2\n",
      "VITAMIN D3 5000 IU                                                      2\n",
      "Name: count, Length: 103, dtype: int64\n"
     ]
    }
   ],
   "source": [
    "# Revisar si hay nombres duplicados de productos no faltantes\n",
    "\n",
    "# Se guarda una consulta de los productos duplicados que no sean NaN\n",
    "dup_products= products.query('product_name.notna() and product_name.duplicated(keep=False)') \n",
    "\n",
    "# Se imprimen los primeros 20 en orden alfabetico para observar como se duplican\n",
    "print(dup_products.sort_values(by='product_name').head(20)) \n",
    "print()\n",
    "\n",
    "# Se sacan la lista de los duplicados y su numero de apariciones en el df\n",
    "print(dup_products['product_name'].value_counts()) "
   ]
  },
  {
   "cell_type": "markdown",
   "id": "9da8d293",
   "metadata": {
    "id": "9da8d293"
   },
   "source": [
    "Conclusiones\n",
    "\n",
    "Se encontraron muchas filas donde el producto estaba repetido, y otras donde el producto no tiene nombre, esto último se corregirá más adelante. Las filas repetidas se dejan ya que tienen diferente número de `'product_id'`, por lo que puede ser un diferente producto a la hora de realizar el análisis."
   ]
  },
  {
   "cell_type": "markdown",
   "id": "60f30db1",
   "metadata": {
    "id": "60f30db1"
   },
   "source": [
    "#### `departments` data frame"
   ]
  },
  {
   "cell_type": "code",
   "execution_count": 17,
   "id": "fb410ad4-0fbf-4b80-bb09-23fdea79afe3",
   "metadata": {
    "id": "fb410ad4-0fbf-4b80-bb09-23fdea79afe3"
   },
   "outputs": [
    {
     "name": "stdout",
     "output_type": "stream",
     "text": [
      "0\n"
     ]
    }
   ],
   "source": [
    "# Revisar si hay filas totalmente duplicadas\n",
    "print(departments.duplicated().sum())"
   ]
  },
  {
   "cell_type": "code",
   "execution_count": 18,
   "id": "332b12bb",
   "metadata": {
    "id": "332b12bb"
   },
   "outputs": [
    {
     "name": "stdout",
     "output_type": "stream",
     "text": [
      "0\n"
     ]
    }
   ],
   "source": [
    "# Revisar únicamente si hay IDs duplicadas de productos\n",
    "print(departments['department_id'].duplicated().sum())"
   ]
  },
  {
   "cell_type": "markdown",
   "id": "bd30d78e",
   "metadata": {
    "id": "bd30d78e"
   },
   "source": [
    "No se encuentran erroes, por lo que se deja igual."
   ]
  },
  {
   "cell_type": "markdown",
   "id": "889349c1",
   "metadata": {
    "id": "889349c1"
   },
   "source": [
    "#### `aisles` data frame"
   ]
  },
  {
   "cell_type": "code",
   "execution_count": 19,
   "id": "9da89fb9-4679-40f5-ad0d-c34df753a3f8",
   "metadata": {
    "id": "9da89fb9-4679-40f5-ad0d-c34df753a3f8"
   },
   "outputs": [
    {
     "name": "stdout",
     "output_type": "stream",
     "text": [
      "0\n"
     ]
    }
   ],
   "source": [
    "# Revisar si hay filas totalmente duplicadas\n",
    "print(aisles.duplicated().sum())"
   ]
  },
  {
   "cell_type": "code",
   "execution_count": 20,
   "id": "da7c2822",
   "metadata": {
    "id": "da7c2822"
   },
   "outputs": [
    {
     "name": "stdout",
     "output_type": "stream",
     "text": [
      "0\n"
     ]
    }
   ],
   "source": [
    "# Revisar únicamente si hay IDs duplicadas de productos\n",
    "print(aisles['aisle_id'].duplicated().sum())"
   ]
  },
  {
   "cell_type": "markdown",
   "id": "ac63826f",
   "metadata": {
    "id": "ac63826f"
   },
   "source": [
    "No se encuentran erroes, por lo que se deja igual."
   ]
  },
  {
   "cell_type": "markdown",
   "id": "274cd06a",
   "metadata": {
    "id": "274cd06a"
   },
   "source": [
    "#### `order_products` data frame"
   ]
  },
  {
   "cell_type": "code",
   "execution_count": 21,
   "id": "52326689-84a8-4b8f-a881-7c68780f62c9",
   "metadata": {
    "id": "52326689-84a8-4b8f-a881-7c68780f62c9"
   },
   "outputs": [
    {
     "name": "stdout",
     "output_type": "stream",
     "text": [
      "0\n"
     ]
    }
   ],
   "source": [
    "# Revisar si hay filas totalmente duplicadas\n",
    "print(order_products.duplicated().sum())"
   ]
  },
  {
   "cell_type": "code",
   "execution_count": 22,
   "id": "7b861391",
   "metadata": {
    "id": "7b861391"
   },
   "outputs": [
    {
     "name": "stdout",
     "output_type": "stream",
     "text": [
      "0\n"
     ]
    }
   ],
   "source": [
    "# Volver a verificar si hay cualquier otro duplicado engañoso\n",
    "cols= [order_products.columns]\n",
    "\n",
    "for col in cols:\n",
    "    print(order_products[col].duplicated().sum())"
   ]
  },
  {
   "cell_type": "markdown",
   "id": "0b890492",
   "metadata": {
    "id": "0b890492"
   },
   "source": [
    "No se encuentran errores, por lo que se deja igual."
   ]
  },
  {
   "cell_type": "markdown",
   "id": "1e46de76",
   "metadata": {
    "id": "1e46de76"
   },
   "source": [
    "### Encontrar y eliminar los valores ausentes\n",
    "\n",
    "Al trabajar con valores duplicados, pudimos observar que también nos falta investigar valores ausentes:\n",
    "\n",
    "* La columna `'product_name'` de la tabla products.\n",
    "* La columna `'days_since_prior_order'` de la tabla orders.\n",
    "* La columna `'add_to_cart_order'` de la tabla order_productos."
   ]
  },
  {
   "cell_type": "markdown",
   "id": "c0aebd78",
   "metadata": {
    "id": "c0aebd78"
   },
   "source": [
    "#### `products` data frame"
   ]
  },
  {
   "cell_type": "code",
   "execution_count": 23,
   "id": "fe4a8b0f",
   "metadata": {
    "id": "fe4a8b0f"
   },
   "outputs": [
    {
     "data": {
      "text/html": [
       "<div>\n",
       "<style scoped>\n",
       "    .dataframe tbody tr th:only-of-type {\n",
       "        vertical-align: middle;\n",
       "    }\n",
       "\n",
       "    .dataframe tbody tr th {\n",
       "        vertical-align: top;\n",
       "    }\n",
       "\n",
       "    .dataframe thead th {\n",
       "        text-align: right;\n",
       "    }\n",
       "</style>\n",
       "<table border=\"1\" class=\"dataframe\">\n",
       "  <thead>\n",
       "    <tr style=\"text-align: right;\">\n",
       "      <th></th>\n",
       "      <th>product_id</th>\n",
       "      <th>product_name</th>\n",
       "      <th>aisle_id</th>\n",
       "      <th>department_id</th>\n",
       "    </tr>\n",
       "  </thead>\n",
       "  <tbody>\n",
       "    <tr>\n",
       "      <th>37</th>\n",
       "      <td>38</td>\n",
       "      <td>NaN</td>\n",
       "      <td>100</td>\n",
       "      <td>21</td>\n",
       "    </tr>\n",
       "    <tr>\n",
       "      <th>71</th>\n",
       "      <td>72</td>\n",
       "      <td>NaN</td>\n",
       "      <td>100</td>\n",
       "      <td>21</td>\n",
       "    </tr>\n",
       "    <tr>\n",
       "      <th>109</th>\n",
       "      <td>110</td>\n",
       "      <td>NaN</td>\n",
       "      <td>100</td>\n",
       "      <td>21</td>\n",
       "    </tr>\n",
       "    <tr>\n",
       "      <th>296</th>\n",
       "      <td>297</td>\n",
       "      <td>NaN</td>\n",
       "      <td>100</td>\n",
       "      <td>21</td>\n",
       "    </tr>\n",
       "    <tr>\n",
       "      <th>416</th>\n",
       "      <td>417</td>\n",
       "      <td>NaN</td>\n",
       "      <td>100</td>\n",
       "      <td>21</td>\n",
       "    </tr>\n",
       "    <tr>\n",
       "      <th>...</th>\n",
       "      <td>...</td>\n",
       "      <td>...</td>\n",
       "      <td>...</td>\n",
       "      <td>...</td>\n",
       "    </tr>\n",
       "    <tr>\n",
       "      <th>49552</th>\n",
       "      <td>49553</td>\n",
       "      <td>NaN</td>\n",
       "      <td>100</td>\n",
       "      <td>21</td>\n",
       "    </tr>\n",
       "    <tr>\n",
       "      <th>49574</th>\n",
       "      <td>49575</td>\n",
       "      <td>NaN</td>\n",
       "      <td>100</td>\n",
       "      <td>21</td>\n",
       "    </tr>\n",
       "    <tr>\n",
       "      <th>49640</th>\n",
       "      <td>49641</td>\n",
       "      <td>NaN</td>\n",
       "      <td>100</td>\n",
       "      <td>21</td>\n",
       "    </tr>\n",
       "    <tr>\n",
       "      <th>49663</th>\n",
       "      <td>49664</td>\n",
       "      <td>NaN</td>\n",
       "      <td>100</td>\n",
       "      <td>21</td>\n",
       "    </tr>\n",
       "    <tr>\n",
       "      <th>49668</th>\n",
       "      <td>49669</td>\n",
       "      <td>NaN</td>\n",
       "      <td>100</td>\n",
       "      <td>21</td>\n",
       "    </tr>\n",
       "  </tbody>\n",
       "</table>\n",
       "<p>1258 rows × 4 columns</p>\n",
       "</div>"
      ],
      "text/plain": [
       "       product_id product_name  aisle_id  department_id\n",
       "37             38          NaN       100             21\n",
       "71             72          NaN       100             21\n",
       "109           110          NaN       100             21\n",
       "296           297          NaN       100             21\n",
       "416           417          NaN       100             21\n",
       "...           ...          ...       ...            ...\n",
       "49552       49553          NaN       100             21\n",
       "49574       49575          NaN       100             21\n",
       "49640       49641          NaN       100             21\n",
       "49663       49664          NaN       100             21\n",
       "49668       49669          NaN       100             21\n",
       "\n",
       "[1258 rows x 4 columns]"
      ]
     },
     "execution_count": 23,
     "metadata": {},
     "output_type": "execute_result"
    }
   ],
   "source": [
    "# Encontrar los valores ausentes en la columna 'product_name'\n",
    "products[products['product_name'].isna()]"
   ]
  },
  {
   "cell_type": "markdown",
   "id": "-A6x1AbJhjkp",
   "metadata": {
    "id": "-A6x1AbJhjkp"
   },
   "source": [
    "Son 1258 filas en las que no hay un nombre de producto y pareciera que todas son del mismo ID de pasillo y departamento."
   ]
  },
  {
   "cell_type": "code",
   "execution_count": 24,
   "id": "e96167bc",
   "metadata": {
    "id": "e96167bc"
   },
   "outputs": [
    {
     "data": {
      "text/plain": [
       "aisle_id\n",
       "100    1258\n",
       "Name: count, dtype: int64"
      ]
     },
     "execution_count": 24,
     "metadata": {},
     "output_type": "execute_result"
    }
   ],
   "source": [
    "# Se sacan los valores vacíos de la columna que son NaN, y mostrar la cantidad de apariciones de cada valor\n",
    "products[products['product_name'].isna()]['aisle_id'].value_counts()"
   ]
  },
  {
   "cell_type": "markdown",
   "id": "WRpIfXRphpSL",
   "metadata": {
    "id": "WRpIfXRphpSL"
   },
   "source": [
    "Se confirma que todos los productos pertenecen al mismo pasillo."
   ]
  },
  {
   "cell_type": "code",
   "execution_count": 25,
   "id": "8fd0a541",
   "metadata": {
    "id": "8fd0a541"
   },
   "outputs": [
    {
     "data": {
      "text/plain": [
       "department_id\n",
       "21    1258\n",
       "Name: count, dtype: int64"
      ]
     },
     "execution_count": 25,
     "metadata": {},
     "output_type": "execute_result"
    }
   ],
   "source": [
    "# Se repite el procedimiento pero con la columna de departamentos\n",
    "products[products['product_name'].isna()]['department_id'].value_counts()"
   ]
  },
  {
   "cell_type": "markdown",
   "id": "qDpdYn1Fht_I",
   "metadata": {
    "id": "qDpdYn1Fht_I"
   },
   "source": [
    "Todos los productos pertenecen al mismo departamento, y misma cantidad de veces que en los pasillos."
   ]
  },
  {
   "cell_type": "code",
   "execution_count": 26,
   "id": "325c3464",
   "metadata": {
    "id": "325c3464"
   },
   "outputs": [
    {
     "name": "stdout",
     "output_type": "stream",
     "text": [
      "    aisle_id    aisle\n",
      "99       100  missing\n",
      "\n",
      "    department_id department\n",
      "20             21    missing\n"
     ]
    }
   ],
   "source": [
    "# Usamos los df de Department y Aisles para revisar los datos del pasillo con ID 100 y el departamento con ID 21.\n",
    "print(aisles.query('aisle_id == 100'))\n",
    "print()\n",
    "print(departments.query('department_id == 21')) "
   ]
  },
  {
   "cell_type": "markdown",
   "id": "nqhSTUPhhvEJ",
   "metadata": {
    "id": "nqhSTUPhhvEJ"
   },
   "source": [
    "Se descubre que falta informacion de todos los productos relacionados a ese departamento y pasillo."
   ]
  },
  {
   "cell_type": "code",
   "execution_count": 27,
   "id": "6b295120",
   "metadata": {
    "id": "6b295120"
   },
   "outputs": [
    {
     "name": "stdout",
     "output_type": "stream",
     "text": [
      "0\n"
     ]
    }
   ],
   "source": [
    "# Completamos los nombres de productos ausentes con 'Unknown'\n",
    "products['product_name'].fillna('Unknown', inplace=True) \n",
    "\n",
    "# Se revisa si siguen quedando valores nulos\n",
    "print(products['product_name'].isna().sum()) "
   ]
  },
  {
   "cell_type": "markdown",
   "id": "fc70e5ad",
   "metadata": {
    "id": "fc70e5ad"
   },
   "source": [
    "Se descubrió que faltaba la información de todos los productos relacionados al departamento 21, pasillo 100, por lo que se decidió dejarlos como \"desconocido\" para poder usar los ids y no tener que borrar información ya que los datos se cruzan entre las tablas y nos pueden proporcionar información. "
   ]
  },
  {
   "cell_type": "markdown",
   "id": "7eb45c86",
   "metadata": {
    "id": "7eb45c86"
   },
   "source": [
    "#### `orders` data frame"
   ]
  },
  {
   "cell_type": "code",
   "execution_count": 28,
   "id": "93e41d96",
   "metadata": {
    "id": "93e41d96"
   },
   "outputs": [
    {
     "name": "stdout",
     "output_type": "stream",
     "text": [
      "28817\n",
      "         index  order_id  user_id  order_number  order_dow  order_hour_of_day  \\\n",
      "28          28    133707   182261             1          3                 10   \n",
      "96          96    787445    25685             1          6                 18   \n",
      "100        100    294410   111449             1          0                 19   \n",
      "103        103   2869915   123958             1          4                 16   \n",
      "104        104   2521921    42286             1          3                 18   \n",
      "...        ...       ...      ...           ...        ...                ...   \n",
      "478880  478895   2589657   205028             1          0                 16   \n",
      "478881  478896   2222353   141211             1          2                 13   \n",
      "478907  478922   2272807   204154             1          1                 15   \n",
      "478911  478926   2499542    68810             1          4                 19   \n",
      "478930  478945   1387033    22496             1          5                 14   \n",
      "\n",
      "        days_since_prior_order  \n",
      "28                         NaN  \n",
      "96                         NaN  \n",
      "100                        NaN  \n",
      "103                        NaN  \n",
      "104                        NaN  \n",
      "...                        ...  \n",
      "478880                     NaN  \n",
      "478881                     NaN  \n",
      "478907                     NaN  \n",
      "478911                     NaN  \n",
      "478930                     NaN  \n",
      "\n",
      "[28817 rows x 7 columns]\n"
     ]
    }
   ],
   "source": [
    "# Encontrar los valores ausentes\n",
    "\n",
    "# Se revisa cantidad de valores ausentes\n",
    "print(instacart_orders['days_since_prior_order'].isna().sum()) \n",
    "\n",
    "# Se sacan las filas de los valores ausentes\n",
    "print(instacart_orders[instacart_orders['days_since_prior_order'].isna()]) "
   ]
  },
  {
   "cell_type": "code",
   "execution_count": 29,
   "id": "166e5a86",
   "metadata": {
    "id": "166e5a86"
   },
   "outputs": [
    {
     "name": "stdout",
     "output_type": "stream",
     "text": [
      "Empty DataFrame\n",
      "Columns: [index, order_id, user_id, order_number, order_dow, order_hour_of_day, days_since_prior_order]\n",
      "Index: []\n"
     ]
    }
   ],
   "source": [
    "# Revisamos si hay algún valor ausente donde no hay sido la primera orden\n",
    "print(instacart_orders.query('days_since_prior_order.isna() and order_number > 1'))"
   ]
  },
  {
   "cell_type": "markdown",
   "id": "4e23d089",
   "metadata": {
    "id": "4e23d089"
   },
   "source": [
    "Todos los valores ausentes en `'days_since_prior_order'` son por que es la primera compra del cliente, por lo tanto no debe afectar ya que es información necesaria. "
   ]
  },
  {
   "cell_type": "markdown",
   "id": "69dc9ca4",
   "metadata": {
    "id": "69dc9ca4"
   },
   "source": [
    "#### `order_products` data frame"
   ]
  },
  {
   "cell_type": "code",
   "execution_count": 30,
   "id": "b8240253",
   "metadata": {
    "id": "b8240253"
   },
   "outputs": [
    {
     "name": "stdout",
     "output_type": "stream",
     "text": [
      "<class 'pandas.core.frame.DataFrame'>\n",
      "RangeIndex: 4545007 entries, 0 to 4545006\n",
      "Data columns (total 4 columns):\n",
      " #   Column             Dtype  \n",
      "---  ------             -----  \n",
      " 0   order_id           int64  \n",
      " 1   product_id         int64  \n",
      " 2   add_to_cart_order  float64\n",
      " 3   reordered          int64  \n",
      "dtypes: float64(1), int64(3)\n",
      "memory usage: 138.7 MB\n",
      "\n",
      "order_id               0\n",
      "product_id             0\n",
      "add_to_cart_order    836\n",
      "reordered              0\n",
      "dtype: int64\n",
      "\n",
      "         order_id  product_id  add_to_cart_order  reordered\n",
      "737       2449164        5068                NaN          0\n",
      "9926      1968313       43867                NaN          0\n",
      "14394     2926893       11688                NaN          0\n",
      "16418     1717990        4142                NaN          0\n",
      "30114     1959075       42828                NaN          1\n",
      "...           ...         ...                ...        ...\n",
      "4505662   1800005        7411                NaN          0\n",
      "4511400   1633337         260                NaN          0\n",
      "4517562    404157        9517                NaN          0\n",
      "4534112   1673227       17835                NaN          0\n",
      "4535739   1832957       17949                NaN          1\n",
      "\n",
      "[836 rows x 4 columns]\n"
     ]
    }
   ],
   "source": [
    "# Encontrar los valores ausentes\n",
    "order_products.info()\n",
    "print()\n",
    "\n",
    "# Se saca la suma de valores ausentes de las columnas\n",
    "print(order_products.isna().sum()) \n",
    "print()\n",
    "\n",
    "# Se sacan las filas con los valores ausentes\n",
    "print(order_products[order_products['add_to_cart_order'].isna()]) "
   ]
  },
  {
   "cell_type": "code",
   "execution_count": 31,
   "id": "9a78e5ee",
   "metadata": {
    "id": "9a78e5ee"
   },
   "outputs": [
    {
     "name": "stdout",
     "output_type": "stream",
     "text": [
      "El valor máximo es: 64.0\n",
      "El valor mínimo es: 1.0\n"
     ]
    }
   ],
   "source": [
    "# Revisar el valor máximo y mínimo de la columna 'add_to_cart_order'\n",
    "print('El valor máximo es:',order_products['add_to_cart_order'].max())\n",
    "print('El valor mínimo es:',order_products['add_to_cart_order'].min())"
   ]
  },
  {
   "cell_type": "markdown",
   "id": "-Z2Ja215jW78",
   "metadata": {
    "id": "-Z2Ja215jW78"
   },
   "source": [
    "Hay 836 filas sin datos en la columna `'add_to_order_cart'`, los valores están en el rango de 1 a 64, según el orden en el que fueron agregados al carrito."
   ]
  },
  {
   "cell_type": "code",
   "execution_count": 32,
   "id": "ab9d0c2b",
   "metadata": {
    "id": "ab9d0c2b"
   },
   "outputs": [
    {
     "data": {
      "text/html": [
       "<div>\n",
       "<style scoped>\n",
       "    .dataframe tbody tr th:only-of-type {\n",
       "        vertical-align: middle;\n",
       "    }\n",
       "\n",
       "    .dataframe tbody tr th {\n",
       "        vertical-align: top;\n",
       "    }\n",
       "\n",
       "    .dataframe thead th {\n",
       "        text-align: right;\n",
       "    }\n",
       "</style>\n",
       "<table border=\"1\" class=\"dataframe\">\n",
       "  <thead>\n",
       "    <tr style=\"text-align: right;\">\n",
       "      <th></th>\n",
       "      <th>order_id</th>\n",
       "      <th>product_id</th>\n",
       "      <th>add_to_cart_order</th>\n",
       "      <th>reordered</th>\n",
       "    </tr>\n",
       "  </thead>\n",
       "  <tbody>\n",
       "    <tr>\n",
       "      <th>737</th>\n",
       "      <td>2449164</td>\n",
       "      <td>5068</td>\n",
       "      <td>NaN</td>\n",
       "      <td>0</td>\n",
       "    </tr>\n",
       "    <tr>\n",
       "      <th>9926</th>\n",
       "      <td>1968313</td>\n",
       "      <td>43867</td>\n",
       "      <td>NaN</td>\n",
       "      <td>0</td>\n",
       "    </tr>\n",
       "    <tr>\n",
       "      <th>14394</th>\n",
       "      <td>2926893</td>\n",
       "      <td>11688</td>\n",
       "      <td>NaN</td>\n",
       "      <td>0</td>\n",
       "    </tr>\n",
       "    <tr>\n",
       "      <th>16418</th>\n",
       "      <td>1717990</td>\n",
       "      <td>4142</td>\n",
       "      <td>NaN</td>\n",
       "      <td>0</td>\n",
       "    </tr>\n",
       "    <tr>\n",
       "      <th>30114</th>\n",
       "      <td>1959075</td>\n",
       "      <td>42828</td>\n",
       "      <td>NaN</td>\n",
       "      <td>1</td>\n",
       "    </tr>\n",
       "    <tr>\n",
       "      <th>...</th>\n",
       "      <td>...</td>\n",
       "      <td>...</td>\n",
       "      <td>...</td>\n",
       "      <td>...</td>\n",
       "    </tr>\n",
       "    <tr>\n",
       "      <th>4505662</th>\n",
       "      <td>1800005</td>\n",
       "      <td>7411</td>\n",
       "      <td>NaN</td>\n",
       "      <td>0</td>\n",
       "    </tr>\n",
       "    <tr>\n",
       "      <th>4511400</th>\n",
       "      <td>1633337</td>\n",
       "      <td>260</td>\n",
       "      <td>NaN</td>\n",
       "      <td>0</td>\n",
       "    </tr>\n",
       "    <tr>\n",
       "      <th>4517562</th>\n",
       "      <td>404157</td>\n",
       "      <td>9517</td>\n",
       "      <td>NaN</td>\n",
       "      <td>0</td>\n",
       "    </tr>\n",
       "    <tr>\n",
       "      <th>4534112</th>\n",
       "      <td>1673227</td>\n",
       "      <td>17835</td>\n",
       "      <td>NaN</td>\n",
       "      <td>0</td>\n",
       "    </tr>\n",
       "    <tr>\n",
       "      <th>4535739</th>\n",
       "      <td>1832957</td>\n",
       "      <td>17949</td>\n",
       "      <td>NaN</td>\n",
       "      <td>1</td>\n",
       "    </tr>\n",
       "  </tbody>\n",
       "</table>\n",
       "<p>836 rows × 4 columns</p>\n",
       "</div>"
      ],
      "text/plain": [
       "         order_id  product_id  add_to_cart_order  reordered\n",
       "737       2449164        5068                NaN          0\n",
       "9926      1968313       43867                NaN          0\n",
       "14394     2926893       11688                NaN          0\n",
       "16418     1717990        4142                NaN          0\n",
       "30114     1959075       42828                NaN          1\n",
       "...           ...         ...                ...        ...\n",
       "4505662   1800005        7411                NaN          0\n",
       "4511400   1633337         260                NaN          0\n",
       "4517562    404157        9517                NaN          0\n",
       "4534112   1673227       17835                NaN          0\n",
       "4535739   1832957       17949                NaN          1\n",
       "\n",
       "[836 rows x 4 columns]"
      ]
     },
     "execution_count": 32,
     "metadata": {},
     "output_type": "execute_result"
    }
   ],
   "source": [
    "# Guardar todas las IDs de pedidos que tengan un valor ausente en 'add_to_cart_order'\n",
    "order_with_nan=order_products.query('add_to_cart_order.isna()')\n",
    "order_with_nan"
   ]
  },
  {
   "cell_type": "code",
   "execution_count": 33,
   "id": "54c31695",
   "metadata": {
    "id": "54c31695"
   },
   "outputs": [
    {
     "name": "stdout",
     "output_type": "stream",
     "text": [
      "order_id\n",
      "9310        1\n",
      "747668      1\n",
      "1598369     1\n",
      "1677118     1\n",
      "2170451     1\n",
      "           ..\n",
      "1959075    34\n",
      "171934     40\n",
      "2136777    44\n",
      "3308010    51\n",
      "61355      63\n",
      "Name: product_id, Length: 70, dtype: int64\n"
     ]
    }
   ],
   "source": [
    "# ¿Todos los pedidos con valores ausentes tienen más de 64 productos?\n",
    "\n",
    "# Agrupar las ordenes por order_id y contar el número de productos en cada orden y acomodarlas en orden ascendente\n",
    "print(order_with_nan.groupby(by='order_id')['product_id'].count().sort_values())"
   ]
  },
  {
   "cell_type": "markdown",
   "id": "p9V6pddtjglj",
   "metadata": {
    "id": "p9V6pddtjglj"
   },
   "source": [
    "Los pedidos con valores ausentes tienen varianzas en su número de productos, en un rango de 1 a 63."
   ]
  },
  {
   "cell_type": "code",
   "execution_count": 34,
   "id": "7a987d08",
   "metadata": {
    "id": "7a987d08"
   },
   "outputs": [
    {
     "name": "stdout",
     "output_type": "stream",
     "text": [
      "order_id             0\n",
      "product_id           0\n",
      "add_to_cart_order    0\n",
      "reordered            0\n",
      "dtype: int64\n",
      "<class 'pandas.core.frame.DataFrame'>\n",
      "RangeIndex: 4545007 entries, 0 to 4545006\n",
      "Data columns (total 4 columns):\n",
      " #   Column             Dtype\n",
      "---  ------             -----\n",
      " 0   order_id           int64\n",
      " 1   product_id         int64\n",
      " 2   add_to_cart_order  int32\n",
      " 3   reordered          int64\n",
      "dtypes: int32(1), int64(3)\n",
      "memory usage: 121.4 MB\n"
     ]
    }
   ],
   "source": [
    "# Remplazar los valores ausentes en la columna 'add_to_cart' con 999 y convertir la columna al tipo entero.\n",
    "# Se cambian los valores ausentes por '999'\n",
    "order_products['add_to_cart_order'].fillna(999, inplace=True) \n",
    "\n",
    "# Se cambia el tipo de dato a int64\n",
    "order_products['add_to_cart_order']= order_products['add_to_cart_order'].astype('int') \n",
    "\n",
    "\n",
    "# Se revisa que ya no haya valores ausentes\n",
    "print(order_products.isna().sum()) \n",
    "\n",
    "\n",
    "order_products.info()"
   ]
  },
  {
   "cell_type": "markdown",
   "id": "fea4bcc7",
   "metadata": {
    "id": "fea4bcc7"
   },
   "source": [
    "Se cambiaron los datos ausentes por el valor 999 para poder tomarlos en cuenta todavía, y se cambio el tipo de dato a entero en la columna 'add_to_cart_order'"
   ]
  },
  {
   "cell_type": "markdown",
   "id": "RnplPFY1gSrb",
   "metadata": {
    "id": "RnplPFY1gSrb"
   },
   "source": [
    "### Conclusiones\n",
    "\n",
    "A pesar de que había varios grupos de datos faltantes, esta información no la podíamos elimiar debido a que al estar conectada entre dataframes, podía alterar nuestro análisis de información."
   ]
  },
  {
   "cell_type": "markdown",
   "id": "UjrOIwTcz3ri",
   "metadata": {
    "id": "UjrOIwTcz3ri"
   },
   "source": [
    "## Análisis de los datos\n",
    "\n",
    "Una vez los datos estén procesados y listos, haz el siguiente análisis:"
   ]
  },
  {
   "cell_type": "markdown",
   "id": "short-capability",
   "metadata": {
    "id": "short-capability"
   },
   "source": [
    "### Verificar que los valores de `'order_hour_of_day'` y `'order_dow'` sean sensibles"
   ]
  },
  {
   "cell_type": "code",
   "execution_count": 35,
   "id": "growing-fruit",
   "metadata": {
    "id": "growing-fruit"
   },
   "outputs": [
    {
     "data": {
      "text/plain": [
       "array([ 0,  1,  2,  3,  4,  5,  6,  7,  8,  9, 10, 11, 12, 13, 14, 15, 16,\n",
       "       17, 18, 19, 20, 21, 22, 23], dtype=int64)"
      ]
     },
     "execution_count": 35,
     "metadata": {},
     "output_type": "execute_result"
    }
   ],
   "source": [
    "# Se sacan los valores únicos de la columna 'order_hour_of_day' se ordenan ascendentemente\n",
    "instacart_orders['order_hour_of_day'].sort_values().unique()"
   ]
  },
  {
   "cell_type": "code",
   "execution_count": 36,
   "id": "accessory-malaysia",
   "metadata": {
    "id": "accessory-malaysia"
   },
   "outputs": [
    {
     "data": {
      "text/plain": [
       "array([0, 1, 2, 3, 4, 5, 6], dtype=int64)"
      ]
     },
     "execution_count": 36,
     "metadata": {},
     "output_type": "execute_result"
    }
   ],
   "source": [
    "# Se sacan los valores únicos de la columna 'order_dow' se ordenan ascendentemente\n",
    "instacart_orders['order_dow'].sort_values().unique()"
   ]
  },
  {
   "cell_type": "markdown",
   "id": "hmR2GNQ6lCsX",
   "metadata": {
    "id": "hmR2GNQ6lCsX"
   },
   "source": [
    "Se confirman los valores correctos en las columnas."
   ]
  },
  {
   "cell_type": "markdown",
   "id": "a6743a70",
   "metadata": {
    "id": "a6743a70"
   },
   "source": [
    "### Para cada hora del día, ¿cuántas personas hacen órdenes?"
   ]
  },
  {
   "cell_type": "code",
   "execution_count": 37,
   "id": "a36cca27",
   "metadata": {
    "id": "a36cca27"
   },
   "outputs": [
    {
     "data": {
      "image/png": "[encoded data removed]",
      "text/plain": [
       "<Figure size 640x480 with 1 Axes>"
      ]
     },
     "metadata": {},
     "output_type": "display_data"
    }
   ],
   "source": [
    "# Se agrupan los datos por la columna 'order_hour_of_day' y se cuenta con la columna user_id\n",
    "orders_by_hour= instacart_orders.groupby(by='order_hour_of_day')['user_id'].count()\n",
    "orders_by_hour.plot(\n",
    "kind='bar',\n",
    "title='Personas ordenando por hora',\n",
    "xlabel='Hora del día',\n",
    "ylabel='Número de personas',\n",
    "rot=0\n",
    ")\n",
    "plt.show()"
   ]
  },
  {
   "cell_type": "markdown",
   "id": "11270eed",
   "metadata": {
    "id": "11270eed"
   },
   "source": [
    "Se puede observar que las horas con más gente es entre las 9 de la mañana y las 4 de la tarde. Se observa también que en las horas de noche no hay actividad en comparación de el día."
   ]
  },
  {
   "cell_type": "markdown",
   "id": "documented-command",
   "metadata": {
    "id": "documented-command"
   },
   "source": [
    "### ¿Qué día de la semana compran víveres las personas?"
   ]
  },
  {
   "cell_type": "code",
   "execution_count": 38,
   "id": "chief-digit",
   "metadata": {
    "id": "chief-digit"
   },
   "outputs": [
    {
     "data": {
      "image/png": "[encoded data removed]",
      "text/plain": [
       "<Figure size 640x480 with 1 Axes>"
      ]
     },
     "metadata": {},
     "output_type": "display_data"
    }
   ],
   "source": [
    "# Se agrupan por días de la semana y se cuentan las cantidades por usuario\n",
    "orders_by_day= instacart_orders.groupby(by='order_dow')['user_id'].count() \n",
    "orders_by_day.plot(\n",
    "kind='bar',\n",
    "title='Personas ordenando por día',\n",
    "xlabel='Día de la semana',\n",
    "ylabel='Número de personas',\n",
    "rot=0\n",
    ")\n",
    "\n",
    "plt.show()"
   ]
  },
  {
   "cell_type": "markdown",
   "id": "dominant-lightning",
   "metadata": {
    "id": "dominant-lightning"
   },
   "source": [
    "Podemos observar que Lunes y Martes son los días con más interacciones en la semana. De Miércoles a Domingo podemos ver que se baja la actividad pero se mantiene algo igualada esos días, siendo el Viernes el día con menor actividad."
   ]
  },
  {
   "cell_type": "markdown",
   "id": "cutting-concert",
   "metadata": {
    "id": "cutting-concert"
   },
   "source": [
    "### ¿Cuánto tiempo esperan las personas hasta hacer otro pedido? "
   ]
  },
  {
   "cell_type": "code",
   "execution_count": 39,
   "id": "c231f523",
   "metadata": {
    "id": "c231f523"
   },
   "outputs": [
    {
     "data": {
      "image/png": "[encoded data removed]",
      "text/plain": [
       "<Figure size 640x480 with 1 Axes>"
      ]
     },
     "metadata": {},
     "output_type": "display_data"
    }
   ],
   "source": [
    "# Se sacan las filas que tengan días mayores a 0\n",
    "days_til_new_order= instacart_orders.query('days_since_prior_order > 0')\n",
    "days_til_new_order= days_til_new_order.groupby(by='days_since_prior_order')['order_id'].count().reset_index()\n",
    "days_til_new_order['days_since_prior_order']=days_til_new_order['days_since_prior_order'].astype('int')\n",
    "days_til_new_order.plot(\n",
    "    x='days_since_prior_order',\n",
    "    y='order_id',\n",
    "    kind='bar',\n",
    "    xlabel='Days since prior order',\n",
    "    ylabel='Frequency'\n",
    ")\n",
    "plt.legend(['Orders'])\n",
    "plt.show()"
   ]
  },
  {
   "cell_type": "markdown",
   "id": "discrete-vertex",
   "metadata": {
    "id": "discrete-vertex"
   },
   "source": [
    "Se observa que la mayor parte de las personas esperan los 30 días para volver a hacer otro pedido. El area de la gráfica donde se ve que está la mayor cantidad de personas es de 1 a 8 días."
   ]
  },
  {
   "cell_type": "markdown",
   "id": "packed-classic",
   "metadata": {
    "id": "packed-classic"
   },
   "source": [
    "### Diferencia entre miércoles y sábados para  `'order_hour_of_day'`. "
   ]
  },
  {
   "cell_type": "code",
   "execution_count": 40,
   "id": "bc818b4a",
   "metadata": {},
   "outputs": [
    {
     "name": "stdout",
     "output_type": "stream",
     "text": [
      "order_hour_of_day\n",
      "0     462\n",
      "1     240\n",
      "2     136\n",
      "3     104\n",
      "4     109\n",
      "5     196\n",
      "6     653\n",
      "7    1900\n",
      "8    3485\n",
      "9    5057\n",
      "Name: order_id, dtype: int64\n"
     ]
    }
   ],
   "source": [
    "wed=instacart_orders.query('order_dow == 2') #se sacan las filas de las órdenes hechas en miércoles\n",
    "wed=wed.groupby('order_hour_of_day')['order_id'].count() #se sacan las cantidades de pedido por hora\n",
    "print(wed.head(10))"
   ]
  },
  {
   "cell_type": "code",
   "execution_count": 41,
   "id": "797c90a8",
   "metadata": {
    "id": "797c90a8"
   },
   "outputs": [
    {
     "name": "stdout",
     "output_type": "stream",
     "text": [
      "order_hour_of_day\n",
      "0     459\n",
      "1     219\n",
      "2     123\n",
      "3      99\n",
      "4     118\n",
      "5     229\n",
      "6     654\n",
      "7    1933\n",
      "8    3373\n",
      "9    4794\n",
      "Name: order_id, dtype: int64\n"
     ]
    }
   ],
   "source": [
    "sat=instacart_orders.query('order_dow == 5')#se hace lo mismo que en el df pasado, en este caso para el día sábado \n",
    "sat=sat.groupby('order_hour_of_day')['order_id'].count() \n",
    "print(sat.head(10))"
   ]
  },
  {
   "cell_type": "code",
   "execution_count": 42,
   "id": "35bcea30",
   "metadata": {
    "id": "35bcea30"
   },
   "outputs": [
    {
     "data": {
      "image/png": "[encoded data removed]",
      "text/plain": [
       "<Figure size 640x480 with 1 Axes>"
      ]
     },
     "metadata": {},
     "output_type": "display_data"
    }
   ],
   "source": [
    "wed_and_sat= pd.concat([wed, sat],axis='columns') #se unen los dos df para tener los valores juntos y graficar cada columna\n",
    "wed_and_sat.columns= ['wed_order_hour_of_day','sat_order_hour_of_day']\n",
    "wed_and_sat.plot(\n",
    "    kind='bar',\n",
    "    rot=0\n",
    ")\n",
    "plt.legend(['Wednesday','Saturday'])\n",
    "plt.show()"
   ]
  },
  {
   "cell_type": "markdown",
   "id": "charitable-congo",
   "metadata": {
    "id": "charitable-congo"
   },
   "source": [
    "Se puede ver que los comportamientos son muy similares, aunque el Miércoles es el que normalmente está un poco por arriba en en la cantidad de pedidos."
   ]
  },
  {
   "cell_type": "markdown",
   "id": "e3891143",
   "metadata": {
    "id": "e3891143"
   },
   "source": [
    "### ¿Cuál es la distribución para el número de pedidos por cliente?"
   ]
  },
  {
   "cell_type": "code",
   "execution_count": 43,
   "id": "d8c26c23",
   "metadata": {
    "id": "d8c26c23"
   },
   "outputs": [
    {
     "name": "stdout",
     "output_type": "stream",
     "text": [
      "        user_id  order_number\n",
      "0             2             4\n",
      "1             4             6\n",
      "2             5             4\n",
      "3             6             4\n",
      "4             7            19\n",
      "...         ...           ...\n",
      "157432   206203             2\n",
      "157433   206206            66\n",
      "157434   206207            14\n",
      "157435   206208            34\n",
      "157436   206209            13\n",
      "\n",
      "[157437 rows x 2 columns]\n",
      "\n",
      "El valor más alto en los pedidos es 100 y el valor más bajo es 1\n"
     ]
    }
   ],
   "source": [
    "# Se saca el número más alto de pedido, para saber cuántos ha hecho cada usuario\n",
    "orders_by_client=instacart_orders.groupby(by='user_id').max().reset_index()\n",
    "\n",
    "orders_by_user=orders_by_client[['user_id','order_number']] #se extraen estas dos columnas\n",
    "print(orders_by_user)\n",
    "print()\n",
    "print('El valor más alto en los pedidos es',orders_by_user['order_number'].max(),'y el valor más bajo es', orders_by_user['order_number'].min()) #se saca el rango de los pedidos"
   ]
  },
  {
   "cell_type": "code",
   "execution_count": 44,
   "id": "00e69a66",
   "metadata": {
    "id": "00e69a66"
   },
   "outputs": [
    {
     "data": {
      "image/png": "[encoded data removed]",
      "text/plain": [
       "<Figure size 640x480 with 1 Axes>"
      ]
     },
     "metadata": {},
     "output_type": "display_data"
    }
   ],
   "source": [
    "orders_by_user.hist(\n",
    "    column='order_number',\n",
    "    bins=20\n",
    ")\n",
    "plt.show()"
   ]
  },
  {
   "cell_type": "markdown",
   "id": "d2eff7d5",
   "metadata": {
    "id": "d2eff7d5"
   },
   "source": [
    "La mayoría de los clientes realizan de 0 a 10 pedidos. De 10 a 40 todavía se ve una cantidad notable, y a partir de los 40 pedidos la cantidad de usuarios es muy baja."
   ]
  },
  {
   "cell_type": "markdown",
   "id": "54a0319c",
   "metadata": {
    "id": "54a0319c"
   },
   "source": [
    "### ¿Cuáles son los 20 productos más populares (muestra su ID y nombre)?"
   ]
  },
  {
   "cell_type": "code",
   "execution_count": 45,
   "id": "exterior-arizona",
   "metadata": {
    "id": "exterior-arizona",
    "scrolled": true
   },
   "outputs": [
    {
     "data": {
      "text/html": [
       "<div>\n",
       "<style scoped>\n",
       "    .dataframe tbody tr th:only-of-type {\n",
       "        vertical-align: middle;\n",
       "    }\n",
       "\n",
       "    .dataframe tbody tr th {\n",
       "        vertical-align: top;\n",
       "    }\n",
       "\n",
       "    .dataframe thead th {\n",
       "        text-align: right;\n",
       "    }\n",
       "</style>\n",
       "<table border=\"1\" class=\"dataframe\">\n",
       "  <thead>\n",
       "    <tr style=\"text-align: right;\">\n",
       "      <th></th>\n",
       "      <th>product_id</th>\n",
       "      <th>order_id</th>\n",
       "      <th>add_to_cart_order</th>\n",
       "      <th>reordered</th>\n",
       "    </tr>\n",
       "  </thead>\n",
       "  <tbody>\n",
       "    <tr>\n",
       "      <th>22808</th>\n",
       "      <td>24852</td>\n",
       "      <td>66050</td>\n",
       "      <td>66050</td>\n",
       "      <td>66050</td>\n",
       "    </tr>\n",
       "    <tr>\n",
       "      <th>12025</th>\n",
       "      <td>13176</td>\n",
       "      <td>53297</td>\n",
       "      <td>53297</td>\n",
       "      <td>53297</td>\n",
       "    </tr>\n",
       "    <tr>\n",
       "      <th>19370</th>\n",
       "      <td>21137</td>\n",
       "      <td>37039</td>\n",
       "      <td>37039</td>\n",
       "      <td>37039</td>\n",
       "    </tr>\n",
       "    <tr>\n",
       "      <th>20077</th>\n",
       "      <td>21903</td>\n",
       "      <td>33971</td>\n",
       "      <td>33971</td>\n",
       "      <td>33971</td>\n",
       "    </tr>\n",
       "    <tr>\n",
       "      <th>43271</th>\n",
       "      <td>47209</td>\n",
       "      <td>29773</td>\n",
       "      <td>29773</td>\n",
       "      <td>29773</td>\n",
       "    </tr>\n",
       "    <tr>\n",
       "      <th>43788</th>\n",
       "      <td>47766</td>\n",
       "      <td>24689</td>\n",
       "      <td>24689</td>\n",
       "      <td>24689</td>\n",
       "    </tr>\n",
       "    <tr>\n",
       "      <th>43663</th>\n",
       "      <td>47626</td>\n",
       "      <td>21495</td>\n",
       "      <td>21495</td>\n",
       "      <td>21495</td>\n",
       "    </tr>\n",
       "    <tr>\n",
       "      <th>15364</th>\n",
       "      <td>16797</td>\n",
       "      <td>20018</td>\n",
       "      <td>20018</td>\n",
       "      <td>20018</td>\n",
       "    </tr>\n",
       "    <tr>\n",
       "      <th>24047</th>\n",
       "      <td>26209</td>\n",
       "      <td>19690</td>\n",
       "      <td>19690</td>\n",
       "      <td>19690</td>\n",
       "    </tr>\n",
       "    <tr>\n",
       "      <th>25556</th>\n",
       "      <td>27845</td>\n",
       "      <td>19600</td>\n",
       "      <td>19600</td>\n",
       "      <td>19600</td>\n",
       "    </tr>\n",
       "    <tr>\n",
       "      <th>25666</th>\n",
       "      <td>27966</td>\n",
       "      <td>19197</td>\n",
       "      <td>19197</td>\n",
       "      <td>19197</td>\n",
       "    </tr>\n",
       "    <tr>\n",
       "      <th>21025</th>\n",
       "      <td>22935</td>\n",
       "      <td>15898</td>\n",
       "      <td>15898</td>\n",
       "      <td>15898</td>\n",
       "    </tr>\n",
       "    <tr>\n",
       "      <th>22908</th>\n",
       "      <td>24964</td>\n",
       "      <td>15292</td>\n",
       "      <td>15292</td>\n",
       "      <td>15292</td>\n",
       "    </tr>\n",
       "    <tr>\n",
       "      <th>41244</th>\n",
       "      <td>45007</td>\n",
       "      <td>14584</td>\n",
       "      <td>14584</td>\n",
       "      <td>14584</td>\n",
       "    </tr>\n",
       "    <tr>\n",
       "      <th>35996</th>\n",
       "      <td>39275</td>\n",
       "      <td>13879</td>\n",
       "      <td>13879</td>\n",
       "      <td>13879</td>\n",
       "    </tr>\n",
       "    <tr>\n",
       "      <th>45561</th>\n",
       "      <td>49683</td>\n",
       "      <td>13675</td>\n",
       "      <td>13675</td>\n",
       "      <td>13675</td>\n",
       "    </tr>\n",
       "    <tr>\n",
       "      <th>25889</th>\n",
       "      <td>28204</td>\n",
       "      <td>12544</td>\n",
       "      <td>12544</td>\n",
       "      <td>12544</td>\n",
       "    </tr>\n",
       "    <tr>\n",
       "      <th>5375</th>\n",
       "      <td>5876</td>\n",
       "      <td>12232</td>\n",
       "      <td>12232</td>\n",
       "      <td>12232</td>\n",
       "    </tr>\n",
       "    <tr>\n",
       "      <th>7543</th>\n",
       "      <td>8277</td>\n",
       "      <td>11993</td>\n",
       "      <td>11993</td>\n",
       "      <td>11993</td>\n",
       "    </tr>\n",
       "    <tr>\n",
       "      <th>37301</th>\n",
       "      <td>40706</td>\n",
       "      <td>11781</td>\n",
       "      <td>11781</td>\n",
       "      <td>11781</td>\n",
       "    </tr>\n",
       "  </tbody>\n",
       "</table>\n",
       "</div>"
      ],
      "text/plain": [
       "       product_id  order_id  add_to_cart_order  reordered\n",
       "22808       24852     66050              66050      66050\n",
       "12025       13176     53297              53297      53297\n",
       "19370       21137     37039              37039      37039\n",
       "20077       21903     33971              33971      33971\n",
       "43271       47209     29773              29773      29773\n",
       "43788       47766     24689              24689      24689\n",
       "43663       47626     21495              21495      21495\n",
       "15364       16797     20018              20018      20018\n",
       "24047       26209     19690              19690      19690\n",
       "25556       27845     19600              19600      19600\n",
       "25666       27966     19197              19197      19197\n",
       "21025       22935     15898              15898      15898\n",
       "22908       24964     15292              15292      15292\n",
       "41244       45007     14584              14584      14584\n",
       "35996       39275     13879              13879      13879\n",
       "45561       49683     13675              13675      13675\n",
       "25889       28204     12544              12544      12544\n",
       "5375         5876     12232              12232      12232\n",
       "7543         8277     11993              11993      11993\n",
       "37301       40706     11781              11781      11781"
      ]
     },
     "execution_count": 45,
     "metadata": {},
     "output_type": "execute_result"
    }
   ],
   "source": [
    "# Se agrupan los productos por id, se sacan la cantidad de veces que hay y se ordenan los valores\n",
    "top_products= order_products.groupby(by='product_id').count().reset_index().sort_values(by='order_id',ascending=False)\n",
    "\n",
    "top_products.head(20)"
   ]
  },
  {
   "cell_type": "code",
   "execution_count": 46,
   "id": "universal-facial",
   "metadata": {
    "id": "universal-facial"
   },
   "outputs": [
    {
     "data": {
      "text/html": [
       "<div>\n",
       "<style scoped>\n",
       "    .dataframe tbody tr th:only-of-type {\n",
       "        vertical-align: middle;\n",
       "    }\n",
       "\n",
       "    .dataframe tbody tr th {\n",
       "        vertical-align: top;\n",
       "    }\n",
       "\n",
       "    .dataframe thead th {\n",
       "        text-align: right;\n",
       "    }\n",
       "</style>\n",
       "<table border=\"1\" class=\"dataframe\">\n",
       "  <thead>\n",
       "    <tr style=\"text-align: right;\">\n",
       "      <th></th>\n",
       "      <th>product_id</th>\n",
       "      <th>order_id</th>\n",
       "      <th>add_to_cart_order</th>\n",
       "      <th>reordered</th>\n",
       "      <th>product_name</th>\n",
       "      <th>aisle_id</th>\n",
       "      <th>department_id</th>\n",
       "    </tr>\n",
       "  </thead>\n",
       "  <tbody>\n",
       "    <tr>\n",
       "      <th>0</th>\n",
       "      <td>24852</td>\n",
       "      <td>66050</td>\n",
       "      <td>66050</td>\n",
       "      <td>66050</td>\n",
       "      <td>BANANA</td>\n",
       "      <td>24</td>\n",
       "      <td>4</td>\n",
       "    </tr>\n",
       "    <tr>\n",
       "      <th>1</th>\n",
       "      <td>13176</td>\n",
       "      <td>53297</td>\n",
       "      <td>53297</td>\n",
       "      <td>53297</td>\n",
       "      <td>BAG OF ORGANIC BANANAS</td>\n",
       "      <td>24</td>\n",
       "      <td>4</td>\n",
       "    </tr>\n",
       "    <tr>\n",
       "      <th>2</th>\n",
       "      <td>21137</td>\n",
       "      <td>37039</td>\n",
       "      <td>37039</td>\n",
       "      <td>37039</td>\n",
       "      <td>ORGANIC STRAWBERRIES</td>\n",
       "      <td>24</td>\n",
       "      <td>4</td>\n",
       "    </tr>\n",
       "    <tr>\n",
       "      <th>3</th>\n",
       "      <td>21903</td>\n",
       "      <td>33971</td>\n",
       "      <td>33971</td>\n",
       "      <td>33971</td>\n",
       "      <td>ORGANIC BABY SPINACH</td>\n",
       "      <td>123</td>\n",
       "      <td>4</td>\n",
       "    </tr>\n",
       "    <tr>\n",
       "      <th>4</th>\n",
       "      <td>47209</td>\n",
       "      <td>29773</td>\n",
       "      <td>29773</td>\n",
       "      <td>29773</td>\n",
       "      <td>ORGANIC HASS AVOCADO</td>\n",
       "      <td>24</td>\n",
       "      <td>4</td>\n",
       "    </tr>\n",
       "    <tr>\n",
       "      <th>5</th>\n",
       "      <td>47766</td>\n",
       "      <td>24689</td>\n",
       "      <td>24689</td>\n",
       "      <td>24689</td>\n",
       "      <td>ORGANIC AVOCADO</td>\n",
       "      <td>24</td>\n",
       "      <td>4</td>\n",
       "    </tr>\n",
       "    <tr>\n",
       "      <th>6</th>\n",
       "      <td>47626</td>\n",
       "      <td>21495</td>\n",
       "      <td>21495</td>\n",
       "      <td>21495</td>\n",
       "      <td>LARGE LEMON</td>\n",
       "      <td>24</td>\n",
       "      <td>4</td>\n",
       "    </tr>\n",
       "    <tr>\n",
       "      <th>7</th>\n",
       "      <td>16797</td>\n",
       "      <td>20018</td>\n",
       "      <td>20018</td>\n",
       "      <td>20018</td>\n",
       "      <td>STRAWBERRIES</td>\n",
       "      <td>24</td>\n",
       "      <td>4</td>\n",
       "    </tr>\n",
       "    <tr>\n",
       "      <th>8</th>\n",
       "      <td>26209</td>\n",
       "      <td>19690</td>\n",
       "      <td>19690</td>\n",
       "      <td>19690</td>\n",
       "      <td>LIMES</td>\n",
       "      <td>24</td>\n",
       "      <td>4</td>\n",
       "    </tr>\n",
       "    <tr>\n",
       "      <th>9</th>\n",
       "      <td>27845</td>\n",
       "      <td>19600</td>\n",
       "      <td>19600</td>\n",
       "      <td>19600</td>\n",
       "      <td>ORGANIC WHOLE MILK</td>\n",
       "      <td>84</td>\n",
       "      <td>16</td>\n",
       "    </tr>\n",
       "    <tr>\n",
       "      <th>10</th>\n",
       "      <td>27966</td>\n",
       "      <td>19197</td>\n",
       "      <td>19197</td>\n",
       "      <td>19197</td>\n",
       "      <td>ORGANIC RASPBERRIES</td>\n",
       "      <td>123</td>\n",
       "      <td>4</td>\n",
       "    </tr>\n",
       "    <tr>\n",
       "      <th>11</th>\n",
       "      <td>22935</td>\n",
       "      <td>15898</td>\n",
       "      <td>15898</td>\n",
       "      <td>15898</td>\n",
       "      <td>ORGANIC YELLOW ONION</td>\n",
       "      <td>83</td>\n",
       "      <td>4</td>\n",
       "    </tr>\n",
       "    <tr>\n",
       "      <th>12</th>\n",
       "      <td>24964</td>\n",
       "      <td>15292</td>\n",
       "      <td>15292</td>\n",
       "      <td>15292</td>\n",
       "      <td>ORGANIC GARLIC</td>\n",
       "      <td>83</td>\n",
       "      <td>4</td>\n",
       "    </tr>\n",
       "    <tr>\n",
       "      <th>13</th>\n",
       "      <td>45007</td>\n",
       "      <td>14584</td>\n",
       "      <td>14584</td>\n",
       "      <td>14584</td>\n",
       "      <td>ORGANIC ZUCCHINI</td>\n",
       "      <td>83</td>\n",
       "      <td>4</td>\n",
       "    </tr>\n",
       "    <tr>\n",
       "      <th>14</th>\n",
       "      <td>39275</td>\n",
       "      <td>13879</td>\n",
       "      <td>13879</td>\n",
       "      <td>13879</td>\n",
       "      <td>ORGANIC BLUEBERRIES</td>\n",
       "      <td>123</td>\n",
       "      <td>4</td>\n",
       "    </tr>\n",
       "    <tr>\n",
       "      <th>15</th>\n",
       "      <td>49683</td>\n",
       "      <td>13675</td>\n",
       "      <td>13675</td>\n",
       "      <td>13675</td>\n",
       "      <td>CUCUMBER KIRBY</td>\n",
       "      <td>83</td>\n",
       "      <td>4</td>\n",
       "    </tr>\n",
       "    <tr>\n",
       "      <th>16</th>\n",
       "      <td>28204</td>\n",
       "      <td>12544</td>\n",
       "      <td>12544</td>\n",
       "      <td>12544</td>\n",
       "      <td>ORGANIC FUJI APPLE</td>\n",
       "      <td>24</td>\n",
       "      <td>4</td>\n",
       "    </tr>\n",
       "    <tr>\n",
       "      <th>17</th>\n",
       "      <td>5876</td>\n",
       "      <td>12232</td>\n",
       "      <td>12232</td>\n",
       "      <td>12232</td>\n",
       "      <td>ORGANIC LEMON</td>\n",
       "      <td>24</td>\n",
       "      <td>4</td>\n",
       "    </tr>\n",
       "    <tr>\n",
       "      <th>18</th>\n",
       "      <td>8277</td>\n",
       "      <td>11993</td>\n",
       "      <td>11993</td>\n",
       "      <td>11993</td>\n",
       "      <td>APPLE HONEYCRISP ORGANIC</td>\n",
       "      <td>24</td>\n",
       "      <td>4</td>\n",
       "    </tr>\n",
       "    <tr>\n",
       "      <th>19</th>\n",
       "      <td>40706</td>\n",
       "      <td>11781</td>\n",
       "      <td>11781</td>\n",
       "      <td>11781</td>\n",
       "      <td>ORGANIC GRAPE TOMATOES</td>\n",
       "      <td>123</td>\n",
       "      <td>4</td>\n",
       "    </tr>\n",
       "  </tbody>\n",
       "</table>\n",
       "</div>"
      ],
      "text/plain": [
       "    product_id  order_id  add_to_cart_order  reordered  \\\n",
       "0        24852     66050              66050      66050   \n",
       "1        13176     53297              53297      53297   \n",
       "2        21137     37039              37039      37039   \n",
       "3        21903     33971              33971      33971   \n",
       "4        47209     29773              29773      29773   \n",
       "5        47766     24689              24689      24689   \n",
       "6        47626     21495              21495      21495   \n",
       "7        16797     20018              20018      20018   \n",
       "8        26209     19690              19690      19690   \n",
       "9        27845     19600              19600      19600   \n",
       "10       27966     19197              19197      19197   \n",
       "11       22935     15898              15898      15898   \n",
       "12       24964     15292              15292      15292   \n",
       "13       45007     14584              14584      14584   \n",
       "14       39275     13879              13879      13879   \n",
       "15       49683     13675              13675      13675   \n",
       "16       28204     12544              12544      12544   \n",
       "17        5876     12232              12232      12232   \n",
       "18        8277     11993              11993      11993   \n",
       "19       40706     11781              11781      11781   \n",
       "\n",
       "                product_name  aisle_id  department_id  \n",
       "0                     BANANA        24              4  \n",
       "1     BAG OF ORGANIC BANANAS        24              4  \n",
       "2       ORGANIC STRAWBERRIES        24              4  \n",
       "3       ORGANIC BABY SPINACH       123              4  \n",
       "4       ORGANIC HASS AVOCADO        24              4  \n",
       "5            ORGANIC AVOCADO        24              4  \n",
       "6                LARGE LEMON        24              4  \n",
       "7               STRAWBERRIES        24              4  \n",
       "8                      LIMES        24              4  \n",
       "9         ORGANIC WHOLE MILK        84             16  \n",
       "10       ORGANIC RASPBERRIES       123              4  \n",
       "11      ORGANIC YELLOW ONION        83              4  \n",
       "12            ORGANIC GARLIC        83              4  \n",
       "13          ORGANIC ZUCCHINI        83              4  \n",
       "14       ORGANIC BLUEBERRIES       123              4  \n",
       "15            CUCUMBER KIRBY        83              4  \n",
       "16        ORGANIC FUJI APPLE        24              4  \n",
       "17             ORGANIC LEMON        24              4  \n",
       "18  APPLE HONEYCRISP ORGANIC        24              4  \n",
       "19    ORGANIC GRAPE TOMATOES       123              4  "
      ]
     },
     "execution_count": 46,
     "metadata": {},
     "output_type": "execute_result"
    }
   ],
   "source": [
    "# Se junta con el df de products para obtener los nombres de los productos, usando 'product_id' para unirlos\n",
    "top_products_names=top_products.merge(products, on='product_id', how='left') \n",
    "top_products_names.head(20)"
   ]
  },
  {
   "cell_type": "code",
   "execution_count": 47,
   "id": "bbcdd20b",
   "metadata": {
    "id": "bbcdd20b"
   },
   "outputs": [
    {
     "data": {
      "text/html": [
       "<div>\n",
       "<style scoped>\n",
       "    .dataframe tbody tr th:only-of-type {\n",
       "        vertical-align: middle;\n",
       "    }\n",
       "\n",
       "    .dataframe tbody tr th {\n",
       "        vertical-align: top;\n",
       "    }\n",
       "\n",
       "    .dataframe thead th {\n",
       "        text-align: right;\n",
       "    }\n",
       "</style>\n",
       "<table border=\"1\" class=\"dataframe\">\n",
       "  <thead>\n",
       "    <tr style=\"text-align: right;\">\n",
       "      <th></th>\n",
       "      <th>product_name</th>\n",
       "      <th>product_id</th>\n",
       "    </tr>\n",
       "  </thead>\n",
       "  <tbody>\n",
       "    <tr>\n",
       "      <th>0</th>\n",
       "      <td>BANANA</td>\n",
       "      <td>24852</td>\n",
       "    </tr>\n",
       "    <tr>\n",
       "      <th>1</th>\n",
       "      <td>BAG OF ORGANIC BANANAS</td>\n",
       "      <td>13176</td>\n",
       "    </tr>\n",
       "    <tr>\n",
       "      <th>2</th>\n",
       "      <td>ORGANIC STRAWBERRIES</td>\n",
       "      <td>21137</td>\n",
       "    </tr>\n",
       "    <tr>\n",
       "      <th>3</th>\n",
       "      <td>ORGANIC BABY SPINACH</td>\n",
       "      <td>21903</td>\n",
       "    </tr>\n",
       "    <tr>\n",
       "      <th>4</th>\n",
       "      <td>ORGANIC HASS AVOCADO</td>\n",
       "      <td>47209</td>\n",
       "    </tr>\n",
       "    <tr>\n",
       "      <th>5</th>\n",
       "      <td>ORGANIC AVOCADO</td>\n",
       "      <td>47766</td>\n",
       "    </tr>\n",
       "    <tr>\n",
       "      <th>6</th>\n",
       "      <td>LARGE LEMON</td>\n",
       "      <td>47626</td>\n",
       "    </tr>\n",
       "    <tr>\n",
       "      <th>7</th>\n",
       "      <td>STRAWBERRIES</td>\n",
       "      <td>16797</td>\n",
       "    </tr>\n",
       "    <tr>\n",
       "      <th>8</th>\n",
       "      <td>LIMES</td>\n",
       "      <td>26209</td>\n",
       "    </tr>\n",
       "    <tr>\n",
       "      <th>9</th>\n",
       "      <td>ORGANIC WHOLE MILK</td>\n",
       "      <td>27845</td>\n",
       "    </tr>\n",
       "    <tr>\n",
       "      <th>10</th>\n",
       "      <td>ORGANIC RASPBERRIES</td>\n",
       "      <td>27966</td>\n",
       "    </tr>\n",
       "    <tr>\n",
       "      <th>11</th>\n",
       "      <td>ORGANIC YELLOW ONION</td>\n",
       "      <td>22935</td>\n",
       "    </tr>\n",
       "    <tr>\n",
       "      <th>12</th>\n",
       "      <td>ORGANIC GARLIC</td>\n",
       "      <td>24964</td>\n",
       "    </tr>\n",
       "    <tr>\n",
       "      <th>13</th>\n",
       "      <td>ORGANIC ZUCCHINI</td>\n",
       "      <td>45007</td>\n",
       "    </tr>\n",
       "    <tr>\n",
       "      <th>14</th>\n",
       "      <td>ORGANIC BLUEBERRIES</td>\n",
       "      <td>39275</td>\n",
       "    </tr>\n",
       "    <tr>\n",
       "      <th>15</th>\n",
       "      <td>CUCUMBER KIRBY</td>\n",
       "      <td>49683</td>\n",
       "    </tr>\n",
       "    <tr>\n",
       "      <th>16</th>\n",
       "      <td>ORGANIC FUJI APPLE</td>\n",
       "      <td>28204</td>\n",
       "    </tr>\n",
       "    <tr>\n",
       "      <th>17</th>\n",
       "      <td>ORGANIC LEMON</td>\n",
       "      <td>5876</td>\n",
       "    </tr>\n",
       "    <tr>\n",
       "      <th>18</th>\n",
       "      <td>APPLE HONEYCRISP ORGANIC</td>\n",
       "      <td>8277</td>\n",
       "    </tr>\n",
       "    <tr>\n",
       "      <th>19</th>\n",
       "      <td>ORGANIC GRAPE TOMATOES</td>\n",
       "      <td>40706</td>\n",
       "    </tr>\n",
       "  </tbody>\n",
       "</table>\n",
       "</div>"
      ],
      "text/plain": [
       "                product_name  product_id\n",
       "0                     BANANA       24852\n",
       "1     BAG OF ORGANIC BANANAS       13176\n",
       "2       ORGANIC STRAWBERRIES       21137\n",
       "3       ORGANIC BABY SPINACH       21903\n",
       "4       ORGANIC HASS AVOCADO       47209\n",
       "5            ORGANIC AVOCADO       47766\n",
       "6                LARGE LEMON       47626\n",
       "7               STRAWBERRIES       16797\n",
       "8                      LIMES       26209\n",
       "9         ORGANIC WHOLE MILK       27845\n",
       "10       ORGANIC RASPBERRIES       27966\n",
       "11      ORGANIC YELLOW ONION       22935\n",
       "12            ORGANIC GARLIC       24964\n",
       "13          ORGANIC ZUCCHINI       45007\n",
       "14       ORGANIC BLUEBERRIES       39275\n",
       "15            CUCUMBER KIRBY       49683\n",
       "16        ORGANIC FUJI APPLE       28204\n",
       "17             ORGANIC LEMON        5876\n",
       "18  APPLE HONEYCRISP ORGANIC        8277\n",
       "19    ORGANIC GRAPE TOMATOES       40706"
      ]
     },
     "execution_count": 47,
     "metadata": {},
     "output_type": "execute_result"
    }
   ],
   "source": [
    "top_products_names[['product_name','product_id']].head(20)"
   ]
  },
  {
   "cell_type": "markdown",
   "id": "7df00f47",
   "metadata": {
    "id": "7df00f47"
   },
   "source": [
    "Observamos que el producto más vendido son los plátanos. Podemos observar una tendencia en la compra de productos orgánicos, ya que la mayoría de los más vendidos son de este tipo."
   ]
  },
  {
   "cell_type": "markdown",
   "id": "romantic-deposit",
   "metadata": {
    "id": "romantic-deposit"
   },
   "source": [
    "### ¿Cuántos artículos compran normalmente las personas en un pedido? "
   ]
  },
  {
   "cell_type": "code",
   "execution_count": 48,
   "id": "virtual-punch",
   "metadata": {
    "id": "virtual-punch"
   },
   "outputs": [
    {
     "data": {
      "text/html": [
       "<div>\n",
       "<style scoped>\n",
       "    .dataframe tbody tr th:only-of-type {\n",
       "        vertical-align: middle;\n",
       "    }\n",
       "\n",
       "    .dataframe tbody tr th {\n",
       "        vertical-align: top;\n",
       "    }\n",
       "\n",
       "    .dataframe thead th {\n",
       "        text-align: right;\n",
       "    }\n",
       "</style>\n",
       "<table border=\"1\" class=\"dataframe\">\n",
       "  <thead>\n",
       "    <tr style=\"text-align: right;\">\n",
       "      <th></th>\n",
       "      <th>order_id</th>\n",
       "      <th>product_id</th>\n",
       "      <th>add_to_cart_order</th>\n",
       "      <th>reordered</th>\n",
       "    </tr>\n",
       "  </thead>\n",
       "  <tbody>\n",
       "    <tr>\n",
       "      <th>0</th>\n",
       "      <td>4</td>\n",
       "      <td>46842</td>\n",
       "      <td>13</td>\n",
       "      <td>1</td>\n",
       "    </tr>\n",
       "    <tr>\n",
       "      <th>1</th>\n",
       "      <td>9</td>\n",
       "      <td>47890</td>\n",
       "      <td>15</td>\n",
       "      <td>1</td>\n",
       "    </tr>\n",
       "    <tr>\n",
       "      <th>2</th>\n",
       "      <td>11</td>\n",
       "      <td>31506</td>\n",
       "      <td>5</td>\n",
       "      <td>1</td>\n",
       "    </tr>\n",
       "    <tr>\n",
       "      <th>3</th>\n",
       "      <td>19</td>\n",
       "      <td>42265</td>\n",
       "      <td>3</td>\n",
       "      <td>1</td>\n",
       "    </tr>\n",
       "    <tr>\n",
       "      <th>4</th>\n",
       "      <td>20</td>\n",
       "      <td>47485</td>\n",
       "      <td>8</td>\n",
       "      <td>0</td>\n",
       "    </tr>\n",
       "    <tr>\n",
       "      <th>5</th>\n",
       "      <td>31</td>\n",
       "      <td>49156</td>\n",
       "      <td>10</td>\n",
       "      <td>1</td>\n",
       "    </tr>\n",
       "    <tr>\n",
       "      <th>6</th>\n",
       "      <td>48</td>\n",
       "      <td>42169</td>\n",
       "      <td>8</td>\n",
       "      <td>1</td>\n",
       "    </tr>\n",
       "    <tr>\n",
       "      <th>7</th>\n",
       "      <td>56</td>\n",
       "      <td>47209</td>\n",
       "      <td>10</td>\n",
       "      <td>1</td>\n",
       "    </tr>\n",
       "    <tr>\n",
       "      <th>8</th>\n",
       "      <td>61</td>\n",
       "      <td>42265</td>\n",
       "      <td>12</td>\n",
       "      <td>1</td>\n",
       "    </tr>\n",
       "    <tr>\n",
       "      <th>9</th>\n",
       "      <td>68</td>\n",
       "      <td>43739</td>\n",
       "      <td>9</td>\n",
       "      <td>1</td>\n",
       "    </tr>\n",
       "  </tbody>\n",
       "</table>\n",
       "</div>"
      ],
      "text/plain": [
       "   order_id  product_id  add_to_cart_order  reordered\n",
       "0         4       46842                 13          1\n",
       "1         9       47890                 15          1\n",
       "2        11       31506                  5          1\n",
       "3        19       42265                  3          1\n",
       "4        20       47485                  8          0\n",
       "5        31       49156                 10          1\n",
       "6        48       42169                  8          1\n",
       "7        56       47209                 10          1\n",
       "8        61       42265                 12          1\n",
       "9        68       43739                  9          1"
      ]
     },
     "execution_count": 48,
     "metadata": {},
     "output_type": "execute_result"
    }
   ],
   "source": [
    "# Se agrupa por órdenes y se saca el máximo para obtener la cantidad más alta de artículos en un pedido\n",
    "articles_in_one_order= order_products.groupby(by='order_id').max().reset_index() \n",
    "articles_in_one_order.head(10)"
   ]
  },
  {
   "cell_type": "code",
   "execution_count": 49,
   "id": "sensitive-breathing",
   "metadata": {
    "id": "sensitive-breathing"
   },
   "outputs": [
    {
     "name": "stdout",
     "output_type": "stream",
     "text": [
      "0         13\n",
      "1         15\n",
      "2          5\n",
      "3          3\n",
      "4          8\n",
      "          ..\n",
      "450041    17\n",
      "450042     9\n",
      "450043     5\n",
      "450044     4\n",
      "450045     1\n",
      "Name: add_to_cart_order, Length: 449976, dtype: int32\n",
      "\n",
      "64\n",
      "\n",
      "1\n"
     ]
    }
   ],
   "source": [
    "# Se descartan los valores que cambiamos a 999, ya que podría dar información errónea en la gráfica\n",
    "articles_in_one_order=articles_in_one_order.query('add_to_cart_order < 999')['add_to_cart_order'] \n",
    "print(articles_in_one_order)\n",
    "print()\n",
    "\n",
    "#Se corrobora la corrección\n",
    "print(articles_in_one_order.max())\n",
    "print()\n",
    "print(articles_in_one_order.min())"
   ]
  },
  {
   "cell_type": "code",
   "execution_count": 50,
   "id": "completed-frank",
   "metadata": {
    "id": "completed-frank"
   },
   "outputs": [
    {
     "data": {
      "image/png": "[encoded data removed]",
      "text/plain": [
       "<Figure size 640x480 with 1 Axes>"
      ]
     },
     "metadata": {},
     "output_type": "display_data"
    }
   ],
   "source": [
    "articles_in_one_order.hist(\n",
    "    bins=20\n",
    ")\n",
    "plt.show()"
   ]
  },
  {
   "cell_type": "markdown",
   "id": "designed-mortality",
   "metadata": {
    "id": "designed-mortality"
   },
   "source": [
    "Podemos observar que la mayoría de las personas se encuentra pidiendo entre 1 y 15 artículos por pedido. De 16 en adelante la cantidad de personas en menos significativa a comparación de la primera parte."
   ]
  },
  {
   "cell_type": "markdown",
   "id": "5e6b5537",
   "metadata": {
    "id": "5e6b5537"
   },
   "source": [
    "### ¿Cuáles son los 20 principales artículos que vuelven a pedirse con mayor frecuencia "
   ]
  },
  {
   "cell_type": "code",
   "execution_count": 51,
   "id": "9374e55a",
   "metadata": {
    "id": "9374e55a"
   },
   "outputs": [
    {
     "data": {
      "text/html": [
       "<div>\n",
       "<style scoped>\n",
       "    .dataframe tbody tr th:only-of-type {\n",
       "        vertical-align: middle;\n",
       "    }\n",
       "\n",
       "    .dataframe tbody tr th {\n",
       "        vertical-align: top;\n",
       "    }\n",
       "\n",
       "    .dataframe thead th {\n",
       "        text-align: right;\n",
       "    }\n",
       "</style>\n",
       "<table border=\"1\" class=\"dataframe\">\n",
       "  <thead>\n",
       "    <tr style=\"text-align: right;\">\n",
       "      <th></th>\n",
       "      <th>order_id</th>\n",
       "      <th>add_to_cart_order</th>\n",
       "      <th>reordered</th>\n",
       "    </tr>\n",
       "    <tr>\n",
       "      <th>product_id</th>\n",
       "      <th></th>\n",
       "      <th></th>\n",
       "      <th></th>\n",
       "    </tr>\n",
       "  </thead>\n",
       "  <tbody>\n",
       "    <tr>\n",
       "      <th>1</th>\n",
       "      <td>158</td>\n",
       "      <td>158</td>\n",
       "      <td>158</td>\n",
       "    </tr>\n",
       "    <tr>\n",
       "      <th>3</th>\n",
       "      <td>31</td>\n",
       "      <td>31</td>\n",
       "      <td>31</td>\n",
       "    </tr>\n",
       "    <tr>\n",
       "      <th>4</th>\n",
       "      <td>25</td>\n",
       "      <td>25</td>\n",
       "      <td>25</td>\n",
       "    </tr>\n",
       "    <tr>\n",
       "      <th>7</th>\n",
       "      <td>1</td>\n",
       "      <td>1</td>\n",
       "      <td>1</td>\n",
       "    </tr>\n",
       "    <tr>\n",
       "      <th>8</th>\n",
       "      <td>6</td>\n",
       "      <td>6</td>\n",
       "      <td>6</td>\n",
       "    </tr>\n",
       "    <tr>\n",
       "      <th>...</th>\n",
       "      <td>...</td>\n",
       "      <td>...</td>\n",
       "      <td>...</td>\n",
       "    </tr>\n",
       "    <tr>\n",
       "      <th>49690</th>\n",
       "      <td>4</td>\n",
       "      <td>4</td>\n",
       "      <td>4</td>\n",
       "    </tr>\n",
       "    <tr>\n",
       "      <th>49691</th>\n",
       "      <td>31</td>\n",
       "      <td>31</td>\n",
       "      <td>31</td>\n",
       "    </tr>\n",
       "    <tr>\n",
       "      <th>49692</th>\n",
       "      <td>5</td>\n",
       "      <td>5</td>\n",
       "      <td>5</td>\n",
       "    </tr>\n",
       "    <tr>\n",
       "      <th>49693</th>\n",
       "      <td>11</td>\n",
       "      <td>11</td>\n",
       "      <td>11</td>\n",
       "    </tr>\n",
       "    <tr>\n",
       "      <th>49694</th>\n",
       "      <td>3</td>\n",
       "      <td>3</td>\n",
       "      <td>3</td>\n",
       "    </tr>\n",
       "  </tbody>\n",
       "</table>\n",
       "<p>36228 rows × 3 columns</p>\n",
       "</div>"
      ],
      "text/plain": [
       "            order_id  add_to_cart_order  reordered\n",
       "product_id                                        \n",
       "1                158                158        158\n",
       "3                 31                 31         31\n",
       "4                 25                 25         25\n",
       "7                  1                  1          1\n",
       "8                  6                  6          6\n",
       "...              ...                ...        ...\n",
       "49690              4                  4          4\n",
       "49691             31                 31         31\n",
       "49692              5                  5          5\n",
       "49693             11                 11         11\n",
       "49694              3                  3          3\n",
       "\n",
       "[36228 rows x 3 columns]"
      ]
     },
     "execution_count": 51,
     "metadata": {},
     "output_type": "execute_result"
    }
   ],
   "source": [
    "# Se sacan los artículos que se han pedido denuevo,se agrupan por producto y se cuentan  \n",
    "top_prd_reord= order_products[order_products['reordered'] == 1].groupby(by='product_id').count() \n",
    "top_prd_reord"
   ]
  },
  {
   "cell_type": "code",
   "execution_count": 52,
   "id": "possible-change",
   "metadata": {
    "id": "possible-change",
    "scrolled": true
   },
   "outputs": [
    {
     "data": {
      "text/html": [
       "<div>\n",
       "<style scoped>\n",
       "    .dataframe tbody tr th:only-of-type {\n",
       "        vertical-align: middle;\n",
       "    }\n",
       "\n",
       "    .dataframe tbody tr th {\n",
       "        vertical-align: top;\n",
       "    }\n",
       "\n",
       "    .dataframe thead th {\n",
       "        text-align: right;\n",
       "    }\n",
       "</style>\n",
       "<table border=\"1\" class=\"dataframe\">\n",
       "  <thead>\n",
       "    <tr style=\"text-align: right;\">\n",
       "      <th></th>\n",
       "      <th>product_id</th>\n",
       "      <th>order_id</th>\n",
       "      <th>add_to_cart_order</th>\n",
       "      <th>reordered</th>\n",
       "      <th>product_name</th>\n",
       "      <th>aisle_id</th>\n",
       "      <th>department_id</th>\n",
       "    </tr>\n",
       "  </thead>\n",
       "  <tbody>\n",
       "    <tr>\n",
       "      <th>0</th>\n",
       "      <td>1</td>\n",
       "      <td>158</td>\n",
       "      <td>158</td>\n",
       "      <td>158</td>\n",
       "      <td>CHOCOLATE SANDWICH COOKIES</td>\n",
       "      <td>61</td>\n",
       "      <td>19</td>\n",
       "    </tr>\n",
       "    <tr>\n",
       "      <th>1</th>\n",
       "      <td>3</td>\n",
       "      <td>31</td>\n",
       "      <td>31</td>\n",
       "      <td>31</td>\n",
       "      <td>ROBUST GOLDEN UNSWEETENED OOLONG TEA</td>\n",
       "      <td>94</td>\n",
       "      <td>7</td>\n",
       "    </tr>\n",
       "    <tr>\n",
       "      <th>2</th>\n",
       "      <td>4</td>\n",
       "      <td>25</td>\n",
       "      <td>25</td>\n",
       "      <td>25</td>\n",
       "      <td>SMART ONES CLASSIC FAVORITES MINI RIGATONI WIT...</td>\n",
       "      <td>38</td>\n",
       "      <td>1</td>\n",
       "    </tr>\n",
       "    <tr>\n",
       "      <th>3</th>\n",
       "      <td>7</td>\n",
       "      <td>1</td>\n",
       "      <td>1</td>\n",
       "      <td>1</td>\n",
       "      <td>PURE COCONUT WATER WITH ORANGE</td>\n",
       "      <td>98</td>\n",
       "      <td>7</td>\n",
       "    </tr>\n",
       "    <tr>\n",
       "      <th>4</th>\n",
       "      <td>8</td>\n",
       "      <td>6</td>\n",
       "      <td>6</td>\n",
       "      <td>6</td>\n",
       "      <td>CUT RUSSET POTATOES STEAM N' MASH</td>\n",
       "      <td>116</td>\n",
       "      <td>1</td>\n",
       "    </tr>\n",
       "    <tr>\n",
       "      <th>...</th>\n",
       "      <td>...</td>\n",
       "      <td>...</td>\n",
       "      <td>...</td>\n",
       "      <td>...</td>\n",
       "      <td>...</td>\n",
       "      <td>...</td>\n",
       "      <td>...</td>\n",
       "    </tr>\n",
       "    <tr>\n",
       "      <th>36223</th>\n",
       "      <td>49690</td>\n",
       "      <td>4</td>\n",
       "      <td>4</td>\n",
       "      <td>4</td>\n",
       "      <td>HIGH PERFORMANCE ENERGY DRINK</td>\n",
       "      <td>64</td>\n",
       "      <td>7</td>\n",
       "    </tr>\n",
       "    <tr>\n",
       "      <th>36224</th>\n",
       "      <td>49691</td>\n",
       "      <td>31</td>\n",
       "      <td>31</td>\n",
       "      <td>31</td>\n",
       "      <td>ORIGINAL PANCAKE &amp; WAFFLE MIX</td>\n",
       "      <td>130</td>\n",
       "      <td>14</td>\n",
       "    </tr>\n",
       "    <tr>\n",
       "      <th>36225</th>\n",
       "      <td>49692</td>\n",
       "      <td>5</td>\n",
       "      <td>5</td>\n",
       "      <td>5</td>\n",
       "      <td>ORGANIC INSTANT OATMEAL LIGHT MAPLE BROWN SUGAR</td>\n",
       "      <td>130</td>\n",
       "      <td>14</td>\n",
       "    </tr>\n",
       "    <tr>\n",
       "      <th>36226</th>\n",
       "      <td>49693</td>\n",
       "      <td>11</td>\n",
       "      <td>11</td>\n",
       "      <td>11</td>\n",
       "      <td>SPRING WATER BODY WASH</td>\n",
       "      <td>127</td>\n",
       "      <td>11</td>\n",
       "    </tr>\n",
       "    <tr>\n",
       "      <th>36227</th>\n",
       "      <td>49694</td>\n",
       "      <td>3</td>\n",
       "      <td>3</td>\n",
       "      <td>3</td>\n",
       "      <td>BURRITO- STEAK &amp; CHEESE</td>\n",
       "      <td>38</td>\n",
       "      <td>1</td>\n",
       "    </tr>\n",
       "  </tbody>\n",
       "</table>\n",
       "<p>36228 rows × 7 columns</p>\n",
       "</div>"
      ],
      "text/plain": [
       "       product_id  order_id  add_to_cart_order  reordered  \\\n",
       "0               1       158                158        158   \n",
       "1               3        31                 31         31   \n",
       "2               4        25                 25         25   \n",
       "3               7         1                  1          1   \n",
       "4               8         6                  6          6   \n",
       "...           ...       ...                ...        ...   \n",
       "36223       49690         4                  4          4   \n",
       "36224       49691        31                 31         31   \n",
       "36225       49692         5                  5          5   \n",
       "36226       49693        11                 11         11   \n",
       "36227       49694         3                  3          3   \n",
       "\n",
       "                                            product_name  aisle_id  \\\n",
       "0                             CHOCOLATE SANDWICH COOKIES        61   \n",
       "1                   ROBUST GOLDEN UNSWEETENED OOLONG TEA        94   \n",
       "2      SMART ONES CLASSIC FAVORITES MINI RIGATONI WIT...        38   \n",
       "3                         PURE COCONUT WATER WITH ORANGE        98   \n",
       "4                      CUT RUSSET POTATOES STEAM N' MASH       116   \n",
       "...                                                  ...       ...   \n",
       "36223                      HIGH PERFORMANCE ENERGY DRINK        64   \n",
       "36224                      ORIGINAL PANCAKE & WAFFLE MIX       130   \n",
       "36225    ORGANIC INSTANT OATMEAL LIGHT MAPLE BROWN SUGAR       130   \n",
       "36226                             SPRING WATER BODY WASH       127   \n",
       "36227                            BURRITO- STEAK & CHEESE        38   \n",
       "\n",
       "       department_id  \n",
       "0                 19  \n",
       "1                  7  \n",
       "2                  1  \n",
       "3                  7  \n",
       "4                  1  \n",
       "...              ...  \n",
       "36223              7  \n",
       "36224             14  \n",
       "36225             14  \n",
       "36226             11  \n",
       "36227              1  \n",
       "\n",
       "[36228 rows x 7 columns]"
      ]
     },
     "execution_count": 52,
     "metadata": {},
     "output_type": "execute_result"
    }
   ],
   "source": [
    "# Se unen los df para obtener los nombres de los productos\n",
    "top_prd_reord= top_prd_reord.merge(products, on='product_id', how='left') \n",
    "top_prd_reord"
   ]
  },
  {
   "cell_type": "code",
   "execution_count": 53,
   "id": "professional-surfing",
   "metadata": {
    "id": "professional-surfing",
    "scrolled": true
   },
   "outputs": [
    {
     "data": {
      "text/html": [
       "<div>\n",
       "<style scoped>\n",
       "    .dataframe tbody tr th:only-of-type {\n",
       "        vertical-align: middle;\n",
       "    }\n",
       "\n",
       "    .dataframe tbody tr th {\n",
       "        vertical-align: top;\n",
       "    }\n",
       "\n",
       "    .dataframe thead th {\n",
       "        text-align: right;\n",
       "    }\n",
       "</style>\n",
       "<table border=\"1\" class=\"dataframe\">\n",
       "  <thead>\n",
       "    <tr style=\"text-align: right;\">\n",
       "      <th></th>\n",
       "      <th>product_id</th>\n",
       "      <th>order_id</th>\n",
       "      <th>add_to_cart_order</th>\n",
       "      <th>reordered</th>\n",
       "      <th>product_name</th>\n",
       "      <th>aisle_id</th>\n",
       "      <th>department_id</th>\n",
       "    </tr>\n",
       "  </thead>\n",
       "  <tbody>\n",
       "    <tr>\n",
       "      <th>18104</th>\n",
       "      <td>24852</td>\n",
       "      <td>55763</td>\n",
       "      <td>55763</td>\n",
       "      <td>55763</td>\n",
       "      <td>BANANA</td>\n",
       "      <td>24</td>\n",
       "      <td>4</td>\n",
       "    </tr>\n",
       "    <tr>\n",
       "      <th>9528</th>\n",
       "      <td>13176</td>\n",
       "      <td>44450</td>\n",
       "      <td>44450</td>\n",
       "      <td>44450</td>\n",
       "      <td>BAG OF ORGANIC BANANAS</td>\n",
       "      <td>24</td>\n",
       "      <td>4</td>\n",
       "    </tr>\n",
       "    <tr>\n",
       "      <th>15368</th>\n",
       "      <td>21137</td>\n",
       "      <td>28639</td>\n",
       "      <td>28639</td>\n",
       "      <td>28639</td>\n",
       "      <td>ORGANIC STRAWBERRIES</td>\n",
       "      <td>24</td>\n",
       "      <td>4</td>\n",
       "    </tr>\n",
       "    <tr>\n",
       "      <th>15936</th>\n",
       "      <td>21903</td>\n",
       "      <td>26233</td>\n",
       "      <td>26233</td>\n",
       "      <td>26233</td>\n",
       "      <td>ORGANIC BABY SPINACH</td>\n",
       "      <td>123</td>\n",
       "      <td>4</td>\n",
       "    </tr>\n",
       "    <tr>\n",
       "      <th>34407</th>\n",
       "      <td>47209</td>\n",
       "      <td>23629</td>\n",
       "      <td>23629</td>\n",
       "      <td>23629</td>\n",
       "      <td>ORGANIC HASS AVOCADO</td>\n",
       "      <td>24</td>\n",
       "      <td>4</td>\n",
       "    </tr>\n",
       "    <tr>\n",
       "      <th>...</th>\n",
       "      <td>...</td>\n",
       "      <td>...</td>\n",
       "      <td>...</td>\n",
       "      <td>...</td>\n",
       "      <td>...</td>\n",
       "      <td>...</td>\n",
       "      <td>...</td>\n",
       "    </tr>\n",
       "    <tr>\n",
       "      <th>5120</th>\n",
       "      <td>7092</td>\n",
       "      <td>1</td>\n",
       "      <td>1</td>\n",
       "      <td>1</td>\n",
       "      <td>MELATONIN NUTRASPRAY SUBLINGUAL ORANGE FLAVOR</td>\n",
       "      <td>6</td>\n",
       "      <td>2</td>\n",
       "    </tr>\n",
       "    <tr>\n",
       "      <th>15278</th>\n",
       "      <td>21003</td>\n",
       "      <td>1</td>\n",
       "      <td>1</td>\n",
       "      <td>1</td>\n",
       "      <td>WHITE CHOCOLATE MACADAMIA COFFEE CREAMER</td>\n",
       "      <td>53</td>\n",
       "      <td>16</td>\n",
       "    </tr>\n",
       "    <tr>\n",
       "      <th>23932</th>\n",
       "      <td>32856</td>\n",
       "      <td>1</td>\n",
       "      <td>1</td>\n",
       "      <td>1</td>\n",
       "      <td>CRAB RANGOON</td>\n",
       "      <td>129</td>\n",
       "      <td>1</td>\n",
       "    </tr>\n",
       "    <tr>\n",
       "      <th>31131</th>\n",
       "      <td>42727</td>\n",
       "      <td>1</td>\n",
       "      <td>1</td>\n",
       "      <td>1</td>\n",
       "      <td>CHOCOLATE LOVERS CHIPS DELUXE COOKIES</td>\n",
       "      <td>61</td>\n",
       "      <td>19</td>\n",
       "    </tr>\n",
       "    <tr>\n",
       "      <th>17558</th>\n",
       "      <td>24091</td>\n",
       "      <td>1</td>\n",
       "      <td>1</td>\n",
       "      <td>1</td>\n",
       "      <td>GARLIC MILL SPICES</td>\n",
       "      <td>104</td>\n",
       "      <td>13</td>\n",
       "    </tr>\n",
       "  </tbody>\n",
       "</table>\n",
       "<p>36228 rows × 7 columns</p>\n",
       "</div>"
      ],
      "text/plain": [
       "       product_id  order_id  add_to_cart_order  reordered  \\\n",
       "18104       24852     55763              55763      55763   \n",
       "9528        13176     44450              44450      44450   \n",
       "15368       21137     28639              28639      28639   \n",
       "15936       21903     26233              26233      26233   \n",
       "34407       47209     23629              23629      23629   \n",
       "...           ...       ...                ...        ...   \n",
       "5120         7092         1                  1          1   \n",
       "15278       21003         1                  1          1   \n",
       "23932       32856         1                  1          1   \n",
       "31131       42727         1                  1          1   \n",
       "17558       24091         1                  1          1   \n",
       "\n",
       "                                        product_name  aisle_id  department_id  \n",
       "18104                                         BANANA        24              4  \n",
       "9528                          BAG OF ORGANIC BANANAS        24              4  \n",
       "15368                           ORGANIC STRAWBERRIES        24              4  \n",
       "15936                           ORGANIC BABY SPINACH       123              4  \n",
       "34407                           ORGANIC HASS AVOCADO        24              4  \n",
       "...                                              ...       ...            ...  \n",
       "5120   MELATONIN NUTRASPRAY SUBLINGUAL ORANGE FLAVOR         6              2  \n",
       "15278       WHITE CHOCOLATE MACADAMIA COFFEE CREAMER        53             16  \n",
       "23932                                   CRAB RANGOON       129              1  \n",
       "31131          CHOCOLATE LOVERS CHIPS DELUXE COOKIES        61             19  \n",
       "17558                             GARLIC MILL SPICES       104             13  \n",
       "\n",
       "[36228 rows x 7 columns]"
      ]
     },
     "execution_count": 53,
     "metadata": {},
     "output_type": "execute_result"
    }
   ],
   "source": [
    "# Se ordenan los valores\n",
    "top_prd_reord=top_prd_reord.sort_values(by='order_id',ascending=False) \n",
    "top_prd_reord"
   ]
  },
  {
   "cell_type": "code",
   "execution_count": 54,
   "id": "48dd3658",
   "metadata": {
    "id": "48dd3658"
   },
   "outputs": [
    {
     "data": {
      "text/html": [
       "<div>\n",
       "<style scoped>\n",
       "    .dataframe tbody tr th:only-of-type {\n",
       "        vertical-align: middle;\n",
       "    }\n",
       "\n",
       "    .dataframe tbody tr th {\n",
       "        vertical-align: top;\n",
       "    }\n",
       "\n",
       "    .dataframe thead th {\n",
       "        text-align: right;\n",
       "    }\n",
       "</style>\n",
       "<table border=\"1\" class=\"dataframe\">\n",
       "  <thead>\n",
       "    <tr style=\"text-align: right;\">\n",
       "      <th></th>\n",
       "      <th>product_id</th>\n",
       "      <th>product_name</th>\n",
       "    </tr>\n",
       "  </thead>\n",
       "  <tbody>\n",
       "    <tr>\n",
       "      <th>0</th>\n",
       "      <td>24852</td>\n",
       "      <td>BANANA</td>\n",
       "    </tr>\n",
       "    <tr>\n",
       "      <th>1</th>\n",
       "      <td>13176</td>\n",
       "      <td>BAG OF ORGANIC BANANAS</td>\n",
       "    </tr>\n",
       "    <tr>\n",
       "      <th>2</th>\n",
       "      <td>21137</td>\n",
       "      <td>ORGANIC STRAWBERRIES</td>\n",
       "    </tr>\n",
       "    <tr>\n",
       "      <th>3</th>\n",
       "      <td>21903</td>\n",
       "      <td>ORGANIC BABY SPINACH</td>\n",
       "    </tr>\n",
       "    <tr>\n",
       "      <th>4</th>\n",
       "      <td>47209</td>\n",
       "      <td>ORGANIC HASS AVOCADO</td>\n",
       "    </tr>\n",
       "    <tr>\n",
       "      <th>5</th>\n",
       "      <td>47766</td>\n",
       "      <td>ORGANIC AVOCADO</td>\n",
       "    </tr>\n",
       "    <tr>\n",
       "      <th>6</th>\n",
       "      <td>27845</td>\n",
       "      <td>ORGANIC WHOLE MILK</td>\n",
       "    </tr>\n",
       "    <tr>\n",
       "      <th>7</th>\n",
       "      <td>47626</td>\n",
       "      <td>LARGE LEMON</td>\n",
       "    </tr>\n",
       "    <tr>\n",
       "      <th>8</th>\n",
       "      <td>27966</td>\n",
       "      <td>ORGANIC RASPBERRIES</td>\n",
       "    </tr>\n",
       "    <tr>\n",
       "      <th>9</th>\n",
       "      <td>16797</td>\n",
       "      <td>STRAWBERRIES</td>\n",
       "    </tr>\n",
       "    <tr>\n",
       "      <th>10</th>\n",
       "      <td>26209</td>\n",
       "      <td>LIMES</td>\n",
       "    </tr>\n",
       "    <tr>\n",
       "      <th>11</th>\n",
       "      <td>22935</td>\n",
       "      <td>ORGANIC YELLOW ONION</td>\n",
       "    </tr>\n",
       "    <tr>\n",
       "      <th>12</th>\n",
       "      <td>24964</td>\n",
       "      <td>ORGANIC GARLIC</td>\n",
       "    </tr>\n",
       "    <tr>\n",
       "      <th>13</th>\n",
       "      <td>45007</td>\n",
       "      <td>ORGANIC ZUCCHINI</td>\n",
       "    </tr>\n",
       "    <tr>\n",
       "      <th>14</th>\n",
       "      <td>49683</td>\n",
       "      <td>CUCUMBER KIRBY</td>\n",
       "    </tr>\n",
       "    <tr>\n",
       "      <th>15</th>\n",
       "      <td>28204</td>\n",
       "      <td>ORGANIC FUJI APPLE</td>\n",
       "    </tr>\n",
       "    <tr>\n",
       "      <th>16</th>\n",
       "      <td>8277</td>\n",
       "      <td>APPLE HONEYCRISP ORGANIC</td>\n",
       "    </tr>\n",
       "    <tr>\n",
       "      <th>17</th>\n",
       "      <td>39275</td>\n",
       "      <td>ORGANIC BLUEBERRIES</td>\n",
       "    </tr>\n",
       "    <tr>\n",
       "      <th>18</th>\n",
       "      <td>5876</td>\n",
       "      <td>ORGANIC LEMON</td>\n",
       "    </tr>\n",
       "    <tr>\n",
       "      <th>19</th>\n",
       "      <td>49235</td>\n",
       "      <td>ORGANIC HALF &amp; HALF</td>\n",
       "    </tr>\n",
       "  </tbody>\n",
       "</table>\n",
       "</div>"
      ],
      "text/plain": [
       "    product_id              product_name\n",
       "0        24852                    BANANA\n",
       "1        13176    BAG OF ORGANIC BANANAS\n",
       "2        21137      ORGANIC STRAWBERRIES\n",
       "3        21903      ORGANIC BABY SPINACH\n",
       "4        47209      ORGANIC HASS AVOCADO\n",
       "5        47766           ORGANIC AVOCADO\n",
       "6        27845        ORGANIC WHOLE MILK\n",
       "7        47626               LARGE LEMON\n",
       "8        27966       ORGANIC RASPBERRIES\n",
       "9        16797              STRAWBERRIES\n",
       "10       26209                     LIMES\n",
       "11       22935      ORGANIC YELLOW ONION\n",
       "12       24964            ORGANIC GARLIC\n",
       "13       45007          ORGANIC ZUCCHINI\n",
       "14       49683            CUCUMBER KIRBY\n",
       "15       28204        ORGANIC FUJI APPLE\n",
       "16        8277  APPLE HONEYCRISP ORGANIC\n",
       "17       39275       ORGANIC BLUEBERRIES\n",
       "18        5876             ORGANIC LEMON\n",
       "19       49235       ORGANIC HALF & HALF"
      ]
     },
     "execution_count": 54,
     "metadata": {},
     "output_type": "execute_result"
    }
   ],
   "source": [
    "top_prd_reord[['product_id','product_name']].reset_index(drop='bool').head(20)"
   ]
  },
  {
   "cell_type": "markdown",
   "id": "80e70c74",
   "metadata": {
    "id": "80e70c74"
   },
   "source": [
    "Podemos observar que los productos son similares a la lista de los productos más populares, con algunas pequeñas diferencias en las posiciones, sin embargo, vemos los mismos productos."
   ]
  },
  {
   "cell_type": "markdown",
   "id": "9d312b14",
   "metadata": {
    "id": "9d312b14"
   },
   "source": [
    "### Para cada producto, ¿cuál es la proporción de las veces que se pide y que se vuelve a pedir?"
   ]
  },
  {
   "cell_type": "code",
   "execution_count": 55,
   "id": "8ae9f4b1",
   "metadata": {
    "id": "8ae9f4b1"
   },
   "outputs": [
    {
     "data": {
      "text/html": [
       "<div>\n",
       "<style scoped>\n",
       "    .dataframe tbody tr th:only-of-type {\n",
       "        vertical-align: middle;\n",
       "    }\n",
       "\n",
       "    .dataframe tbody tr th {\n",
       "        vertical-align: top;\n",
       "    }\n",
       "\n",
       "    .dataframe thead th {\n",
       "        text-align: right;\n",
       "    }\n",
       "</style>\n",
       "<table border=\"1\" class=\"dataframe\">\n",
       "  <thead>\n",
       "    <tr style=\"text-align: right;\">\n",
       "      <th></th>\n",
       "      <th>product_id</th>\n",
       "      <th>ordered</th>\n",
       "    </tr>\n",
       "  </thead>\n",
       "  <tbody>\n",
       "    <tr>\n",
       "      <th>0</th>\n",
       "      <td>24852</td>\n",
       "      <td>10287</td>\n",
       "    </tr>\n",
       "    <tr>\n",
       "      <th>1</th>\n",
       "      <td>13176</td>\n",
       "      <td>8847</td>\n",
       "    </tr>\n",
       "    <tr>\n",
       "      <th>2</th>\n",
       "      <td>21137</td>\n",
       "      <td>8400</td>\n",
       "    </tr>\n",
       "    <tr>\n",
       "      <th>3</th>\n",
       "      <td>21903</td>\n",
       "      <td>7738</td>\n",
       "    </tr>\n",
       "    <tr>\n",
       "      <th>4</th>\n",
       "      <td>47626</td>\n",
       "      <td>6451</td>\n",
       "    </tr>\n",
       "    <tr>\n",
       "      <th>...</th>\n",
       "      <td>...</td>\n",
       "      <td>...</td>\n",
       "    </tr>\n",
       "    <tr>\n",
       "      <th>43759</th>\n",
       "      <td>28478</td>\n",
       "      <td>1</td>\n",
       "    </tr>\n",
       "    <tr>\n",
       "      <th>43760</th>\n",
       "      <td>23771</td>\n",
       "      <td>1</td>\n",
       "    </tr>\n",
       "    <tr>\n",
       "      <th>43761</th>\n",
       "      <td>13638</td>\n",
       "      <td>1</td>\n",
       "    </tr>\n",
       "    <tr>\n",
       "      <th>43762</th>\n",
       "      <td>21402</td>\n",
       "      <td>1</td>\n",
       "    </tr>\n",
       "    <tr>\n",
       "      <th>43763</th>\n",
       "      <td>10954</td>\n",
       "      <td>1</td>\n",
       "    </tr>\n",
       "  </tbody>\n",
       "</table>\n",
       "<p>43764 rows × 2 columns</p>\n",
       "</div>"
      ],
      "text/plain": [
       "       product_id  ordered\n",
       "0           24852    10287\n",
       "1           13176     8847\n",
       "2           21137     8400\n",
       "3           21903     7738\n",
       "4           47626     6451\n",
       "...           ...      ...\n",
       "43759       28478        1\n",
       "43760       23771        1\n",
       "43761       13638        1\n",
       "43762       21402        1\n",
       "43763       10954        1\n",
       "\n",
       "[43764 rows x 2 columns]"
      ]
     },
     "execution_count": 55,
     "metadata": {},
     "output_type": "execute_result"
    }
   ],
   "source": [
    "# Se sacan los productos que se hayan pedido por primera vez\n",
    "prod_ordrd= order_products[order_products['reordered'] == 0].groupby(by='product_id').count().sort_values(by='order_id',ascending= False).reset_index()\n",
    "prod_ordrd= prod_ordrd[['product_id','reordered']]\n",
    "prod_ordrd.columns=['product_id','ordered']\n",
    "prod_ordrd"
   ]
  },
  {
   "cell_type": "code",
   "execution_count": 56,
   "id": "103e7fe1",
   "metadata": {
    "id": "103e7fe1"
   },
   "outputs": [
    {
     "data": {
      "text/html": [
       "<div>\n",
       "<style scoped>\n",
       "    .dataframe tbody tr th:only-of-type {\n",
       "        vertical-align: middle;\n",
       "    }\n",
       "\n",
       "    .dataframe tbody tr th {\n",
       "        vertical-align: top;\n",
       "    }\n",
       "\n",
       "    .dataframe thead th {\n",
       "        text-align: right;\n",
       "    }\n",
       "</style>\n",
       "<table border=\"1\" class=\"dataframe\">\n",
       "  <thead>\n",
       "    <tr style=\"text-align: right;\">\n",
       "      <th></th>\n",
       "      <th>product_id</th>\n",
       "      <th>reordered</th>\n",
       "    </tr>\n",
       "  </thead>\n",
       "  <tbody>\n",
       "    <tr>\n",
       "      <th>0</th>\n",
       "      <td>24852</td>\n",
       "      <td>55763</td>\n",
       "    </tr>\n",
       "    <tr>\n",
       "      <th>1</th>\n",
       "      <td>13176</td>\n",
       "      <td>44450</td>\n",
       "    </tr>\n",
       "    <tr>\n",
       "      <th>2</th>\n",
       "      <td>21137</td>\n",
       "      <td>28639</td>\n",
       "    </tr>\n",
       "    <tr>\n",
       "      <th>3</th>\n",
       "      <td>21903</td>\n",
       "      <td>26233</td>\n",
       "    </tr>\n",
       "    <tr>\n",
       "      <th>4</th>\n",
       "      <td>47209</td>\n",
       "      <td>23629</td>\n",
       "    </tr>\n",
       "    <tr>\n",
       "      <th>...</th>\n",
       "      <td>...</td>\n",
       "      <td>...</td>\n",
       "    </tr>\n",
       "    <tr>\n",
       "      <th>36223</th>\n",
       "      <td>7092</td>\n",
       "      <td>1</td>\n",
       "    </tr>\n",
       "    <tr>\n",
       "      <th>36224</th>\n",
       "      <td>21003</td>\n",
       "      <td>1</td>\n",
       "    </tr>\n",
       "    <tr>\n",
       "      <th>36225</th>\n",
       "      <td>32856</td>\n",
       "      <td>1</td>\n",
       "    </tr>\n",
       "    <tr>\n",
       "      <th>36226</th>\n",
       "      <td>42727</td>\n",
       "      <td>1</td>\n",
       "    </tr>\n",
       "    <tr>\n",
       "      <th>36227</th>\n",
       "      <td>24091</td>\n",
       "      <td>1</td>\n",
       "    </tr>\n",
       "  </tbody>\n",
       "</table>\n",
       "<p>36228 rows × 2 columns</p>\n",
       "</div>"
      ],
      "text/plain": [
       "       product_id  reordered\n",
       "0           24852      55763\n",
       "1           13176      44450\n",
       "2           21137      28639\n",
       "3           21903      26233\n",
       "4           47209      23629\n",
       "...           ...        ...\n",
       "36223        7092          1\n",
       "36224       21003          1\n",
       "36225       32856          1\n",
       "36226       42727          1\n",
       "36227       24091          1\n",
       "\n",
       "[36228 rows x 2 columns]"
      ]
     },
     "execution_count": 56,
     "metadata": {},
     "output_type": "execute_result"
    }
   ],
   "source": [
    "# Se sacan los productos que se hayan pedido más de una vez\n",
    "prod_reordrd= order_products[order_products['reordered'] == 1].groupby(by='product_id').count().sort_values(by='order_id',ascending= False).reset_index()\n",
    "prod_reordrd= prod_reordrd[['product_id','reordered']] \n",
    "prod_reordrd"
   ]
  },
  {
   "cell_type": "code",
   "execution_count": 57,
   "id": "dcab2d0d",
   "metadata": {
    "id": "social-individual"
   },
   "outputs": [
    {
     "data": {
      "text/html": [
       "<div>\n",
       "<style scoped>\n",
       "    .dataframe tbody tr th:only-of-type {\n",
       "        vertical-align: middle;\n",
       "    }\n",
       "\n",
       "    .dataframe tbody tr th {\n",
       "        vertical-align: top;\n",
       "    }\n",
       "\n",
       "    .dataframe thead th {\n",
       "        text-align: right;\n",
       "    }\n",
       "</style>\n",
       "<table border=\"1\" class=\"dataframe\">\n",
       "  <thead>\n",
       "    <tr style=\"text-align: right;\">\n",
       "      <th></th>\n",
       "      <th>product_id</th>\n",
       "      <th>product_name</th>\n",
       "      <th>proportion</th>\n",
       "    </tr>\n",
       "  </thead>\n",
       "  <tbody>\n",
       "    <tr>\n",
       "      <th>0</th>\n",
       "      <td>24852</td>\n",
       "      <td>BANANA</td>\n",
       "      <td>5.420725</td>\n",
       "    </tr>\n",
       "    <tr>\n",
       "      <th>1</th>\n",
       "      <td>13176</td>\n",
       "      <td>BAG OF ORGANIC BANANAS</td>\n",
       "      <td>5.024302</td>\n",
       "    </tr>\n",
       "    <tr>\n",
       "      <th>2</th>\n",
       "      <td>21137</td>\n",
       "      <td>ORGANIC STRAWBERRIES</td>\n",
       "      <td>3.409405</td>\n",
       "    </tr>\n",
       "    <tr>\n",
       "      <th>3</th>\n",
       "      <td>21903</td>\n",
       "      <td>ORGANIC BABY SPINACH</td>\n",
       "      <td>3.390152</td>\n",
       "    </tr>\n",
       "    <tr>\n",
       "      <th>4</th>\n",
       "      <td>47626</td>\n",
       "      <td>LARGE LEMON</td>\n",
       "      <td>2.332042</td>\n",
       "    </tr>\n",
       "    <tr>\n",
       "      <th>5</th>\n",
       "      <td>26209</td>\n",
       "      <td>LIMES</td>\n",
       "      <td>2.094452</td>\n",
       "    </tr>\n",
       "    <tr>\n",
       "      <th>6</th>\n",
       "      <td>47209</td>\n",
       "      <td>ORGANIC HASS AVOCADO</td>\n",
       "      <td>3.845866</td>\n",
       "    </tr>\n",
       "    <tr>\n",
       "      <th>7</th>\n",
       "      <td>16797</td>\n",
       "      <td>STRAWBERRIES</td>\n",
       "      <td>2.296229</td>\n",
       "    </tr>\n",
       "    <tr>\n",
       "      <th>8</th>\n",
       "      <td>47766</td>\n",
       "      <td>ORGANIC AVOCADO</td>\n",
       "      <td>3.152203</td>\n",
       "    </tr>\n",
       "    <tr>\n",
       "      <th>9</th>\n",
       "      <td>39275</td>\n",
       "      <td>ORGANIC BLUEBERRIES</td>\n",
       "      <td>1.732087</td>\n",
       "    </tr>\n",
       "    <tr>\n",
       "      <th>10</th>\n",
       "      <td>24964</td>\n",
       "      <td>ORGANIC GARLIC</td>\n",
       "      <td>2.132965</td>\n",
       "    </tr>\n",
       "    <tr>\n",
       "      <th>11</th>\n",
       "      <td>22935</td>\n",
       "      <td>ORGANIC YELLOW ONION</td>\n",
       "      <td>2.344835</td>\n",
       "    </tr>\n",
       "    <tr>\n",
       "      <th>12</th>\n",
       "      <td>45007</td>\n",
       "      <td>ORGANIC ZUCCHINI</td>\n",
       "      <td>2.235138</td>\n",
       "    </tr>\n",
       "    <tr>\n",
       "      <th>13</th>\n",
       "      <td>27966</td>\n",
       "      <td>ORGANIC RASPBERRIES</td>\n",
       "      <td>3.314902</td>\n",
       "    </tr>\n",
       "    <tr>\n",
       "      <th>14</th>\n",
       "      <td>4605</td>\n",
       "      <td>YELLOW ONIONS</td>\n",
       "      <td>1.480916</td>\n",
       "    </tr>\n",
       "    <tr>\n",
       "      <th>15</th>\n",
       "      <td>49683</td>\n",
       "      <td>CUCUMBER KIRBY</td>\n",
       "      <td>2.305535</td>\n",
       "    </tr>\n",
       "    <tr>\n",
       "      <th>16</th>\n",
       "      <td>40706</td>\n",
       "      <td>ORGANIC GRAPE TOMATOES</td>\n",
       "      <td>1.954112</td>\n",
       "    </tr>\n",
       "    <tr>\n",
       "      <th>17</th>\n",
       "      <td>4920</td>\n",
       "      <td>SEEDLESS RED GRAPES</td>\n",
       "      <td>2.010243</td>\n",
       "    </tr>\n",
       "    <tr>\n",
       "      <th>18</th>\n",
       "      <td>5876</td>\n",
       "      <td>ORGANIC LEMON</td>\n",
       "      <td>2.202094</td>\n",
       "    </tr>\n",
       "    <tr>\n",
       "      <th>19</th>\n",
       "      <td>17794</td>\n",
       "      <td>CARROTS</td>\n",
       "      <td>1.737309</td>\n",
       "    </tr>\n",
       "  </tbody>\n",
       "</table>\n",
       "</div>"
      ],
      "text/plain": [
       "    product_id            product_name  proportion\n",
       "0        24852                  BANANA    5.420725\n",
       "1        13176  BAG OF ORGANIC BANANAS    5.024302\n",
       "2        21137    ORGANIC STRAWBERRIES    3.409405\n",
       "3        21903    ORGANIC BABY SPINACH    3.390152\n",
       "4        47626             LARGE LEMON    2.332042\n",
       "5        26209                   LIMES    2.094452\n",
       "6        47209    ORGANIC HASS AVOCADO    3.845866\n",
       "7        16797            STRAWBERRIES    2.296229\n",
       "8        47766         ORGANIC AVOCADO    3.152203\n",
       "9        39275     ORGANIC BLUEBERRIES    1.732087\n",
       "10       24964          ORGANIC GARLIC    2.132965\n",
       "11       22935    ORGANIC YELLOW ONION    2.344835\n",
       "12       45007        ORGANIC ZUCCHINI    2.235138\n",
       "13       27966     ORGANIC RASPBERRIES    3.314902\n",
       "14        4605           YELLOW ONIONS    1.480916\n",
       "15       49683          CUCUMBER KIRBY    2.305535\n",
       "16       40706  ORGANIC GRAPE TOMATOES    1.954112\n",
       "17        4920     SEEDLESS RED GRAPES    2.010243\n",
       "18        5876           ORGANIC LEMON    2.202094\n",
       "19       17794                 CARROTS    1.737309"
      ]
     },
     "execution_count": 57,
     "metadata": {},
     "output_type": "execute_result"
    }
   ],
   "source": [
    "# Se unen los dos df \n",
    "reorder_proportion= prod_ordrd.merge(prod_reordrd,on='product_id') \n",
    "\n",
    "# Se hace la operación para la relación\n",
    "reorder_proportion['proportion']=reorder_proportion['reordered']/reorder_proportion['ordered'] \n",
    "\n",
    "# Se junta con el df products para obtener el nombre del producto\n",
    "reorder_proportion= reorder_proportion.merge(products, on='product_id') \n",
    "reorder_proportion[['product_id','product_name','proportion']].head(20)"
   ]
  },
  {
   "cell_type": "markdown",
   "id": "I10dEIAyldcO",
   "metadata": {
    "id": "I10dEIAyldcO"
   },
   "source": [
    "Los primeros dos productos tienen una proporción alta de recompra siendo los plátanos, después el resto del top 20 de artículos más vendidos está entre 2 a 3 veces su proporción de compra/recompra.\n"
   ]
  },
  {
   "cell_type": "markdown",
   "id": "subject-boxing",
   "metadata": {
    "id": "subject-boxing"
   },
   "source": [
    "### Para cada cliente, ¿qué proporción de sus productos ya los había pedido?"
   ]
  },
  {
   "cell_type": "code",
   "execution_count": 58,
   "id": "medical-couple",
   "metadata": {
    "id": "medical-couple",
    "scrolled": true
   },
   "outputs": [
    {
     "name": "stdout",
     "output_type": "stream",
     "text": [
      "        user_id  reordered\n",
      "0             2         26\n",
      "1             4          2\n",
      "2             5         12\n",
      "3             6          4\n",
      "4             7         14\n",
      "...         ...        ...\n",
      "149621   206203         27\n",
      "149622   206206         21\n",
      "149623   206207         46\n",
      "149624   206208        125\n",
      "149625   206209         25\n",
      "\n",
      "[149626 rows x 2 columns]\n",
      "        user_id  reordered\n",
      "0             2          1\n",
      "1             5          8\n",
      "2             7         13\n",
      "3            11          3\n",
      "4            12          3\n",
      "...         ...        ...\n",
      "132986   206203          6\n",
      "132987   206206         15\n",
      "132988   206207         41\n",
      "132989   206208         87\n",
      "132990   206209          8\n",
      "\n",
      "[132991 rows x 2 columns]\n"
     ]
    }
   ],
   "source": [
    "# Se juntan los df para juntar los datos necesarios\n",
    "user_order= instacart_orders.merge(order_products, on='order_id') \n",
    "\n",
    "# Se obtienen los datos de los objetos pedidos \n",
    "user_total_products= user_order.groupby('user_id')['reordered'].count().reset_index() \n",
    "user_reorder= user_order[user_order['reordered']==1].groupby('user_id')['reordered'].count().reset_index()\n",
    "\n",
    "# Se agrupan los datos y se sacan la cantidad de veces que han sido pedidos\n",
    "print(user_total_products)\n",
    "print(user_reorder)"
   ]
  },
  {
   "cell_type": "code",
   "execution_count": 59,
   "id": "8892e4b4",
   "metadata": {
    "id": "8892e4b4"
   },
   "outputs": [
    {
     "data": {
      "text/html": [
       "<div>\n",
       "<style scoped>\n",
       "    .dataframe tbody tr th:only-of-type {\n",
       "        vertical-align: middle;\n",
       "    }\n",
       "\n",
       "    .dataframe tbody tr th {\n",
       "        vertical-align: top;\n",
       "    }\n",
       "\n",
       "    .dataframe thead th {\n",
       "        text-align: right;\n",
       "    }\n",
       "</style>\n",
       "<table border=\"1\" class=\"dataframe\">\n",
       "  <thead>\n",
       "    <tr style=\"text-align: right;\">\n",
       "      <th></th>\n",
       "      <th>user_id</th>\n",
       "      <th>ordered</th>\n",
       "      <th>reordered</th>\n",
       "      <th>proportion</th>\n",
       "    </tr>\n",
       "  </thead>\n",
       "  <tbody>\n",
       "    <tr>\n",
       "      <th>68493</th>\n",
       "      <td>106148</td>\n",
       "      <td>67</td>\n",
       "      <td>1</td>\n",
       "      <td>0.014925</td>\n",
       "    </tr>\n",
       "    <tr>\n",
       "      <th>130092</th>\n",
       "      <td>201663</td>\n",
       "      <td>66</td>\n",
       "      <td>1</td>\n",
       "      <td>0.015152</td>\n",
       "    </tr>\n",
       "    <tr>\n",
       "      <th>100199</th>\n",
       "      <td>155522</td>\n",
       "      <td>58</td>\n",
       "      <td>1</td>\n",
       "      <td>0.017241</td>\n",
       "    </tr>\n",
       "    <tr>\n",
       "      <th>37089</th>\n",
       "      <td>57630</td>\n",
       "      <td>57</td>\n",
       "      <td>1</td>\n",
       "      <td>0.017544</td>\n",
       "    </tr>\n",
       "    <tr>\n",
       "      <th>4778</th>\n",
       "      <td>7349</td>\n",
       "      <td>55</td>\n",
       "      <td>1</td>\n",
       "      <td>0.018182</td>\n",
       "    </tr>\n",
       "    <tr>\n",
       "      <th>...</th>\n",
       "      <td>...</td>\n",
       "      <td>...</td>\n",
       "      <td>...</td>\n",
       "      <td>...</td>\n",
       "    </tr>\n",
       "    <tr>\n",
       "      <th>75056</th>\n",
       "      <td>116344</td>\n",
       "      <td>3</td>\n",
       "      <td>3</td>\n",
       "      <td>1.000000</td>\n",
       "    </tr>\n",
       "    <tr>\n",
       "      <th>118491</th>\n",
       "      <td>183769</td>\n",
       "      <td>3</td>\n",
       "      <td>3</td>\n",
       "      <td>1.000000</td>\n",
       "    </tr>\n",
       "    <tr>\n",
       "      <th>75050</th>\n",
       "      <td>116337</td>\n",
       "      <td>1</td>\n",
       "      <td>1</td>\n",
       "      <td>1.000000</td>\n",
       "    </tr>\n",
       "    <tr>\n",
       "      <th>2906</th>\n",
       "      <td>4473</td>\n",
       "      <td>2</td>\n",
       "      <td>2</td>\n",
       "      <td>1.000000</td>\n",
       "    </tr>\n",
       "    <tr>\n",
       "      <th>11842</th>\n",
       "      <td>18308</td>\n",
       "      <td>3</td>\n",
       "      <td>3</td>\n",
       "      <td>1.000000</td>\n",
       "    </tr>\n",
       "  </tbody>\n",
       "</table>\n",
       "<p>132991 rows × 4 columns</p>\n",
       "</div>"
      ],
      "text/plain": [
       "        user_id  ordered  reordered  proportion\n",
       "68493    106148       67          1    0.014925\n",
       "130092   201663       66          1    0.015152\n",
       "100199   155522       58          1    0.017241\n",
       "37089     57630       57          1    0.017544\n",
       "4778       7349       55          1    0.018182\n",
       "...         ...      ...        ...         ...\n",
       "75056    116344        3          3    1.000000\n",
       "118491   183769        3          3    1.000000\n",
       "75050    116337        1          1    1.000000\n",
       "2906       4473        2          2    1.000000\n",
       "11842     18308        3          3    1.000000\n",
       "\n",
       "[132991 rows x 4 columns]"
      ]
     },
     "execution_count": 59,
     "metadata": {},
     "output_type": "execute_result"
    }
   ],
   "source": [
    "# Se sacan las columnas deseadas\n",
    "user_total_products= user_total_products[['user_id','reordered']] \n",
    "\n",
    "# Se cambia el nombre de una columna para mejor entendimiento\n",
    "user_total_products.columns=['user_id','ordered'] \n",
    "user_reorder= user_reorder[['user_id','reordered']]\n",
    "\n",
    "# Se unen los df\n",
    "user_prdct_proportion= user_total_products.merge(user_reorder, on='user_id') \n",
    "\n",
    "# Se saca la proporción\n",
    "user_prdct_proportion['proportion']= user_prdct_proportion['reordered'] / user_prdct_proportion['ordered'] \n",
    "user_prdct_proportion.sort_values(by='proportion')"
   ]
  },
  {
   "cell_type": "markdown",
   "id": "BgJSvXDsleXz",
   "metadata": {
    "id": "BgJSvXDsleXz"
   },
   "source": [
    "Hay mucha varianza entre cada una de los proporciones de los clientes."
   ]
  },
  {
   "cell_type": "markdown",
   "id": "92d35137",
   "metadata": {
    "id": "92d35137"
   },
   "source": [
    "### ¿Cuáles son los 20 principales artículos que las personas ponen primero en sus carritos?"
   ]
  },
  {
   "cell_type": "code",
   "execution_count": 60,
   "id": "0ae57274",
   "metadata": {
    "id": "0ae57274",
    "scrolled": true
   },
   "outputs": [
    {
     "data": {
      "text/html": [
       "<div>\n",
       "<style scoped>\n",
       "    .dataframe tbody tr th:only-of-type {\n",
       "        vertical-align: middle;\n",
       "    }\n",
       "\n",
       "    .dataframe tbody tr th {\n",
       "        vertical-align: top;\n",
       "    }\n",
       "\n",
       "    .dataframe thead th {\n",
       "        text-align: right;\n",
       "    }\n",
       "</style>\n",
       "<table border=\"1\" class=\"dataframe\">\n",
       "  <thead>\n",
       "    <tr style=\"text-align: right;\">\n",
       "      <th></th>\n",
       "      <th>product_id</th>\n",
       "      <th>orders</th>\n",
       "    </tr>\n",
       "  </thead>\n",
       "  <tbody>\n",
       "    <tr>\n",
       "      <th>0</th>\n",
       "      <td>24852</td>\n",
       "      <td>15562</td>\n",
       "    </tr>\n",
       "    <tr>\n",
       "      <th>1</th>\n",
       "      <td>13176</td>\n",
       "      <td>11026</td>\n",
       "    </tr>\n",
       "    <tr>\n",
       "      <th>2</th>\n",
       "      <td>27845</td>\n",
       "      <td>4363</td>\n",
       "    </tr>\n",
       "    <tr>\n",
       "      <th>3</th>\n",
       "      <td>21137</td>\n",
       "      <td>3946</td>\n",
       "    </tr>\n",
       "    <tr>\n",
       "      <th>4</th>\n",
       "      <td>47209</td>\n",
       "      <td>3390</td>\n",
       "    </tr>\n",
       "    <tr>\n",
       "      <th>...</th>\n",
       "      <td>...</td>\n",
       "      <td>...</td>\n",
       "    </tr>\n",
       "    <tr>\n",
       "      <th>26755</th>\n",
       "      <td>10981</td>\n",
       "      <td>1</td>\n",
       "    </tr>\n",
       "    <tr>\n",
       "      <th>26756</th>\n",
       "      <td>10985</td>\n",
       "      <td>1</td>\n",
       "    </tr>\n",
       "    <tr>\n",
       "      <th>26757</th>\n",
       "      <td>38272</td>\n",
       "      <td>1</td>\n",
       "    </tr>\n",
       "    <tr>\n",
       "      <th>26758</th>\n",
       "      <td>10989</td>\n",
       "      <td>1</td>\n",
       "    </tr>\n",
       "    <tr>\n",
       "      <th>26759</th>\n",
       "      <td>36996</td>\n",
       "      <td>1</td>\n",
       "    </tr>\n",
       "  </tbody>\n",
       "</table>\n",
       "<p>26760 rows × 2 columns</p>\n",
       "</div>"
      ],
      "text/plain": [
       "       product_id  orders\n",
       "0           24852   15562\n",
       "1           13176   11026\n",
       "2           27845    4363\n",
       "3           21137    3946\n",
       "4           47209    3390\n",
       "...           ...     ...\n",
       "26755       10981       1\n",
       "26756       10985       1\n",
       "26757       38272       1\n",
       "26758       10989       1\n",
       "26759       36996       1\n",
       "\n",
       "[26760 rows x 2 columns]"
      ]
     },
     "execution_count": 60,
     "metadata": {},
     "output_type": "execute_result"
    }
   ],
   "source": [
    "# Se sacan los productos colocados de inicio en el carro y se ordenan\n",
    "top_first_prd= order_products[order_products['add_to_cart_order'] == 1].groupby('product_id').count().sort_values(by='order_id',ascending=False).reset_index() \n",
    "\n",
    "# Se sacan las columnas con las cuales se trabajará\n",
    "top_first_prd= top_first_prd[['product_id','order_id']] \n",
    "\n",
    "# Se cambia nombre de la columna para mejor comprensión\n",
    "top_first_prd.columns=['product_id','orders'] \n",
    "top_first_prd"
   ]
  },
  {
   "cell_type": "code",
   "execution_count": 61,
   "id": "forty-netherlands",
   "metadata": {
    "id": "forty-netherlands",
    "scrolled": true
   },
   "outputs": [
    {
     "data": {
      "text/html": [
       "<div>\n",
       "<style scoped>\n",
       "    .dataframe tbody tr th:only-of-type {\n",
       "        vertical-align: middle;\n",
       "    }\n",
       "\n",
       "    .dataframe tbody tr th {\n",
       "        vertical-align: top;\n",
       "    }\n",
       "\n",
       "    .dataframe thead th {\n",
       "        text-align: right;\n",
       "    }\n",
       "</style>\n",
       "<table border=\"1\" class=\"dataframe\">\n",
       "  <thead>\n",
       "    <tr style=\"text-align: right;\">\n",
       "      <th></th>\n",
       "      <th>product_id</th>\n",
       "      <th>orders</th>\n",
       "      <th>product_name</th>\n",
       "      <th>aisle_id</th>\n",
       "      <th>department_id</th>\n",
       "    </tr>\n",
       "  </thead>\n",
       "  <tbody>\n",
       "    <tr>\n",
       "      <th>0</th>\n",
       "      <td>24852</td>\n",
       "      <td>15562</td>\n",
       "      <td>BANANA</td>\n",
       "      <td>24</td>\n",
       "      <td>4</td>\n",
       "    </tr>\n",
       "    <tr>\n",
       "      <th>1</th>\n",
       "      <td>13176</td>\n",
       "      <td>11026</td>\n",
       "      <td>BAG OF ORGANIC BANANAS</td>\n",
       "      <td>24</td>\n",
       "      <td>4</td>\n",
       "    </tr>\n",
       "    <tr>\n",
       "      <th>2</th>\n",
       "      <td>27845</td>\n",
       "      <td>4363</td>\n",
       "      <td>ORGANIC WHOLE MILK</td>\n",
       "      <td>84</td>\n",
       "      <td>16</td>\n",
       "    </tr>\n",
       "    <tr>\n",
       "      <th>3</th>\n",
       "      <td>21137</td>\n",
       "      <td>3946</td>\n",
       "      <td>ORGANIC STRAWBERRIES</td>\n",
       "      <td>24</td>\n",
       "      <td>4</td>\n",
       "    </tr>\n",
       "    <tr>\n",
       "      <th>4</th>\n",
       "      <td>47209</td>\n",
       "      <td>3390</td>\n",
       "      <td>ORGANIC HASS AVOCADO</td>\n",
       "      <td>24</td>\n",
       "      <td>4</td>\n",
       "    </tr>\n",
       "    <tr>\n",
       "      <th>...</th>\n",
       "      <td>...</td>\n",
       "      <td>...</td>\n",
       "      <td>...</td>\n",
       "      <td>...</td>\n",
       "      <td>...</td>\n",
       "    </tr>\n",
       "    <tr>\n",
       "      <th>26755</th>\n",
       "      <td>10981</td>\n",
       "      <td>1</td>\n",
       "      <td>CLOUD WHITE DECORATING CUPCAKE ICING</td>\n",
       "      <td>97</td>\n",
       "      <td>13</td>\n",
       "    </tr>\n",
       "    <tr>\n",
       "      <th>26756</th>\n",
       "      <td>10985</td>\n",
       "      <td>1</td>\n",
       "      <td>PREMIUM TWIN PACK ROCK CORNISH GAME HEN</td>\n",
       "      <td>49</td>\n",
       "      <td>12</td>\n",
       "    </tr>\n",
       "    <tr>\n",
       "      <th>26757</th>\n",
       "      <td>38272</td>\n",
       "      <td>1</td>\n",
       "      <td>ORGANIC RAW COCONUT FLOUR</td>\n",
       "      <td>17</td>\n",
       "      <td>13</td>\n",
       "    </tr>\n",
       "    <tr>\n",
       "      <th>26758</th>\n",
       "      <td>10989</td>\n",
       "      <td>1</td>\n",
       "      <td>GARBAGE DISPOSAL FRESHENER &amp; CLEANER RED PEAR ...</td>\n",
       "      <td>114</td>\n",
       "      <td>17</td>\n",
       "    </tr>\n",
       "    <tr>\n",
       "      <th>26759</th>\n",
       "      <td>36996</td>\n",
       "      <td>1</td>\n",
       "      <td>COOL SPORT SPRAY-ON SUNSCREEN SPF 50</td>\n",
       "      <td>118</td>\n",
       "      <td>11</td>\n",
       "    </tr>\n",
       "  </tbody>\n",
       "</table>\n",
       "<p>26760 rows × 5 columns</p>\n",
       "</div>"
      ],
      "text/plain": [
       "       product_id  orders                                       product_name  \\\n",
       "0           24852   15562                                             BANANA   \n",
       "1           13176   11026                             BAG OF ORGANIC BANANAS   \n",
       "2           27845    4363                                 ORGANIC WHOLE MILK   \n",
       "3           21137    3946                               ORGANIC STRAWBERRIES   \n",
       "4           47209    3390                               ORGANIC HASS AVOCADO   \n",
       "...           ...     ...                                                ...   \n",
       "26755       10981       1               CLOUD WHITE DECORATING CUPCAKE ICING   \n",
       "26756       10985       1            PREMIUM TWIN PACK ROCK CORNISH GAME HEN   \n",
       "26757       38272       1                          ORGANIC RAW COCONUT FLOUR   \n",
       "26758       10989       1  GARBAGE DISPOSAL FRESHENER & CLEANER RED PEAR ...   \n",
       "26759       36996       1               COOL SPORT SPRAY-ON SUNSCREEN SPF 50   \n",
       "\n",
       "       aisle_id  department_id  \n",
       "0            24              4  \n",
       "1            24              4  \n",
       "2            84             16  \n",
       "3            24              4  \n",
       "4            24              4  \n",
       "...         ...            ...  \n",
       "26755        97             13  \n",
       "26756        49             12  \n",
       "26757        17             13  \n",
       "26758       114             17  \n",
       "26759       118             11  \n",
       "\n",
       "[26760 rows x 5 columns]"
      ]
     },
     "execution_count": 61,
     "metadata": {},
     "output_type": "execute_result"
    }
   ],
   "source": [
    "# Se juntan df para obtener nombres de productos\n",
    "top_first_prd_names= top_first_prd.merge(products,on='product_id') \n",
    "top_first_prd_names"
   ]
  },
  {
   "cell_type": "code",
   "execution_count": 62,
   "id": "08e41ec2",
   "metadata": {
    "id": "08e41ec2"
   },
   "outputs": [
    {
     "data": {
      "text/html": [
       "<div>\n",
       "<style scoped>\n",
       "    .dataframe tbody tr th:only-of-type {\n",
       "        vertical-align: middle;\n",
       "    }\n",
       "\n",
       "    .dataframe tbody tr th {\n",
       "        vertical-align: top;\n",
       "    }\n",
       "\n",
       "    .dataframe thead th {\n",
       "        text-align: right;\n",
       "    }\n",
       "</style>\n",
       "<table border=\"1\" class=\"dataframe\">\n",
       "  <thead>\n",
       "    <tr style=\"text-align: right;\">\n",
       "      <th></th>\n",
       "      <th>product_id</th>\n",
       "      <th>product_name</th>\n",
       "      <th>orders</th>\n",
       "    </tr>\n",
       "  </thead>\n",
       "  <tbody>\n",
       "    <tr>\n",
       "      <th>0</th>\n",
       "      <td>24852</td>\n",
       "      <td>BANANA</td>\n",
       "      <td>15562</td>\n",
       "    </tr>\n",
       "    <tr>\n",
       "      <th>1</th>\n",
       "      <td>13176</td>\n",
       "      <td>BAG OF ORGANIC BANANAS</td>\n",
       "      <td>11026</td>\n",
       "    </tr>\n",
       "    <tr>\n",
       "      <th>2</th>\n",
       "      <td>27845</td>\n",
       "      <td>ORGANIC WHOLE MILK</td>\n",
       "      <td>4363</td>\n",
       "    </tr>\n",
       "    <tr>\n",
       "      <th>3</th>\n",
       "      <td>21137</td>\n",
       "      <td>ORGANIC STRAWBERRIES</td>\n",
       "      <td>3946</td>\n",
       "    </tr>\n",
       "    <tr>\n",
       "      <th>4</th>\n",
       "      <td>47209</td>\n",
       "      <td>ORGANIC HASS AVOCADO</td>\n",
       "      <td>3390</td>\n",
       "    </tr>\n",
       "    <tr>\n",
       "      <th>5</th>\n",
       "      <td>21903</td>\n",
       "      <td>ORGANIC BABY SPINACH</td>\n",
       "      <td>3336</td>\n",
       "    </tr>\n",
       "    <tr>\n",
       "      <th>6</th>\n",
       "      <td>47766</td>\n",
       "      <td>ORGANIC AVOCADO</td>\n",
       "      <td>3044</td>\n",
       "    </tr>\n",
       "    <tr>\n",
       "      <th>7</th>\n",
       "      <td>19660</td>\n",
       "      <td>SPRING WATER</td>\n",
       "      <td>2336</td>\n",
       "    </tr>\n",
       "    <tr>\n",
       "      <th>8</th>\n",
       "      <td>16797</td>\n",
       "      <td>STRAWBERRIES</td>\n",
       "      <td>2308</td>\n",
       "    </tr>\n",
       "    <tr>\n",
       "      <th>9</th>\n",
       "      <td>27966</td>\n",
       "      <td>ORGANIC RASPBERRIES</td>\n",
       "      <td>2024</td>\n",
       "    </tr>\n",
       "    <tr>\n",
       "      <th>10</th>\n",
       "      <td>44632</td>\n",
       "      <td>SPARKLING WATER GRAPEFRUIT</td>\n",
       "      <td>1914</td>\n",
       "    </tr>\n",
       "    <tr>\n",
       "      <th>11</th>\n",
       "      <td>49235</td>\n",
       "      <td>ORGANIC HALF &amp; HALF</td>\n",
       "      <td>1797</td>\n",
       "    </tr>\n",
       "    <tr>\n",
       "      <th>12</th>\n",
       "      <td>47626</td>\n",
       "      <td>LARGE LEMON</td>\n",
       "      <td>1737</td>\n",
       "    </tr>\n",
       "    <tr>\n",
       "      <th>13</th>\n",
       "      <td>196</td>\n",
       "      <td>SODA</td>\n",
       "      <td>1733</td>\n",
       "    </tr>\n",
       "    <tr>\n",
       "      <th>14</th>\n",
       "      <td>38689</td>\n",
       "      <td>ORGANIC REDUCED FAT MILK</td>\n",
       "      <td>1397</td>\n",
       "    </tr>\n",
       "    <tr>\n",
       "      <th>15</th>\n",
       "      <td>26209</td>\n",
       "      <td>LIMES</td>\n",
       "      <td>1370</td>\n",
       "    </tr>\n",
       "    <tr>\n",
       "      <th>16</th>\n",
       "      <td>12341</td>\n",
       "      <td>HASS AVOCADOS</td>\n",
       "      <td>1340</td>\n",
       "    </tr>\n",
       "    <tr>\n",
       "      <th>17</th>\n",
       "      <td>5785</td>\n",
       "      <td>ORGANIC REDUCED FAT 2% MILK</td>\n",
       "      <td>1310</td>\n",
       "    </tr>\n",
       "    <tr>\n",
       "      <th>18</th>\n",
       "      <td>27086</td>\n",
       "      <td>HALF &amp; HALF</td>\n",
       "      <td>1309</td>\n",
       "    </tr>\n",
       "    <tr>\n",
       "      <th>19</th>\n",
       "      <td>43352</td>\n",
       "      <td>RASPBERRIES</td>\n",
       "      <td>1246</td>\n",
       "    </tr>\n",
       "  </tbody>\n",
       "</table>\n",
       "</div>"
      ],
      "text/plain": [
       "    product_id                 product_name  orders\n",
       "0        24852                       BANANA   15562\n",
       "1        13176       BAG OF ORGANIC BANANAS   11026\n",
       "2        27845           ORGANIC WHOLE MILK    4363\n",
       "3        21137         ORGANIC STRAWBERRIES    3946\n",
       "4        47209         ORGANIC HASS AVOCADO    3390\n",
       "5        21903         ORGANIC BABY SPINACH    3336\n",
       "6        47766              ORGANIC AVOCADO    3044\n",
       "7        19660                 SPRING WATER    2336\n",
       "8        16797                 STRAWBERRIES    2308\n",
       "9        27966          ORGANIC RASPBERRIES    2024\n",
       "10       44632   SPARKLING WATER GRAPEFRUIT    1914\n",
       "11       49235          ORGANIC HALF & HALF    1797\n",
       "12       47626                  LARGE LEMON    1737\n",
       "13         196                         SODA    1733\n",
       "14       38689     ORGANIC REDUCED FAT MILK    1397\n",
       "15       26209                        LIMES    1370\n",
       "16       12341                HASS AVOCADOS    1340\n",
       "17        5785  ORGANIC REDUCED FAT 2% MILK    1310\n",
       "18       27086                  HALF & HALF    1309\n",
       "19       43352                  RASPBERRIES    1246"
      ]
     },
     "execution_count": 62,
     "metadata": {},
     "output_type": "execute_result"
    }
   ],
   "source": [
    "top_first_prd_names[['product_id','product_name','orders']].head(20)"
   ]
  },
  {
   "cell_type": "markdown",
   "id": "28ce9872",
   "metadata": {
    "id": "28ce9872"
   },
   "source": [
    "Seguimos viendo la tendencia de el plátano como el producto número 1 en ventas, ahora como el primer producto colocado en el carrito, seguimos viendo una mayoría de productos orgánicos en la lista, pero menos que en la lista de más vendidos."
   ]
  },
  {
   "cell_type": "markdown",
   "id": "uITbFCEoDosC",
   "metadata": {
    "id": "uITbFCEoDosC"
   },
   "source": [
    "### Conclusion general del proyecto:"
   ]
  },
  {
   "cell_type": "markdown",
   "id": "a7b01573",
   "metadata": {
    "id": "Nk-4GS7mDwqY"
   },
   "source": [
    "Hay una clara observación, que los alimentos orgánicos predominan los artículos con mayores ventas. La cantidad de \n",
    "productos que suelen hacer los clientes por pedido no es tan elevada, compran a volumen bajo. Se pueden observar que los \n",
    "días con mayor actividad siempre suelen ser en el inicio de semana, pasando por el punto más bajo jueves y viernes. Hay un \n",
    "punto de oportunidad en el enfocarse en ese repunte de clientes en el que se muestra que esperan casi 30 días para volver\n",
    "a realizar un pedido. A pesar de que en los días de la semana pueda haber una diferencia en ventas, es relacional la cantidad\n",
    "de ventas cada hora a lo largo de la semana."
   ]
  }
 ],
 "metadata": {
  "colab": {
   "provenance": []
  },
  "kernelspec": {
   "display_name": "Python 3 (ipykernel)",
   "language": "python",
   "name": "python3"
  },
  "language_info": {
   "codemirror_mode": {
    "name": "ipython",
    "version": 3
   },
   "file_extension": ".py",
   "mimetype": "text/x-python",
   "name": "python",
   "nbconvert_exporter": "python",
   "pygments_lexer": "ipython3",
   "version": "3.11.7"
  },
  "toc": {
   "base_numbering": 1,
   "nav_menu": {},
   "number_sections": true,
   "sideBar": true,
   "skip_h1_title": true,
   "title_cell": "Table of Contents",
   "title_sidebar": "Contents",
   "toc_cell": false,
   "toc_position": {},
   "toc_section_display": true,
   "toc_window_display": false
  },
  "vscode": {
   "interpreter": {
    "hash": "01a7be9ec63e704a62cefc5fe7a4756944464ee731be31632bdf42a4cb4688cf"
   }
  }
 },
 "nbformat": 4,
 "nbformat_minor": 5
}
